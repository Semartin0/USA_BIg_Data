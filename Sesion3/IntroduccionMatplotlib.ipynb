{
 "cells": [
  {
   "cell_type": "markdown",
   "metadata": {},
   "source": [
    "<img src=\"https://www.usergioarboleda.edu.co/wp-content/uploads/ultimatum/imagens/logo-mobile-UniversidadSergioArboleda.png\" alt=\"USA\" width=700>"
   ]
  },
  {
   "cell_type": "markdown",
   "metadata": {},
   "source": [
    "<img align=\"center\" width=\"300\" height=\"500\" src=\"https://matplotlib.org/3.3.1/_static/logo2_compressed.svg\">"
   ]
  },
  {
   "cell_type": "markdown",
   "metadata": {},
   "source": [
    "Matplotlib es una biblioteca muy amplia potente que requiere tiempo de práctica y sobretodo exploracion para dominarla.\n",
    "\n",
    "## ¿Qué es matplotlib?\n",
    "\n",
    "* Estándar para visualización en Python\n",
    "* Pretende ser similar a las funciones de visualización de MATLAB\n",
    "* Diferentes formas de usarla: interfaz `pyplot` y orientada a objetos"
   ]
  },
  {
   "cell_type": "markdown",
   "metadata": {},
   "source": [
    "Es necesario activar el modo *inline* - de esta manera las figuras aparecerán automáticamente en el notebook."
   ]
  },
  {
   "cell_type": "code",
   "execution_count": null,
   "metadata": {},
   "outputs": [],
   "source": [
    "%matplotlib inline"
   ]
  },
  {
   "cell_type": "markdown",
   "metadata": {},
   "source": [
    "Se deben importar los paquetes necesarios:"
   ]
  },
  {
   "cell_type": "code",
   "execution_count": null,
   "metadata": {},
   "outputs": [],
   "source": [
    "import numpy as np\n",
    "import matplotlib.pyplot as plt"
   ]
  },
  {
   "cell_type": "markdown",
   "metadata": {},
   "source": [
    "La biblioteca matplotlib es gigantesca y muy versatil, lo que hace difícil hacerse una idea inicial de todas sus posibilidades en un primer contacto. Es recomendable tener a mano la documentación y la galería (https://matplotlib.org/gallery.html#):"
   ]
  },
  {
   "cell_type": "code",
   "execution_count": null,
   "metadata": {
    "scrolled": true
   },
   "outputs": [],
   "source": [
    "from IPython.display import HTML\n",
    "HTML('<iframe src=\"http://matplotlib.org/gallery.html#pylab_examples\" width=\"800\" height=\"600\"></iframe>')"
   ]
  },
  {
   "cell_type": "markdown",
   "metadata": {},
   "source": [
    "Si hacemos clic en cualquiera de las imágenes, se tiene el código que la ha generado (ejemplo: http://matplotlib.org/examples/pylab_examples/annotation_demo.html):"
   ]
  },
  {
   "cell_type": "code",
   "execution_count": null,
   "metadata": {
    "scrolled": true
   },
   "outputs": [],
   "source": [
    "HTML('<iframe src=\"http://matplotlib.org/examples/pylab_examples/annotation_demo.html\" width=\"800\" height=\"600\"></iframe>')"
   ]
  },
  {
   "cell_type": "markdown",
   "metadata": {},
   "source": [
    "## Interfaz pyplot"
   ]
  },
  {
   "cell_type": "markdown",
   "metadata": {},
   "source": [
    "La interfaz `pyplot` proporciona una serie de funciones que operan sobre un *estado global* - es decir, no se especifica sobre qué gráfica se está actuando. Es una forma rápida y cómoda de crear gráficas pero se pierde un poco del control."
   ]
  },
  {
   "cell_type": "markdown",
   "metadata": {},
   "source": [
    "### Función `plot`"
   ]
  },
  {
   "cell_type": "markdown",
   "metadata": {},
   "source": [
    "El paquete `pyplot` se suele importar bajo el alias `plt`, de modo que todas las funciones se acceden a través de `plt.<funcion>`. La función más básica es la función `plot`:"
   ]
  },
  {
   "cell_type": "code",
   "execution_count": null,
   "metadata": {},
   "outputs": [],
   "source": [
    "plt"
   ]
  },
  {
   "cell_type": "code",
   "execution_count": null,
   "metadata": {},
   "outputs": [],
   "source": [
    "plt.plot([0.0, 0.1, 0.2, 0.7, 0.9], [1, -2, 3, 4, 1])"
   ]
  },
  {
   "cell_type": "markdown",
   "metadata": {},
   "source": [
    "La función `plot` recibe una sola lista (si queremos especificar los valores *y*) o dos listas (si especificamos *x* e *y*). Naturalmente si especificamos dos listas ambas tienen que tener la misma longitud."
   ]
  },
  {
   "cell_type": "markdown",
   "metadata": {},
   "source": [
    "### Ejemplo"
   ]
  },
  {
   "cell_type": "markdown",
   "metadata": {},
   "source": [
    "La tarea más habitual a la hora de trabajar con matplotlib es representar una función. Lo que se debe hacer es definir un dominio y evaluarla en dicho dominio. Por ejemplo:"
   ]
  },
  {
   "cell_type": "markdown",
   "metadata": {},
   "source": [
    "$$ f(x) = e^{-x^2} $$"
   ]
  },
  {
   "cell_type": "code",
   "execution_count": null,
   "metadata": {},
   "outputs": [],
   "source": [
    "def f(x):\n",
    "    return np.exp(-x ** 2)"
   ]
  },
  {
   "cell_type": "markdown",
   "metadata": {},
   "source": [
    "Definimos el dominio con la función `np.linspace`, que crea un vector de puntos equiespaciados:"
   ]
  },
  {
   "cell_type": "code",
   "execution_count": null,
   "metadata": {},
   "outputs": [],
   "source": [
    "x = np.linspace(-1, 3, 100)"
   ]
  },
  {
   "cell_type": "markdown",
   "metadata": {},
   "source": [
    "Y representamos la función:"
   ]
  },
  {
   "cell_type": "code",
   "execution_count": null,
   "metadata": {},
   "outputs": [],
   "source": [
    "plt.plot(x, f(x), label=\"Función f(x)\")\n",
    "plt.xlabel(\"Eje $x$\")\n",
    "plt.ylabel(\"$f(x)$\")\n",
    "plt.legend()\n",
    "plt.title(\"Función $f(x)$\")"
   ]
  },
  {
   "cell_type": "markdown",
   "metadata": {},
   "source": [
    "Se puede observar:\n",
    "\n",
    "* Con diversas llamadas a funciones dentro de `plt.` se actualiza el gráfico *actual*. Esa es la forma de trabajar con la interfaz pyplot.\n",
    "* Podemos añadir etiquetas, y escribir $\\LaTeX$ en ellas. enmarcadas en signos de dólar $$.\n",
    "* Añadiendo como argumento `label` podemos definir una leyenda."
   ]
  },
  {
   "cell_type": "markdown",
   "metadata": {},
   "source": [
    "### Personalización"
   ]
  },
  {
   "cell_type": "markdown",
   "metadata": {},
   "source": [
    "La función `plot` tiene bastantes argumentos para personalizar la forma de la función. Con una letra podemos especificar el color, y con un símbolo el tipo de línea."
   ]
  },
  {
   "cell_type": "code",
   "execution_count": null,
   "metadata": {},
   "outputs": [],
   "source": [
    "plt.plot(x, f(x), 'ro')\n",
    "plt.plot(x, 1 - f(x), 'g--')"
   ]
  },
  {
   "cell_type": "markdown",
   "metadata": {},
   "source": [
    "Esto en realidad son abreviaciones que se corresponden a os argumentos de la función `plot`:"
   ]
  },
  {
   "cell_type": "code",
   "execution_count": null,
   "metadata": {},
   "outputs": [],
   "source": [
    "plt.plot(x, f(x), color='red', linestyle='', marker='o')\n",
    "plt.plot(x, 1 - f(x), c='g', ls='--')"
   ]
  },
  {
   "cell_type": "markdown",
   "metadata": {},
   "source": [
    "La lista de posibles argumentos y abreviaturas está disponible en la documentación de la función `plot` http://matplotlib.org/api/pyplot_api.html#matplotlib.pyplot.plot."
   ]
  },
  {
   "cell_type": "markdown",
   "metadata": {
    "editable": true
   },
   "source": [
    "### Colores y tipos de marcadores de linea"
   ]
  },
  {
   "cell_type": "code",
   "execution_count": null,
   "metadata": {
    "collapsed": false,
    "editable": true,
    "jupyter": {
     "outputs_hidden": false
    }
   },
   "outputs": [],
   "source": [
    "fig, ax = plt.subplots(figsize=(12,6))\n",
    "\n",
    "ax.plot(x, x+1, color=\"blue\", linewidth=0.25)\n",
    "ax.plot(x, x+2, color=\"blue\", linewidth=0.50)\n",
    "ax.plot(x, x+3, color=\"blue\", linewidth=1.00)\n",
    "ax.plot(x, x+4, color=\"blue\", linewidth=2.00)\n",
    "\n",
    "# Opciones posibles de linestype  ‘-‘, ‘--’, ‘-.’, ‘:’, ‘steps’\n",
    "# lw = linewidth\n",
    "# ls = linestyle\n",
    "ax.plot(x, x+5, color=\"red\", lw=2, linestyle='-')\n",
    "ax.plot(x, x+6, color=\"red\", lw=2, ls='-.')\n",
    "ax.plot(x, x+7, color=\"red\", lw=2, ls=':')\n",
    "\n",
    "# Guión personalizado\n",
    "line, = ax.plot(x, x+8, color=\"black\", lw=1.50)\n",
    "line.set_dashes([5, 10, 15, 10]) # format: line length, space length, ...\n",
    "\n",
    "# Posibles simbolos de marcador = '+', 'o', '*', 's', ',', '.', '1', '2', '3', '4', ...\n",
    "ax.plot(x, x+ 9, color=\"green\", lw=2, ls='--', marker='+')\n",
    "ax.plot(x, x+10, color=\"green\", lw=2, ls='--', marker='o')\n",
    "ax.plot(x, x+11, color=\"green\", lw=2, ls='--', marker='s')\n",
    "ax.plot(x, x+12, color=\"green\", lw=2, ls='--', marker='1')\n",
    "\n",
    "# Tamaño y color del marcador\n",
    "ax.plot(x, x+13, color=\"purple\", lw=1, ls='-', marker='o', markersize=2)\n",
    "ax.plot(x, x+14, color=\"purple\", lw=1, ls='-', marker='o', markersize=4)\n",
    "ax.plot(x, x+15, color=\"purple\", lw=1, ls='-', marker='o', markersize=8, markerfacecolor=\"red\")\n",
    "ax.plot(x, x+16, color=\"purple\", lw=1, ls='-', marker='s', markersize=8, \n",
    "        markerfacecolor=\"yellow\", markeredgewidth=2, markeredgecolor=\"blue\");"
   ]
  },
  {
   "cell_type": "markdown",
   "metadata": {},
   "source": [
    "### Más personalización"
   ]
  },
  {
   "cell_type": "markdown",
   "metadata": {},
   "source": [
    "Desde matplotlib 1.4 se puede manipular fácilmente la apariencia de la gráfica usando **estilos**. Para ver los estilos disponibles se escribre `plt.style.available`."
   ]
  },
  {
   "cell_type": "code",
   "execution_count": null,
   "metadata": {},
   "outputs": [],
   "source": [
    "plt.style.available"
   ]
  },
  {
   "cell_type": "markdown",
   "metadata": {},
   "source": [
    "Es posible crear estilos propios. Para activar uno de ellos, usamos `plt.style.use`."
   ]
  },
  {
   "cell_type": "code",
   "execution_count": null,
   "metadata": {},
   "outputs": [],
   "source": [
    "#plt.style.use(\"classic\")  # Afecta a todos los plots"
   ]
  },
  {
   "cell_type": "markdown",
   "metadata": {},
   "source": [
    "Para emplear un estilo solo a una porción del código, se debe crear un bloque `with plt.style.context(\"STYLE\")`:"
   ]
  },
  {
   "cell_type": "code",
   "execution_count": null,
   "metadata": {},
   "outputs": [],
   "source": [
    "with plt.style.context('ggplot'):\n",
    "    plt.plot(x, f(x))\n",
    "    plt.plot(x, 1 - f(x))"
   ]
  },
  {
   "cell_type": "markdown",
   "metadata": {},
   "source": [
    "Es posible explorar muchos estilos"
   ]
  },
  {
   "cell_type": "code",
   "execution_count": null,
   "metadata": {},
   "outputs": [],
   "source": [
    "with plt.xkcd():\n",
    "    plt.plot(x, f(x))\n",
    "    plt.plot(x, 1 - f(x))\n",
    "    plt.xlabel(\"Eje x\")\n",
    "    plt.ylabel(\"Eje y\")"
   ]
  },
  {
   "cell_type": "markdown",
   "metadata": {
    "colab_type": "text",
    "id": "z1T_VJp7uMti"
   },
   "source": [
    "### Creación de múltiples figuras en el mismo lienzo"
   ]
  },
  {
   "cell_type": "markdown",
   "metadata": {
    "colab_type": "text",
    "id": "Aq0TtennoEE-"
   },
   "source": [
    "Matplotlib permite dibujar mas de una gŕafica sobre el mismo espacio o canvas, esto se realiza mediante la función subplot, la cual recibe básicamente tres parametros que corresponden al número de filas, el número de columnas y el número del 'plot'."
   ]
  },
  {
   "cell_type": "code",
   "execution_count": null,
   "metadata": {
    "colab": {
     "base_uri": "https://localhost:8080/",
     "height": 282
    },
    "colab_type": "code",
    "executionInfo": {
     "elapsed": 715,
     "status": "ok",
     "timestamp": 1583587434862,
     "user": {
      "displayName": "Beimar Rodriguez",
      "photoUrl": "https://lh3.googleusercontent.com/a-/AOh14GjuX40-0URd_w6GeGbIxaGemRJIwK0vNXOoFOBeCg=s64",
      "userId": "17662544329171634219"
     },
     "user_tz": 300
    },
    "id": "_LQGGCTZuMtj",
    "outputId": "1adf0b3e-c559-4b1e-97ce-6772f98844dd"
   },
   "outputs": [],
   "source": [
    "# plt.subplot(nrows, ncols, plot_number)\n",
    "plt.subplot(1,2,1)      # 1 fila, 2 columnas y se esta referenciando el número 1\n",
    "plt.plot(x, f(x), 'r--')\n",
    "plt.subplot(1,2,2)      # ahora se referencia el plot número 2\n",
    "plt.plot(x, f(x), 'g*--')"
   ]
  },
  {
   "cell_type": "markdown",
   "metadata": {
    "colab_type": "text",
    "id": "o3h2A1EAuMtm"
   },
   "source": [
    "___\n",
    "## Método orientado a objetos\n",
    "\n",
    "A continuación se procede a una introducción al método orientado a objetos de Matplotlib. \n",
    "\n",
    "La lógica consiste en  crear objetos de la clase Figura y luego emplear métodos o atributos de ese objeto. Este enfoque es más práctico cuando se trata de un canvas que tiene múltiples gráficos en él.\n",
    "\n",
    "Para comenzar, creamos una instancia de figura, posteriormente se agregan los ejes a esa figura, los ejes se adicionan con la función add_axes(), la cual recibe como parametros valores entre cero y uno en notación decimal que representan en forma porcentual la posición de los ejes (izquierda, abajo), y las dimensiones de estos (ancho, alto):"
   ]
  },
  {
   "cell_type": "code",
   "execution_count": null,
   "metadata": {
    "colab": {
     "base_uri": "https://localhost:8080/",
     "height": 193
    },
    "colab_type": "code",
    "executionInfo": {
     "elapsed": 687,
     "status": "ok",
     "timestamp": 1583587731025,
     "user": {
      "displayName": "Beimar Rodriguez",
      "photoUrl": "https://lh3.googleusercontent.com/a-/AOh14GjuX40-0URd_w6GeGbIxaGemRJIwK0vNXOoFOBeCg=s64",
      "userId": "17662544329171634219"
     },
     "user_tz": 300
    },
    "id": "MzjvmDFFrxvI",
    "outputId": "3670cc70-b2f6-4bda-e2ad-10fdaa83540a"
   },
   "outputs": [],
   "source": [
    "fig = plt.figure()   #Creamos una Figura (lienzo vacío) \n",
    "ejes = fig.add_axes([0.2, 0.1, 0.8, 0.4])   #añadimos los ejes\n",
    "ejes.plot(x, f(x), 'r--')     # 'r' hace referencia al color rojo (forma rgb)\n",
    "ejes.set_xlabel('Eje X') # Nótese el uso de \"set_\" al principio del nombre de los métodos\n",
    "ejes.set_ylabel('Eje Y')\n",
    "ejes.set_title('Título de la Figura')\n",
    "\n",
    "fig.show()"
   ]
  },
  {
   "cell_type": "markdown",
   "metadata": {
    "colab_type": "text",
    "id": "v4iRY62VuMtp"
   },
   "source": [
    "Aunque en principio el código puede parecer un poco más complicado, el método orientado a objetos tiene mayores ventajas que el método convencional, ya que permite mas control sobre la diagramación, por ejemplo se tiene mas control sobre el manejo y ubicación de los ejes, pudiendo entre otras cosas trabajar con mas de un par de ejes sobre una misma gráfica como se muestra en el siguiente ejemplo:"
   ]
  },
  {
   "cell_type": "code",
   "execution_count": null,
   "metadata": {
    "colab": {
     "base_uri": "https://localhost:8080/",
     "height": 308
    },
    "colab_type": "code",
    "executionInfo": {
     "elapsed": 1047,
     "status": "ok",
     "timestamp": 1583587995010,
     "user": {
      "displayName": "Beimar Rodriguez",
      "photoUrl": "https://lh3.googleusercontent.com/a-/AOh14GjuX40-0URd_w6GeGbIxaGemRJIwK0vNXOoFOBeCg=s64",
      "userId": "17662544329171634219"
     },
     "user_tz": 300
    },
    "id": "t7hoUz4TuMtq",
    "outputId": "bc2fff20-3da5-4f26-e576-48880a6c4459"
   },
   "outputs": [],
   "source": [
    "# Crea un canvas vacío\n",
    "fig = plt.figure()\n",
    "\n",
    "axes1 = fig.add_axes([0.1, 0.1, 0.8, 0.8]) # eje principal\n",
    "axes2 = fig.add_axes([0.4, 0.4, 0.3, 0.4]) # eje interior\n",
    "\n",
    "\n",
    "# Figura principal Axes 1\n",
    "axes1.plot(x, f(x), 'b')\n",
    "axes1.set_xlabel('Eje X Principal 1')\n",
    "axes1.set_ylabel('Eje Y Principal 1')\n",
    "axes1.set_title('Título Principal 1')\n",
    "\n",
    "# Inserta Figura Axes 2\n",
    "axes2.plot(x, f(x), 'b')\n",
    "axes2.set_xlabel('Eje X interior 2')\n",
    "axes2.set_ylabel('Eje Y interior 2')\n",
    "axes2.set_title('Título interior 2')\n",
    "axes2.set_facecolor('r')\n",
    "\n",
    "fig.show()"
   ]
  },
  {
   "cell_type": "markdown",
   "metadata": {
    "colab_type": "text",
    "id": "UQ-dC7sIuMtt"
   },
   "source": [
    "### subplots()\n",
    "\n",
    "El método plt.subplots() sirve como gestor automático de gráficos, de esta manera se pueden crear mas de una gŕafica sobre un mismo canvas o instancia de figure. El método retorna una instancia de tipo figura y un arreglo de ejes que referencia a cada una de las gŕaficas.\n",
    "\n",
    "Casos de uso básicos:"
   ]
  },
  {
   "cell_type": "code",
   "execution_count": null,
   "metadata": {
    "colab": {
     "base_uri": "https://localhost:8080/",
     "height": 295
    },
    "colab_type": "code",
    "executionInfo": {
     "elapsed": 682,
     "status": "ok",
     "timestamp": 1583588072077,
     "user": {
      "displayName": "Beimar Rodriguez",
      "photoUrl": "https://lh3.googleusercontent.com/a-/AOh14GjuX40-0URd_w6GeGbIxaGemRJIwK0vNXOoFOBeCg=s64",
      "userId": "17662544329171634219"
     },
     "user_tz": 300
    },
    "id": "3s55xohguMtu",
    "outputId": "dfffe720-21d3-478d-a989-cbf4ba457c11"
   },
   "outputs": [],
   "source": [
    "# Se usa de forma similar a plt.figure() excepto que devuelve al mismo tiempo un objeto Figura y un objeto (o un arreglo) de ejes\n",
    "fig, axes = plt.subplots()\n",
    "\n",
    "# Ahora se usa el eje, como antes, para graficar en él\n",
    "axes.plot(x, f(x), 'r')\n",
    "axes.set_xlabel('x')\n",
    "axes.set_ylabel('y')\n",
    "axes.set_title('Título');\n"
   ]
  },
  {
   "cell_type": "markdown",
   "metadata": {
    "colab_type": "text",
    "id": "EmXloW_quMtz"
   },
   "source": [
    "En el llamado al método subplots(), se puede especificar el número de filas y columnas en que se dividirá el canvas para mostrar el arreglo de figuras que se desee, cada eje retornado en el arreglo puede ser referenciado mediante el uso de indices, para controlar de manera independiente las propiedades y el aspecto de cada gŕafico. El número de columnas se define mediante el parámetro nrows y el de columnas mediante el parametro ncols, en el siguiente ejemplo se ilustra el uso mediante la creación de un canvas con 1 fila y dos columnas ( dos gráficos )"
   ]
  },
  {
   "cell_type": "markdown",
   "metadata": {
    "colab_type": "text",
    "id": "_1J4wdCoyQ7i"
   },
   "source": [
    "El objeto axes retornado es un arreglo de ejes sobre los cuales se puede graficar, por lo tanto es posible: referenciar cada gráfico mediante sus indices, graficar sobre cada uno de ellos y definir su aspecto de manera independiente:\n",
    "\n",
    "---\n",
    "\n"
   ]
  },
  {
   "cell_type": "code",
   "execution_count": null,
   "metadata": {
    "colab": {
     "base_uri": "https://localhost:8080/",
     "height": 281
    },
    "colab_type": "code",
    "executionInfo": {
     "elapsed": 671,
     "status": "ok",
     "timestamp": 1583588309449,
     "user": {
      "displayName": "Beimar Rodriguez",
      "photoUrl": "https://lh3.googleusercontent.com/a-/AOh14GjuX40-0URd_w6GeGbIxaGemRJIwK0vNXOoFOBeCg=s64",
      "userId": "17662544329171634219"
     },
     "user_tz": 300
    },
    "id": "WJmU5ftLuMt6",
    "outputId": "c5907e5f-fd5a-4a0f-eeab-5480fd8e644e"
   },
   "outputs": [],
   "source": [
    "fig, axes = plt.subplots(nrows=1, ncols=2)\n",
    "axes[0].plot(x, f(x),'r--')\n",
    "axes[1].plot(x, f(x),'b')\n",
    "axes[0].set_title('Gráfico 1')\n",
    "axes[1].set_title('Gráfico 2')\n",
    "plt.show()"
   ]
  },
  {
   "cell_type": "markdown",
   "metadata": {
    "colab_type": "text",
    "id": "2hhvzDPCCfnP"
   },
   "source": [
    "subplots tambien puede ser definido con mas de una fila y mas de una columna:"
   ]
  },
  {
   "cell_type": "code",
   "execution_count": null,
   "metadata": {
    "colab": {
     "base_uri": "https://localhost:8080/",
     "height": 297
    },
    "colab_type": "code",
    "executionInfo": {
     "elapsed": 1839,
     "status": "ok",
     "timestamp": 1583589118226,
     "user": {
      "displayName": "Beimar Rodriguez",
      "photoUrl": "https://lh3.googleusercontent.com/a-/AOh14GjuX40-0URd_w6GeGbIxaGemRJIwK0vNXOoFOBeCg=s64",
      "userId": "17662544329171634219"
     },
     "user_tz": 300
    },
    "id": "dKhrV6nKuMuF",
    "outputId": "f5e18404-7997-47a2-fcb8-fb24767e3e11"
   },
   "outputs": [],
   "source": [
    "# Canvas vacío de 2x4 subplots\n",
    "fig, axes = plt.subplots(nrows=2, ncols=4)\n",
    "axes[0][2].plot(x, f(x), 'b')\n",
    "fig.tight_layout()   #para evitar superposición de elementos"
   ]
  },
  {
   "cell_type": "markdown",
   "metadata": {
    "colab_type": "text",
    "id": "4ZcfOJH4uMuR"
   },
   "source": [
    "Un problema común con matplolib es la superposición de gráficos. Podemos utilizar el método **fig.tight_layout ()** o **plt.tight_layout ()** para ajustar automáticamente las posiciones de los ejes en el canvas de la figura para que no haya contenido superpuesto."
   ]
  },
  {
   "cell_type": "markdown",
   "metadata": {
    "colab_type": "text",
    "id": "87XOi38guMuO"
   },
   "source": [
    "Para este caso, en el que se definen mas de una fila y columna, el arreglo de ejes retornados será una matriz de n x n y se puede acceder cada gráfico ya sea iterando sobre este arreglo, o mediante el uso de indices para referenciar cada elemento de una matriz bidimencional: "
   ]
  },
  {
   "cell_type": "code",
   "execution_count": null,
   "metadata": {
    "colab": {
     "base_uri": "https://localhost:8080/",
     "height": 297
    },
    "colab_type": "code",
    "executionInfo": {
     "elapsed": 1744,
     "status": "ok",
     "timestamp": 1583589134611,
     "user": {
      "displayName": "Beimar Rodriguez",
      "photoUrl": "https://lh3.googleusercontent.com/a-/AOh14GjuX40-0URd_w6GeGbIxaGemRJIwK0vNXOoFOBeCg=s64",
      "userId": "17662544329171634219"
     },
     "user_tz": 300
    },
    "id": "83K4TOKSuMuO",
    "outputId": "8f2629b3-5af1-4867-a87e-98f372cb8bfd"
   },
   "outputs": [],
   "source": [
    "for fila in axes:                   #Acceso mediante la iteración de sus elementos\n",
    "  for eje in fila:\n",
    "    eje.plot(x, f(x), 'b')\n",
    "    eje.set_xlabel('x')\n",
    "    eje.set_ylabel('y')\n",
    "    eje.set_title('title')\n",
    "\n",
    "axes[1][1].clear()\n",
    "axes[1][1].plot(x, f(x), 'r--')\n",
    "\n",
    "axes[1][2].clear()\n",
    "axes[1][2].plot(x, f(x), 'r')          #Acceso mediante uso de sus indices\n",
    "\n",
    "axes[1][-3].clear()\n",
    "axes[1][-3].plot(x, f(x), 'g--')          #Acceso mediante uso de sus indices\n",
    "\n",
    "# Para mostrar la figura    \n",
    "fig.tight_layout()\n",
    "fig"
   ]
  },
  {
   "cell_type": "markdown",
   "metadata": {
    "editable": true
   },
   "source": [
    "### Tamaño de la figura, relación de aspecto y DPI"
   ]
  },
  {
   "cell_type": "code",
   "execution_count": null,
   "metadata": {
    "collapsed": false,
    "editable": true,
    "jupyter": {
     "outputs_hidden": false
    }
   },
   "outputs": [],
   "source": [
    "fig = plt.figure(figsize=(8,4), dpi=100)\n",
    "fig, axes = plt.subplots(figsize=(12,3))\n",
    "\n",
    "axes.plot(x, f(x), 'r')\n",
    "axes.set_xlabel('x')\n",
    "axes.set_ylabel('y')\n",
    "axes.set_title('titulo de la figura');"
   ]
  },
  {
   "cell_type": "markdown",
   "metadata": {
    "colab_type": "text",
    "id": "nYqdqm_nuMvS"
   },
   "source": [
    "## Tipos de gráficos\n",
    "\n",
    "En Matplotlib se pueden crear varios tipos de gráficos: barplots, histogramas, scatter plots, y muchos más."
   ]
  },
  {
   "cell_type": "markdown",
   "metadata": {
    "colab_type": "text",
    "id": "kObGAbxKXin-"
   },
   "source": [
    "La forma de uso de estas funciones, es similar al de la función plot, se envían como argumentos básicos los datos a graficar contenidos en dos arreglos, y es posible la personalización de algunas propiedades del gráfico de acuerdo con el tipo de gráfico que se este usando mediante el envío de parámetros opcionales.\n",
    "\n"
   ]
  },
  {
   "cell_type": "markdown",
   "metadata": {
    "colab_type": "text",
    "id": "RyFAZXT_ZT0J"
   },
   "source": [
    "### scatter()\n",
    "\n",
    "En el ejemplo siguiente se usa la función scatter, con esta se grafican los datos de una manera despersa como se ve en el resultado"
   ]
  },
  {
   "cell_type": "code",
   "execution_count": null,
   "metadata": {},
   "outputs": [],
   "source": [
    "N = 100\n",
    "x = np.random.randn(N)\n",
    "y = np.random.randn(N)"
   ]
  },
  {
   "cell_type": "code",
   "execution_count": null,
   "metadata": {
    "colab": {
     "base_uri": "https://localhost:8080/",
     "height": 282
    },
    "colab_type": "code",
    "executionInfo": {
     "elapsed": 637,
     "status": "ok",
     "timestamp": 1583590053656,
     "user": {
      "displayName": "Beimar Rodriguez",
      "photoUrl": "https://lh3.googleusercontent.com/a-/AOh14GjuX40-0URd_w6GeGbIxaGemRJIwK0vNXOoFOBeCg=s64",
      "userId": "17662544329171634219"
     },
     "user_tz": 300
    },
    "id": "Vf5_prQOuMvT",
    "outputId": "d35a3e38-f979-4985-cb00-1c430fe6662a"
   },
   "outputs": [],
   "source": [
    "plt.scatter(x, y)"
   ]
  },
  {
   "cell_type": "code",
   "execution_count": null,
   "metadata": {
    "colab": {
     "base_uri": "https://localhost:8080/",
     "height": 282
    },
    "colab_type": "code",
    "executionInfo": {
     "elapsed": 637,
     "status": "ok",
     "timestamp": 1583590053656,
     "user": {
      "displayName": "Beimar Rodriguez",
      "photoUrl": "https://lh3.googleusercontent.com/a-/AOh14GjuX40-0URd_w6GeGbIxaGemRJIwK0vNXOoFOBeCg=s64",
      "userId": "17662544329171634219"
     },
     "user_tz": 300
    },
    "id": "Vf5_prQOuMvT",
    "outputId": "d35a3e38-f979-4985-cb00-1c430fe6662a"
   },
   "outputs": [],
   "source": [
    "plt.scatter(x,y,marker='+')"
   ]
  },
  {
   "cell_type": "code",
   "execution_count": null,
   "metadata": {},
   "outputs": [],
   "source": [
    "s = np.abs(50 + 50 * np.random.randn(N))\n",
    "c = np.random.randn(N)\n",
    "\n",
    "plt.scatter(x, y, s=s, c=c, cmap=plt.cm.Blues)\n",
    "plt.colorbar()"
   ]
  },
  {
   "cell_type": "code",
   "execution_count": null,
   "metadata": {},
   "outputs": [],
   "source": [
    "plt.scatter(x, y, s=s, c=c, cmap=plt.cm.Oranges)\n",
    "plt.colorbar()"
   ]
  },
  {
   "cell_type": "markdown",
   "metadata": {},
   "source": [
    "matplotlib trae por defecto muchos mapas de colores. En las SciPy Lecture Notes dan una lista de todos ellos\n",
    "\n",
    "<img src=\"https://matplotlib.org/3.1.1/_images/sphx_glr_colormap_reference_007.png\" alt=\"USA\" width=700>"
   ]
  },
  {
   "cell_type": "markdown",
   "metadata": {
    "colab_type": "text",
    "id": "X-gjSC8MZpSi"
   },
   "source": [
    "### hist()\n",
    "\n",
    "Esta función permite la diagramación de los datos con estilo tipo histograma, en donde los datos son representados por barras verticales a lo largo del eje x, en el ejemplo siguiente se ilustra su uso para lo cual se generan previamente los arrays con los datos a diagramar.\n",
    "\n",
    "El parametro bins define la cantidad de barras para el diagrama, este puede ser un valor númerico, un rango, o una cadena. (para el caso de una cadena, esta debe correponder a uno de los valores preestablecidos de acuerdo, los cuales puede consultar en la documentación en donde también se detallan los parámetros que acepta esta función https://matplotlib.org/api/_as_gen/matplotlib.pyplot.hist.html )\n"
   ]
  },
  {
   "cell_type": "code",
   "execution_count": null,
   "metadata": {
    "colab": {
     "base_uri": "https://localhost:8080/",
     "height": 316
    },
    "colab_type": "code",
    "executionInfo": {
     "elapsed": 664,
     "status": "ok",
     "timestamp": 1583590063298,
     "user": {
      "displayName": "Beimar Rodriguez",
      "photoUrl": "https://lh3.googleusercontent.com/a-/AOh14GjuX40-0URd_w6GeGbIxaGemRJIwK0vNXOoFOBeCg=s64",
      "userId": "17662544329171634219"
     },
     "user_tz": 300
    },
    "id": "Kbfmfbk-uMvW",
    "outputId": "55ebb016-340e-46e9-afc7-88cbf5c3d751"
   },
   "outputs": [],
   "source": [
    "from random import sample\n",
    "data = sample(range(1, 100), 50)  #De esta forma se genera un arreglo de 50 elementos con valores aleatorios comprendidos entre 1 y 100\n",
    "plt.hist(data, bins=5, width=5)   #bins define el número de barras (10 por defecto)"
   ]
  },
  {
   "cell_type": "markdown",
   "metadata": {
    "colab_type": "text",
    "id": "5VvwVVynqT6v"
   },
   "source": [
    "### boxplot()\n",
    "\n",
    "Mediante esta función se gráfican los datos en un diagrama de cajas, para el ejemplo siguiente se grafican los diagramas de caja de tres arreglos generados aleatoriamente con desviación estandar de 1, 2 y 3 respectivamente:"
   ]
  },
  {
   "cell_type": "code",
   "execution_count": null,
   "metadata": {
    "colab": {
     "base_uri": "https://localhost:8080/",
     "height": 269
    },
    "colab_type": "code",
    "executionInfo": {
     "elapsed": 12241,
     "status": "ok",
     "timestamp": 1566016409573,
     "user": {
      "displayName": "Jorge Eliecer Camargo Mendoza",
      "photoUrl": "https://lh4.googleusercontent.com/-J1fIn1CGWok/AAAAAAAAAAI/AAAAAAAACYs/SSMWWolyU4Y/s64/photo.jpg",
      "userId": "02835507447501590248"
     },
     "user_tz": 300
    },
    "id": "987p3x9huMvZ",
    "outputId": "12abca20-d3c1-4a74-816e-5d2299aaa8c1"
   },
   "outputs": [],
   "source": [
    "data = [np.random.normal(0, std, 100) for std in range(1, 4)] #contendrá 3 arreglos de 100 elementos cada uno, con valores aleatorios de distribución normal\n",
    "                                                              #con desviación estandar variando entre 1 y 3 \n",
    "# boxplot rectangular\n",
    "plt.boxplot(data,vert=True,patch_artist=True)\n",
    "plt.show()"
   ]
  },
  {
   "cell_type": "markdown",
   "metadata": {
    "editable": true
   },
   "source": [
    "## Diagramas de Pastel"
   ]
  },
  {
   "cell_type": "code",
   "execution_count": null,
   "metadata": {
    "collapsed": false,
    "editable": true,
    "jupyter": {
     "outputs_hidden": false
    }
   },
   "outputs": [],
   "source": [
    "labels = ['Nokia','Samsung','Apple','Lumia']\n",
    "values = [10,30,45,15]\n",
    "colors = ['yellow','green','red','blue']\n",
    "plt.pie(values,labels=labels,colors=colors)\n",
    "plt.axis('equal')"
   ]
  },
  {
   "cell_type": "markdown",
   "metadata": {
    "editable": true
   },
   "source": [
    "## Mapas de Contorno"
   ]
  },
  {
   "cell_type": "code",
   "execution_count": null,
   "metadata": {
    "collapsed": false,
    "editable": true,
    "jupyter": {
     "outputs_hidden": false
    }
   },
   "outputs": [],
   "source": [
    "xlist = np.linspace(-3.0, 3.0, 100)\n",
    "ylist = np.linspace(-3.0, 3.0, 100)\n",
    "X, Y = np.meshgrid(xlist, ylist)\n",
    "Z = np.sqrt(X ** 2 + Y ** 2 )\n",
    "plt.figure()\n",
    "levels = [0.0, 0.2, 0.5, 0.9, 1.5, 2.5, 3.5]\n",
    "contour = plt.contour(X, Y, Z, levels, colors='k')\n",
    "plt.clabel(contour, colors = 'k', fmt = '%2.1f', fontsize=12)\n",
    "contour_filled = plt.contourf(X, Y, Z, levels)\n",
    "\n",
    "plt.colorbar(contour_filled)\n",
    "plt.title('Nivel')\n",
    "plt.xlabel('x (cm)')\n",
    "plt.ylabel('y (cm)')\n",
    "plt.show()"
   ]
  },
  {
   "cell_type": "markdown",
   "metadata": {
    "editable": true
   },
   "source": [
    "## Figuras en 3D"
   ]
  },
  {
   "cell_type": "code",
   "execution_count": null,
   "metadata": {
    "collapsed": false,
    "editable": true,
    "jupyter": {
     "outputs_hidden": false
    }
   },
   "outputs": [],
   "source": [
    "from mpl_toolkits.mplot3d import Axes3D\n",
    " \n",
    "import matplotlib.pyplot as plt\n",
    "\n",
    "fig = plt.figure()\n",
    "ax = Axes3D(fig)\n",
    "X = np.arange(-2,2,0.1)\n",
    "Y = np.arange(-2,2,0.1)\n",
    "X,Y = np.meshgrid(X,Y)\n",
    "\n",
    "def f(x,y):\n",
    "    return (1 - y**5 + x**5)*np.exp(-x**2-y**2)\n",
    "\n",
    "ax.plot_surface(X,Y,f(X,Y), rstride=1, cstride=1)"
   ]
  },
  {
   "cell_type": "markdown",
   "metadata": {
    "editable": true
   },
   "source": [
    "### Rango de trazado de figuras\n"
   ]
  },
  {
   "cell_type": "code",
   "execution_count": null,
   "metadata": {
    "collapsed": false,
    "editable": true,
    "jupyter": {
     "outputs_hidden": false
    }
   },
   "outputs": [],
   "source": [
    "fig, axes = plt.subplots(1, 3, figsize=(12, 4))\n",
    "\n",
    "axes[0].plot(x, x**2, x, x**3)\n",
    "axes[0].set_title(\"Por defecto\")\n",
    "\n",
    "axes[1].plot(x, x**2, x, x**3)\n",
    "axes[1].axis('tight')\n",
    "axes[1].set_title(\"tight\")\n",
    "\n",
    "axes[2].plot(x, x**2, x, x**3)\n",
    "axes[2].set_ylim([0, 60])\n",
    "axes[2].set_xlim([2, 5])\n",
    "axes[2].set_title(\"Definidos\");"
   ]
  },
  {
   "cell_type": "markdown",
   "metadata": {
    "editable": true
   },
   "source": [
    "## Cuadrícula del eje\n",
    "\n",
    "Con el método de cuadrícula en el objeto de eje, es posible activar y desactivar líneas de cuadrícula. "
   ]
  },
  {
   "cell_type": "code",
   "execution_count": null,
   "metadata": {
    "collapsed": false,
    "editable": true,
    "jupyter": {
     "outputs_hidden": false
    }
   },
   "outputs": [],
   "source": [
    "fig, axes = plt.subplots(1, 2, figsize=(10,3))\n",
    "\n",
    "# default grid appearance\n",
    "axes[0].plot(x, x**2, x, x**3, lw=2)\n",
    "axes[0].grid(True)\n",
    "\n",
    "# custom grid appearance\n",
    "axes[1].plot(x, x**2, x, x**3, lw=2)\n",
    "axes[1].grid(color='b', alpha=0.5, linestyle='dashed', linewidth=0.5)"
   ]
  },
  {
   "cell_type": "markdown",
   "metadata": {
    "editable": true
   },
   "source": [
    "### Guardando imágenes\n",
    "\n",
    "Para guardar una figura en un archivo, se usa el método savefig de la clase Figure:"
   ]
  },
  {
   "cell_type": "code",
   "execution_count": null,
   "metadata": {
    "editable": true
   },
   "outputs": [],
   "source": [
    "fig.savefig(\"filename.png\")"
   ]
  },
  {
   "cell_type": "markdown",
   "metadata": {
    "editable": true
   },
   "source": [
    "Aquí también podemos especificar opcionalmente el DPI y elegir entre diferentes formatos de salida:"
   ]
  },
  {
   "cell_type": "code",
   "execution_count": null,
   "metadata": {
    "editable": true
   },
   "outputs": [],
   "source": [
    "fig.savefig(\"filename.png\", dpi=200)"
   ]
  },
  {
   "cell_type": "markdown",
   "metadata": {
    "editable": true
   },
   "source": [
    "¿Qué formatos están disponibles y cuáles deben utilizarse para obtener la mejor calidad? \n",
    "\n",
    "Matplotlib puede generar salida de alta calidad en un número de formatos, incluyendo PNG, JPG, EPS, SVG, PGF y PDF."
   ]
  },
  {
   "cell_type": "markdown",
   "metadata": {},
   "source": [
    "## Referencias"
   ]
  },
  {
   "cell_type": "markdown",
   "metadata": {},
   "source": [
    "* Guía de matplotlib  http://matplotlib.org/users/beginner.html\n",
    "* Tutorial de matplotlib http://pybonacci.org/tag/tutorial-matplotlib-pyplot/\n",
    "* Referencia rápida de matplotlib http://scipy-lectures.github.io/intro/matplotlib/matplotlib.html#quick-references"
   ]
  }
 ],
 "metadata": {
  "kernelspec": {
   "display_name": "Python 3",
   "language": "python",
   "name": "python3"
  },
  "language_info": {
   "codemirror_mode": {
    "name": "ipython",
    "version": 3
   },
   "file_extension": ".py",
   "mimetype": "text/x-python",
   "name": "python",
   "nbconvert_exporter": "python",
   "pygments_lexer": "ipython3",
   "version": "3.7.4"
  }
 },
 "nbformat": 4,
 "nbformat_minor": 4
}
