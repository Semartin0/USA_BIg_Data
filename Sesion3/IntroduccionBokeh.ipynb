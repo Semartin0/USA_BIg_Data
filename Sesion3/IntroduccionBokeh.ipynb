{
 "cells": [
  {
   "cell_type": "markdown",
   "metadata": {},
   "source": [
    "<img src=\"https://www.usergioarboleda.edu.co/wp-content/uploads/ultimatum/imagens/logo-mobile-UniversidadSergioArboleda.png\" alt=\"USA\" width=700>"
   ]
  },
  {
   "cell_type": "markdown",
   "metadata": {},
   "source": [
    "<img align=\"center\" width=\"300\" height=\"500\" src=\"data:image/png;base64,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\">"
   ]
  },
  {
   "cell_type": "code",
   "execution_count": 8,
   "metadata": {
    "collapsed": true,
    "jupyter": {
     "outputs_hidden": true
    }
   },
   "outputs": [
    {
     "name": "stdout",
     "output_type": "stream",
     "text": [
      "Requirement already satisfied: bokeh in c:\\users\\user\\anaconda3\\lib\\site-packages (1.3.4)\n",
      "Requirement already satisfied: pillow>=4.0 in c:\\users\\user\\anaconda3\\lib\\site-packages (from bokeh) (6.2.0)\n",
      "Requirement already satisfied: six>=1.5.2 in c:\\users\\user\\anaconda3\\lib\\site-packages (from bokeh) (1.12.0)\n",
      "Requirement already satisfied: Jinja2>=2.7 in c:\\users\\user\\anaconda3\\lib\\site-packages (from bokeh) (2.10.3)\n",
      "Requirement already satisfied: python-dateutil>=2.1 in c:\\users\\user\\anaconda3\\lib\\site-packages (from bokeh) (2.8.0)\n",
      "Requirement already satisfied: numpy>=1.7.1 in c:\\users\\user\\anaconda3\\lib\\site-packages (from bokeh) (1.16.5)\n",
      "Requirement already satisfied: packaging>=16.8 in c:\\users\\user\\anaconda3\\lib\\site-packages (from bokeh) (19.2)\n",
      "Requirement already satisfied: tornado>=4.3 in c:\\users\\user\\anaconda3\\lib\\site-packages (from bokeh) (6.0.3)\n",
      "Requirement already satisfied: PyYAML>=3.10 in c:\\users\\user\\anaconda3\\lib\\site-packages (from bokeh) (5.1.2)\n",
      "Requirement already satisfied: MarkupSafe>=0.23 in c:\\users\\user\\anaconda3\\lib\\site-packages (from Jinja2>=2.7->bokeh) (1.1.1)\n",
      "Requirement already satisfied: pyparsing>=2.0.2 in c:\\users\\user\\anaconda3\\lib\\site-packages (from packaging>=16.8->bokeh) (2.4.2)\n"
     ]
    }
   ],
   "source": [
    "!pip install bokeh"
   ]
  },
  {
   "cell_type": "code",
   "execution_count": 9,
   "metadata": {},
   "outputs": [],
   "source": [
    "from bokeh.io import output_notebook, show\n",
    "from bokeh.plotting import figure"
   ]
  },
  {
   "cell_type": "code",
   "execution_count": 11,
   "metadata": {},
   "outputs": [
    {
     "name": "stdout",
     "output_type": "stream",
     "text": [
      "Using data directory: C:\\Users\\user\\.bokeh\\data\n",
      "Downloading: CGM.csv (1589982 bytes)\n",
      "   1589982 [100.00%]\n",
      "Downloading: US_Counties.zip (3171836 bytes)\n",
      "   3171836 [100.00%]\n",
      "Unpacking: US_Counties.csv\n",
      "Downloading: us_cities.json (713565 bytes)\n",
      "    713565 [100.00%]\n",
      "Downloading: unemployment09.csv (253301 bytes)\n",
      "    253301 [100.00%]\n",
      "Downloading: AAPL.csv (166698 bytes)\n",
      "    166698 [100.00%]\n",
      "Downloading: FB.csv (9706 bytes)\n",
      "      9706 [100.00%]\n",
      "Downloading: GOOG.csv (113894 bytes)\n",
      "    113894 [100.00%]\n",
      "Downloading: IBM.csv (165625 bytes)\n",
      "    165625 [100.00%]\n",
      "Downloading: MSFT.csv (161614 bytes)\n",
      "    161614 [100.00%]\n",
      "Downloading: WPP2012_SA_DB03_POPULATION_QUINQUENNIAL.zip (4816256 bytes)\n",
      "   4816256 [100.00%]\n",
      "Unpacking: WPP2012_SA_DB03_POPULATION_QUINQUENNIAL.csv\n",
      "Downloading: gapminder_fertility.csv (64346 bytes)\n",
      "     64346 [100.00%]\n",
      "Downloading: gapminder_population.csv (94509 bytes)\n",
      "     94509 [100.00%]\n",
      "Downloading: gapminder_life_expectancy.csv (73243 bytes)\n",
      "     73243 [100.00%]\n",
      "Downloading: gapminder_regions.csv (7781 bytes)\n",
      "      7781 [100.00%]\n",
      "Downloading: world_cities.zip (645274 bytes)\n",
      "    645274 [100.00%]\n",
      "Unpacking: world_cities.csv\n",
      "Downloading: airports.json (6373 bytes)\n",
      "      6373 [100.00%]\n",
      "Downloading: movies.db.zip (5053420 bytes)\n",
      "   5053420 [100.00%]\n",
      "Unpacking: movies.db\n",
      "Downloading: airports.csv (203190 bytes)\n",
      "    203190 [100.00%]\n",
      "Downloading: routes.csv (377280 bytes)\n",
      "    377280 [100.00%]\n",
      "Downloading: haarcascade_frontalface_default.xml (930127 bytes)\n",
      "    930127 [100.00%]\n"
     ]
    }
   ],
   "source": [
    "import bokeh.sampledata\n",
    "bokeh.sampledata.download()"
   ]
  },
  {
   "cell_type": "markdown",
   "metadata": {
    "Collapsed": "false"
   },
   "source": [
    "# Diagramas de Dispersion\n",
    "\n",
    "Bokeh puede dibujar muchos tipos de formas visuales (llamadas **glifos**), incluidas líneas, barras, parches, mosaicos hexagonales y más. Una de las tareas de visualización más comunes es dibujar un diagrama de dispersión de datos utilizando pequeños glifos *marcadores* para representar cada punto.\n",
    "\n",
    "En general, es necesario:\n",
    "* Crear un lienzo en blanco: `p = figure(...)`\n",
    "* llamar el metodo de la figura `p.circle` \n",
    "* `show` la figura"
   ]
  },
  {
   "cell_type": "code",
   "execution_count": 13,
   "metadata": {
    "Collapsed": "false"
   },
   "outputs": [
    {
     "data": {
      "text/html": [
       "\n",
       "    <div class=\"bk-root\">\n",
       "        <a href=\"https://bokeh.pydata.org\" target=\"_blank\" class=\"bk-logo bk-logo-small bk-logo-notebook\"></a>\n",
       "        <span id=\"1120\">Loading BokehJS ...</span>\n",
       "    </div>"
      ]
     },
     "metadata": {},
     "output_type": "display_data"
    },
    {
     "data": {
      "application/javascript": [
       "\n",
       "(function(root) {\n",
       "  function now() {\n",
       "    return new Date();\n",
       "  }\n",
       "\n",
       "  var force = true;\n",
       "\n",
       "  if (typeof root._bokeh_onload_callbacks === \"undefined\" || force === true) {\n",
       "    root._bokeh_onload_callbacks = [];\n",
       "    root._bokeh_is_loading = undefined;\n",
       "  }\n",
       "\n",
       "  var JS_MIME_TYPE = 'application/javascript';\n",
       "  var HTML_MIME_TYPE = 'text/html';\n",
       "  var EXEC_MIME_TYPE = 'application/vnd.bokehjs_exec.v0+json';\n",
       "  var CLASS_NAME = 'output_bokeh rendered_html';\n",
       "\n",
       "  /**\n",
       "   * Render data to the DOM node\n",
       "   */\n",
       "  function render(props, node) {\n",
       "    var script = document.createElement(\"script\");\n",
       "    node.appendChild(script);\n",
       "  }\n",
       "\n",
       "  /**\n",
       "   * Handle when an output is cleared or removed\n",
       "   */\n",
       "  function handleClearOutput(event, handle) {\n",
       "    var cell = handle.cell;\n",
       "\n",
       "    var id = cell.output_area._bokeh_element_id;\n",
       "    var server_id = cell.output_area._bokeh_server_id;\n",
       "    // Clean up Bokeh references\n",
       "    if (id != null && id in Bokeh.index) {\n",
       "      Bokeh.index[id].model.document.clear();\n",
       "      delete Bokeh.index[id];\n",
       "    }\n",
       "\n",
       "    if (server_id !== undefined) {\n",
       "      // Clean up Bokeh references\n",
       "      var cmd = \"from bokeh.io.state import curstate; print(curstate().uuid_to_server['\" + server_id + \"'].get_sessions()[0].document.roots[0]._id)\";\n",
       "      cell.notebook.kernel.execute(cmd, {\n",
       "        iopub: {\n",
       "          output: function(msg) {\n",
       "            var id = msg.content.text.trim();\n",
       "            if (id in Bokeh.index) {\n",
       "              Bokeh.index[id].model.document.clear();\n",
       "              delete Bokeh.index[id];\n",
       "            }\n",
       "          }\n",
       "        }\n",
       "      });\n",
       "      // Destroy server and session\n",
       "      var cmd = \"import bokeh.io.notebook as ion; ion.destroy_server('\" + server_id + \"')\";\n",
       "      cell.notebook.kernel.execute(cmd);\n",
       "    }\n",
       "  }\n",
       "\n",
       "  /**\n",
       "   * Handle when a new output is added\n",
       "   */\n",
       "  function handleAddOutput(event, handle) {\n",
       "    var output_area = handle.output_area;\n",
       "    var output = handle.output;\n",
       "\n",
       "    // limit handleAddOutput to display_data with EXEC_MIME_TYPE content only\n",
       "    if ((output.output_type != \"display_data\") || (!output.data.hasOwnProperty(EXEC_MIME_TYPE))) {\n",
       "      return\n",
       "    }\n",
       "\n",
       "    var toinsert = output_area.element.find(\".\" + CLASS_NAME.split(' ')[0]);\n",
       "\n",
       "    if (output.metadata[EXEC_MIME_TYPE][\"id\"] !== undefined) {\n",
       "      toinsert[toinsert.length - 1].firstChild.textContent = output.data[JS_MIME_TYPE];\n",
       "      // store reference to embed id on output_area\n",
       "      output_area._bokeh_element_id = output.metadata[EXEC_MIME_TYPE][\"id\"];\n",
       "    }\n",
       "    if (output.metadata[EXEC_MIME_TYPE][\"server_id\"] !== undefined) {\n",
       "      var bk_div = document.createElement(\"div\");\n",
       "      bk_div.innerHTML = output.data[HTML_MIME_TYPE];\n",
       "      var script_attrs = bk_div.children[0].attributes;\n",
       "      for (var i = 0; i < script_attrs.length; i++) {\n",
       "        toinsert[toinsert.length - 1].firstChild.setAttribute(script_attrs[i].name, script_attrs[i].value);\n",
       "      }\n",
       "      // store reference to server id on output_area\n",
       "      output_area._bokeh_server_id = output.metadata[EXEC_MIME_TYPE][\"server_id\"];\n",
       "    }\n",
       "  }\n",
       "\n",
       "  function register_renderer(events, OutputArea) {\n",
       "\n",
       "    function append_mime(data, metadata, element) {\n",
       "      // create a DOM node to render to\n",
       "      var toinsert = this.create_output_subarea(\n",
       "        metadata,\n",
       "        CLASS_NAME,\n",
       "        EXEC_MIME_TYPE\n",
       "      );\n",
       "      this.keyboard_manager.register_events(toinsert);\n",
       "      // Render to node\n",
       "      var props = {data: data, metadata: metadata[EXEC_MIME_TYPE]};\n",
       "      render(props, toinsert[toinsert.length - 1]);\n",
       "      element.append(toinsert);\n",
       "      return toinsert\n",
       "    }\n",
       "\n",
       "    /* Handle when an output is cleared or removed */\n",
       "    events.on('clear_output.CodeCell', handleClearOutput);\n",
       "    events.on('delete.Cell', handleClearOutput);\n",
       "\n",
       "    /* Handle when a new output is added */\n",
       "    events.on('output_added.OutputArea', handleAddOutput);\n",
       "\n",
       "    /**\n",
       "     * Register the mime type and append_mime function with output_area\n",
       "     */\n",
       "    OutputArea.prototype.register_mime_type(EXEC_MIME_TYPE, append_mime, {\n",
       "      /* Is output safe? */\n",
       "      safe: true,\n",
       "      /* Index of renderer in `output_area.display_order` */\n",
       "      index: 0\n",
       "    });\n",
       "  }\n",
       "\n",
       "  // register the mime type if in Jupyter Notebook environment and previously unregistered\n",
       "  if (root.Jupyter !== undefined) {\n",
       "    var events = require('base/js/events');\n",
       "    var OutputArea = require('notebook/js/outputarea').OutputArea;\n",
       "\n",
       "    if (OutputArea.prototype.mime_types().indexOf(EXEC_MIME_TYPE) == -1) {\n",
       "      register_renderer(events, OutputArea);\n",
       "    }\n",
       "  }\n",
       "\n",
       "  \n",
       "  if (typeof (root._bokeh_timeout) === \"undefined\" || force === true) {\n",
       "    root._bokeh_timeout = Date.now() + 5000;\n",
       "    root._bokeh_failed_load = false;\n",
       "  }\n",
       "\n",
       "  var NB_LOAD_WARNING = {'data': {'text/html':\n",
       "     \"<div style='background-color: #fdd'>\\n\"+\n",
       "     \"<p>\\n\"+\n",
       "     \"BokehJS does not appear to have successfully loaded. If loading BokehJS from CDN, this \\n\"+\n",
       "     \"may be due to a slow or bad network connection. Possible fixes:\\n\"+\n",
       "     \"</p>\\n\"+\n",
       "     \"<ul>\\n\"+\n",
       "     \"<li>re-rerun `output_notebook()` to attempt to load from CDN again, or</li>\\n\"+\n",
       "     \"<li>use INLINE resources instead, as so:</li>\\n\"+\n",
       "     \"</ul>\\n\"+\n",
       "     \"<code>\\n\"+\n",
       "     \"from bokeh.resources import INLINE\\n\"+\n",
       "     \"output_notebook(resources=INLINE)\\n\"+\n",
       "     \"</code>\\n\"+\n",
       "     \"</div>\"}};\n",
       "\n",
       "  function display_loaded() {\n",
       "    var el = document.getElementById(\"1120\");\n",
       "    if (el != null) {\n",
       "      el.textContent = \"BokehJS is loading...\";\n",
       "    }\n",
       "    if (root.Bokeh !== undefined) {\n",
       "      if (el != null) {\n",
       "        el.textContent = \"BokehJS \" + root.Bokeh.version + \" successfully loaded.\";\n",
       "      }\n",
       "    } else if (Date.now() < root._bokeh_timeout) {\n",
       "      setTimeout(display_loaded, 100)\n",
       "    }\n",
       "  }\n",
       "\n",
       "\n",
       "  function run_callbacks() {\n",
       "    try {\n",
       "      root._bokeh_onload_callbacks.forEach(function(callback) {\n",
       "        if (callback != null)\n",
       "          callback();\n",
       "      });\n",
       "    } finally {\n",
       "      delete root._bokeh_onload_callbacks\n",
       "    }\n",
       "    console.debug(\"Bokeh: all callbacks have finished\");\n",
       "  }\n",
       "\n",
       "  function load_libs(css_urls, js_urls, callback) {\n",
       "    if (css_urls == null) css_urls = [];\n",
       "    if (js_urls == null) js_urls = [];\n",
       "\n",
       "    root._bokeh_onload_callbacks.push(callback);\n",
       "    if (root._bokeh_is_loading > 0) {\n",
       "      console.debug(\"Bokeh: BokehJS is being loaded, scheduling callback at\", now());\n",
       "      return null;\n",
       "    }\n",
       "    if (js_urls == null || js_urls.length === 0) {\n",
       "      run_callbacks();\n",
       "      return null;\n",
       "    }\n",
       "    console.debug(\"Bokeh: BokehJS not loaded, scheduling load and callback at\", now());\n",
       "    root._bokeh_is_loading = css_urls.length + js_urls.length;\n",
       "\n",
       "    function on_load() {\n",
       "      root._bokeh_is_loading--;\n",
       "      if (root._bokeh_is_loading === 0) {\n",
       "        console.debug(\"Bokeh: all BokehJS libraries/stylesheets loaded\");\n",
       "        run_callbacks()\n",
       "      }\n",
       "    }\n",
       "\n",
       "    function on_error() {\n",
       "      console.error(\"failed to load \" + url);\n",
       "    }\n",
       "\n",
       "    for (var i = 0; i < css_urls.length; i++) {\n",
       "      var url = css_urls[i];\n",
       "      const element = document.createElement(\"link\");\n",
       "      element.onload = on_load;\n",
       "      element.onerror = on_error;\n",
       "      element.rel = \"stylesheet\";\n",
       "      element.type = \"text/css\";\n",
       "      element.href = url;\n",
       "      console.debug(\"Bokeh: injecting link tag for BokehJS stylesheet: \", url);\n",
       "      document.body.appendChild(element);\n",
       "    }\n",
       "\n",
       "    for (var i = 0; i < js_urls.length; i++) {\n",
       "      var url = js_urls[i];\n",
       "      var element = document.createElement('script');\n",
       "      element.onload = on_load;\n",
       "      element.onerror = on_error;\n",
       "      element.async = false;\n",
       "      element.src = url;\n",
       "      console.debug(\"Bokeh: injecting script tag for BokehJS library: \", url);\n",
       "      document.head.appendChild(element);\n",
       "    }\n",
       "  };var element = document.getElementById(\"1120\");\n",
       "  if (element == null) {\n",
       "    console.error(\"Bokeh: ERROR: autoload.js configured with elementid '1120' but no matching script tag was found. \")\n",
       "    return false;\n",
       "  }\n",
       "\n",
       "  function inject_raw_css(css) {\n",
       "    const element = document.createElement(\"style\");\n",
       "    element.appendChild(document.createTextNode(css));\n",
       "    document.body.appendChild(element);\n",
       "  }\n",
       "\n",
       "  var js_urls = [\"https://cdn.pydata.org/bokeh/release/bokeh-1.3.4.min.js\", \"https://cdn.pydata.org/bokeh/release/bokeh-widgets-1.3.4.min.js\", \"https://cdn.pydata.org/bokeh/release/bokeh-tables-1.3.4.min.js\", \"https://cdn.pydata.org/bokeh/release/bokeh-gl-1.3.4.min.js\"];\n",
       "  var css_urls = [];\n",
       "\n",
       "  var inline_js = [\n",
       "    function(Bokeh) {\n",
       "      Bokeh.set_log_level(\"info\");\n",
       "    },\n",
       "    \n",
       "    function(Bokeh) {\n",
       "      \n",
       "    },\n",
       "    function(Bokeh) {} // ensure no trailing comma for IE\n",
       "  ];\n",
       "\n",
       "  function run_inline_js() {\n",
       "    \n",
       "    if ((root.Bokeh !== undefined) || (force === true)) {\n",
       "      for (var i = 0; i < inline_js.length; i++) {\n",
       "        inline_js[i].call(root, root.Bokeh);\n",
       "      }if (force === true) {\n",
       "        display_loaded();\n",
       "      }} else if (Date.now() < root._bokeh_timeout) {\n",
       "      setTimeout(run_inline_js, 100);\n",
       "    } else if (!root._bokeh_failed_load) {\n",
       "      console.log(\"Bokeh: BokehJS failed to load within specified timeout.\");\n",
       "      root._bokeh_failed_load = true;\n",
       "    } else if (force !== true) {\n",
       "      var cell = $(document.getElementById(\"1120\")).parents('.cell').data().cell;\n",
       "      cell.output_area.append_execute_result(NB_LOAD_WARNING)\n",
       "    }\n",
       "\n",
       "  }\n",
       "\n",
       "  if (root._bokeh_is_loading === 0) {\n",
       "    console.debug(\"Bokeh: BokehJS loaded, going straight to plotting\");\n",
       "    run_inline_js();\n",
       "  } else {\n",
       "    load_libs(css_urls, js_urls, function() {\n",
       "      console.debug(\"Bokeh: BokehJS plotting callback run at\", now());\n",
       "      run_inline_js();\n",
       "    });\n",
       "  }\n",
       "}(window));"
      ],
      "application/vnd.bokehjs_load.v0+json": "\n(function(root) {\n  function now() {\n    return new Date();\n  }\n\n  var force = true;\n\n  if (typeof root._bokeh_onload_callbacks === \"undefined\" || force === true) {\n    root._bokeh_onload_callbacks = [];\n    root._bokeh_is_loading = undefined;\n  }\n\n  \n\n  \n  if (typeof (root._bokeh_timeout) === \"undefined\" || force === true) {\n    root._bokeh_timeout = Date.now() + 5000;\n    root._bokeh_failed_load = false;\n  }\n\n  var NB_LOAD_WARNING = {'data': {'text/html':\n     \"<div style='background-color: #fdd'>\\n\"+\n     \"<p>\\n\"+\n     \"BokehJS does not appear to have successfully loaded. If loading BokehJS from CDN, this \\n\"+\n     \"may be due to a slow or bad network connection. Possible fixes:\\n\"+\n     \"</p>\\n\"+\n     \"<ul>\\n\"+\n     \"<li>re-rerun `output_notebook()` to attempt to load from CDN again, or</li>\\n\"+\n     \"<li>use INLINE resources instead, as so:</li>\\n\"+\n     \"</ul>\\n\"+\n     \"<code>\\n\"+\n     \"from bokeh.resources import INLINE\\n\"+\n     \"output_notebook(resources=INLINE)\\n\"+\n     \"</code>\\n\"+\n     \"</div>\"}};\n\n  function display_loaded() {\n    var el = document.getElementById(\"1120\");\n    if (el != null) {\n      el.textContent = \"BokehJS is loading...\";\n    }\n    if (root.Bokeh !== undefined) {\n      if (el != null) {\n        el.textContent = \"BokehJS \" + root.Bokeh.version + \" successfully loaded.\";\n      }\n    } else if (Date.now() < root._bokeh_timeout) {\n      setTimeout(display_loaded, 100)\n    }\n  }\n\n\n  function run_callbacks() {\n    try {\n      root._bokeh_onload_callbacks.forEach(function(callback) {\n        if (callback != null)\n          callback();\n      });\n    } finally {\n      delete root._bokeh_onload_callbacks\n    }\n    console.debug(\"Bokeh: all callbacks have finished\");\n  }\n\n  function load_libs(css_urls, js_urls, callback) {\n    if (css_urls == null) css_urls = [];\n    if (js_urls == null) js_urls = [];\n\n    root._bokeh_onload_callbacks.push(callback);\n    if (root._bokeh_is_loading > 0) {\n      console.debug(\"Bokeh: BokehJS is being loaded, scheduling callback at\", now());\n      return null;\n    }\n    if (js_urls == null || js_urls.length === 0) {\n      run_callbacks();\n      return null;\n    }\n    console.debug(\"Bokeh: BokehJS not loaded, scheduling load and callback at\", now());\n    root._bokeh_is_loading = css_urls.length + js_urls.length;\n\n    function on_load() {\n      root._bokeh_is_loading--;\n      if (root._bokeh_is_loading === 0) {\n        console.debug(\"Bokeh: all BokehJS libraries/stylesheets loaded\");\n        run_callbacks()\n      }\n    }\n\n    function on_error() {\n      console.error(\"failed to load \" + url);\n    }\n\n    for (var i = 0; i < css_urls.length; i++) {\n      var url = css_urls[i];\n      const element = document.createElement(\"link\");\n      element.onload = on_load;\n      element.onerror = on_error;\n      element.rel = \"stylesheet\";\n      element.type = \"text/css\";\n      element.href = url;\n      console.debug(\"Bokeh: injecting link tag for BokehJS stylesheet: \", url);\n      document.body.appendChild(element);\n    }\n\n    for (var i = 0; i < js_urls.length; i++) {\n      var url = js_urls[i];\n      var element = document.createElement('script');\n      element.onload = on_load;\n      element.onerror = on_error;\n      element.async = false;\n      element.src = url;\n      console.debug(\"Bokeh: injecting script tag for BokehJS library: \", url);\n      document.head.appendChild(element);\n    }\n  };var element = document.getElementById(\"1120\");\n  if (element == null) {\n    console.error(\"Bokeh: ERROR: autoload.js configured with elementid '1120' but no matching script tag was found. \")\n    return false;\n  }\n\n  function inject_raw_css(css) {\n    const element = document.createElement(\"style\");\n    element.appendChild(document.createTextNode(css));\n    document.body.appendChild(element);\n  }\n\n  var js_urls = [\"https://cdn.pydata.org/bokeh/release/bokeh-1.3.4.min.js\", \"https://cdn.pydata.org/bokeh/release/bokeh-widgets-1.3.4.min.js\", \"https://cdn.pydata.org/bokeh/release/bokeh-tables-1.3.4.min.js\", \"https://cdn.pydata.org/bokeh/release/bokeh-gl-1.3.4.min.js\"];\n  var css_urls = [];\n\n  var inline_js = [\n    function(Bokeh) {\n      Bokeh.set_log_level(\"info\");\n    },\n    \n    function(Bokeh) {\n      \n    },\n    function(Bokeh) {} // ensure no trailing comma for IE\n  ];\n\n  function run_inline_js() {\n    \n    if ((root.Bokeh !== undefined) || (force === true)) {\n      for (var i = 0; i < inline_js.length; i++) {\n        inline_js[i].call(root, root.Bokeh);\n      }if (force === true) {\n        display_loaded();\n      }} else if (Date.now() < root._bokeh_timeout) {\n      setTimeout(run_inline_js, 100);\n    } else if (!root._bokeh_failed_load) {\n      console.log(\"Bokeh: BokehJS failed to load within specified timeout.\");\n      root._bokeh_failed_load = true;\n    } else if (force !== true) {\n      var cell = $(document.getElementById(\"1120\")).parents('.cell').data().cell;\n      cell.output_area.append_execute_result(NB_LOAD_WARNING)\n    }\n\n  }\n\n  if (root._bokeh_is_loading === 0) {\n    console.debug(\"Bokeh: BokehJS loaded, going straight to plotting\");\n    run_inline_js();\n  } else {\n    load_libs(css_urls, js_urls, function() {\n      console.debug(\"Bokeh: BokehJS plotting callback run at\", now());\n      run_inline_js();\n    });\n  }\n}(window));"
     },
     "metadata": {},
     "output_type": "display_data"
    },
    {
     "data": {
      "text/html": [
       "\n",
       "\n",
       "\n",
       "\n",
       "\n",
       "\n",
       "  <div class=\"bk-root\" id=\"ed55c9fe-fb5c-4314-830d-5b47a42bcdcb\" data-root-id=\"1121\"></div>\n"
      ]
     },
     "metadata": {},
     "output_type": "display_data"
    },
    {
     "data": {
      "application/javascript": [
       "(function(root) {\n",
       "  function embed_document(root) {\n",
       "    \n",
       "  var docs_json = {\"da785581-86b7-43a8-afc9-0bfd9daa099a\":{\"roots\":{\"references\":[{\"attributes\":{\"below\":[{\"id\":\"1130\",\"type\":\"LinearAxis\"}],\"center\":[{\"id\":\"1134\",\"type\":\"Grid\"},{\"id\":\"1139\",\"type\":\"Grid\"}],\"left\":[{\"id\":\"1135\",\"type\":\"LinearAxis\"}],\"plot_height\":400,\"plot_width\":400,\"renderers\":[{\"id\":\"1156\",\"type\":\"GlyphRenderer\"}],\"title\":{\"id\":\"1158\",\"type\":\"Title\"},\"toolbar\":{\"id\":\"1146\",\"type\":\"Toolbar\"},\"x_range\":{\"id\":\"1122\",\"type\":\"DataRange1d\"},\"x_scale\":{\"id\":\"1126\",\"type\":\"LinearScale\"},\"y_range\":{\"id\":\"1124\",\"type\":\"DataRange1d\"},\"y_scale\":{\"id\":\"1128\",\"type\":\"LinearScale\"}},\"id\":\"1121\",\"subtype\":\"Figure\",\"type\":\"Plot\"},{\"attributes\":{\"data_source\":{\"id\":\"1153\",\"type\":\"ColumnDataSource\"},\"glyph\":{\"id\":\"1154\",\"type\":\"Circle\"},\"hover_glyph\":null,\"muted_glyph\":null,\"nonselection_glyph\":{\"id\":\"1155\",\"type\":\"Circle\"},\"selection_glyph\":null,\"view\":{\"id\":\"1157\",\"type\":\"CDSView\"}},\"id\":\"1156\",\"type\":\"GlyphRenderer\"},{\"attributes\":{\"callback\":null},\"id\":\"1122\",\"type\":\"DataRange1d\"},{\"attributes\":{},\"id\":\"1141\",\"type\":\"WheelZoomTool\"},{\"attributes\":{},\"id\":\"1136\",\"type\":\"BasicTicker\"},{\"attributes\":{\"dimension\":1,\"ticker\":{\"id\":\"1136\",\"type\":\"BasicTicker\"}},\"id\":\"1139\",\"type\":\"Grid\"},{\"attributes\":{},\"id\":\"1131\",\"type\":\"BasicTicker\"},{\"attributes\":{},\"id\":\"1144\",\"type\":\"ResetTool\"},{\"attributes\":{\"active_drag\":\"auto\",\"active_inspect\":\"auto\",\"active_multi\":null,\"active_scroll\":\"auto\",\"active_tap\":\"auto\",\"tools\":[{\"id\":\"1140\",\"type\":\"PanTool\"},{\"id\":\"1141\",\"type\":\"WheelZoomTool\"},{\"id\":\"1142\",\"type\":\"BoxZoomTool\"},{\"id\":\"1143\",\"type\":\"SaveTool\"},{\"id\":\"1144\",\"type\":\"ResetTool\"},{\"id\":\"1145\",\"type\":\"HelpTool\"}]},\"id\":\"1146\",\"type\":\"Toolbar\"},{\"attributes\":{\"callback\":null},\"id\":\"1124\",\"type\":\"DataRange1d\"},{\"attributes\":{\"formatter\":{\"id\":\"1163\",\"type\":\"BasicTickFormatter\"},\"ticker\":{\"id\":\"1136\",\"type\":\"BasicTicker\"}},\"id\":\"1135\",\"type\":\"LinearAxis\"},{\"attributes\":{\"text\":\"\"},\"id\":\"1158\",\"type\":\"Title\"},{\"attributes\":{},\"id\":\"1143\",\"type\":\"SaveTool\"},{\"attributes\":{\"callback\":null,\"data\":{\"x\":[1,2,3,4,5],\"y\":[6,7,2,4,5]},\"selected\":{\"id\":\"1166\",\"type\":\"Selection\"},\"selection_policy\":{\"id\":\"1165\",\"type\":\"UnionRenderers\"}},\"id\":\"1153\",\"type\":\"ColumnDataSource\"},{\"attributes\":{\"source\":{\"id\":\"1153\",\"type\":\"ColumnDataSource\"}},\"id\":\"1157\",\"type\":\"CDSView\"},{\"attributes\":{\"fill_alpha\":{\"value\":0.5},\"fill_color\":{\"value\":\"orange\"},\"line_color\":{\"value\":\"navy\"},\"size\":{\"units\":\"screen\",\"value\":15},\"x\":{\"field\":\"x\"},\"y\":{\"field\":\"y\"}},\"id\":\"1154\",\"type\":\"Circle\"},{\"attributes\":{\"formatter\":{\"id\":\"1161\",\"type\":\"BasicTickFormatter\"},\"ticker\":{\"id\":\"1131\",\"type\":\"BasicTicker\"}},\"id\":\"1130\",\"type\":\"LinearAxis\"},{\"attributes\":{\"bottom_units\":\"screen\",\"fill_alpha\":{\"value\":0.5},\"fill_color\":{\"value\":\"lightgrey\"},\"left_units\":\"screen\",\"level\":\"overlay\",\"line_alpha\":{\"value\":1.0},\"line_color\":{\"value\":\"black\"},\"line_dash\":[4,4],\"line_width\":{\"value\":2},\"render_mode\":\"css\",\"right_units\":\"screen\",\"top_units\":\"screen\"},\"id\":\"1164\",\"type\":\"BoxAnnotation\"},{\"attributes\":{},\"id\":\"1140\",\"type\":\"PanTool\"},{\"attributes\":{\"fill_alpha\":{\"value\":0.1},\"fill_color\":{\"value\":\"#1f77b4\"},\"line_alpha\":{\"value\":0.1},\"line_color\":{\"value\":\"#1f77b4\"},\"size\":{\"units\":\"screen\",\"value\":15},\"x\":{\"field\":\"x\"},\"y\":{\"field\":\"y\"}},\"id\":\"1155\",\"type\":\"Circle\"},{\"attributes\":{},\"id\":\"1128\",\"type\":\"LinearScale\"},{\"attributes\":{},\"id\":\"1145\",\"type\":\"HelpTool\"},{\"attributes\":{},\"id\":\"1165\",\"type\":\"UnionRenderers\"},{\"attributes\":{},\"id\":\"1161\",\"type\":\"BasicTickFormatter\"},{\"attributes\":{},\"id\":\"1126\",\"type\":\"LinearScale\"},{\"attributes\":{},\"id\":\"1163\",\"type\":\"BasicTickFormatter\"},{\"attributes\":{},\"id\":\"1166\",\"type\":\"Selection\"},{\"attributes\":{\"overlay\":{\"id\":\"1164\",\"type\":\"BoxAnnotation\"}},\"id\":\"1142\",\"type\":\"BoxZoomTool\"},{\"attributes\":{\"ticker\":{\"id\":\"1131\",\"type\":\"BasicTicker\"}},\"id\":\"1134\",\"type\":\"Grid\"}],\"root_ids\":[\"1121\"]},\"title\":\"Bokeh Application\",\"version\":\"1.3.4\"}};\n",
       "  var render_items = [{\"docid\":\"da785581-86b7-43a8-afc9-0bfd9daa099a\",\"roots\":{\"1121\":\"ed55c9fe-fb5c-4314-830d-5b47a42bcdcb\"}}];\n",
       "  root.Bokeh.embed.embed_items_notebook(docs_json, render_items);\n",
       "\n",
       "  }\n",
       "  if (root.Bokeh !== undefined) {\n",
       "    embed_document(root);\n",
       "  } else {\n",
       "    var attempts = 0;\n",
       "    var timer = setInterval(function(root) {\n",
       "      if (root.Bokeh !== undefined) {\n",
       "        embed_document(root);\n",
       "        clearInterval(timer);\n",
       "      }\n",
       "      attempts++;\n",
       "      if (attempts > 100) {\n",
       "        console.log(\"Bokeh: ERROR: Unable to run BokehJS code because BokehJS library is missing\");\n",
       "        clearInterval(timer);\n",
       "      }\n",
       "    }, 10, root)\n",
       "  }\n",
       "})(window);"
      ],
      "application/vnd.bokehjs_exec.v0+json": ""
     },
     "metadata": {
      "application/vnd.bokehjs_exec.v0+json": {
       "id": "1121"
      }
     },
     "output_type": "display_data"
    }
   ],
   "source": [
    "output_notebook()\n",
    "p = figure(plot_width=400, plot_height=400)\n",
    "\n",
    "p.circle([1, 2, 3, 4, 5], [6, 7, 2, 4, 5], size=15, line_color=\"navy\", fill_color=\"orange\", fill_alpha=0.5)\n",
    "show(p)"
   ]
  },
  {
   "cell_type": "code",
   "execution_count": 14,
   "metadata": {
    "Collapsed": "false"
   },
   "outputs": [
    {
     "data": {
      "text/html": [
       "\n",
       "\n",
       "\n",
       "\n",
       "\n",
       "\n",
       "  <div class=\"bk-root\" id=\"554186b0-a169-4c86-94a1-f75875eb7d73\" data-root-id=\"1221\"></div>\n"
      ]
     },
     "metadata": {},
     "output_type": "display_data"
    },
    {
     "data": {
      "application/javascript": [
       "(function(root) {\n",
       "  function embed_document(root) {\n",
       "    \n",
       "  var docs_json = {\"8313a986-d2d7-4275-936f-29adc5a11a8d\":{\"roots\":{\"references\":[{\"attributes\":{\"below\":[{\"id\":\"1230\",\"type\":\"LinearAxis\"}],\"center\":[{\"id\":\"1234\",\"type\":\"Grid\"},{\"id\":\"1239\",\"type\":\"Grid\"}],\"left\":[{\"id\":\"1235\",\"type\":\"LinearAxis\"}],\"plot_height\":400,\"plot_width\":400,\"renderers\":[{\"id\":\"1256\",\"type\":\"GlyphRenderer\"}],\"title\":{\"id\":\"1267\",\"type\":\"Title\"},\"toolbar\":{\"id\":\"1246\",\"type\":\"Toolbar\"},\"x_range\":{\"id\":\"1222\",\"type\":\"DataRange1d\"},\"x_scale\":{\"id\":\"1226\",\"type\":\"LinearScale\"},\"y_range\":{\"id\":\"1224\",\"type\":\"DataRange1d\"},\"y_scale\":{\"id\":\"1228\",\"type\":\"LinearScale\"}},\"id\":\"1221\",\"subtype\":\"Figure\",\"type\":\"Plot\"},{\"attributes\":{},\"id\":\"1245\",\"type\":\"HelpTool\"},{\"attributes\":{\"overlay\":{\"id\":\"1273\",\"type\":\"BoxAnnotation\"}},\"id\":\"1242\",\"type\":\"BoxZoomTool\"},{\"attributes\":{},\"id\":\"1244\",\"type\":\"ResetTool\"},{\"attributes\":{},\"id\":\"1243\",\"type\":\"SaveTool\"},{\"attributes\":{\"callback\":null},\"id\":\"1224\",\"type\":\"DataRange1d\"},{\"attributes\":{\"fill_alpha\":{\"value\":0.6},\"fill_color\":{\"value\":\"firebrick\"},\"line_alpha\":{\"value\":0.6},\"line_color\":{\"value\":\"firebrick\"},\"size\":{\"field\":\"size\",\"units\":\"screen\"},\"x\":{\"field\":\"x\"},\"y\":{\"field\":\"y\"}},\"id\":\"1254\",\"type\":\"Square\"},{\"attributes\":{},\"id\":\"1274\",\"type\":\"UnionRenderers\"},{\"attributes\":{\"fill_alpha\":{\"value\":0.1},\"fill_color\":{\"value\":\"#1f77b4\"},\"line_alpha\":{\"value\":0.1},\"line_color\":{\"value\":\"#1f77b4\"},\"size\":{\"field\":\"size\",\"units\":\"screen\"},\"x\":{\"field\":\"x\"},\"y\":{\"field\":\"y\"}},\"id\":\"1255\",\"type\":\"Square\"},{\"attributes\":{},\"id\":\"1241\",\"type\":\"WheelZoomTool\"},{\"attributes\":{\"callback\":null,\"data\":{\"size\":[10,15,20,25,30],\"x\":[1,2,3,4,5],\"y\":[6,7,2,4,5]},\"selected\":{\"id\":\"1275\",\"type\":\"Selection\"},\"selection_policy\":{\"id\":\"1274\",\"type\":\"UnionRenderers\"}},\"id\":\"1253\",\"type\":\"ColumnDataSource\"},{\"attributes\":{\"bottom_units\":\"screen\",\"fill_alpha\":{\"value\":0.5},\"fill_color\":{\"value\":\"lightgrey\"},\"left_units\":\"screen\",\"level\":\"overlay\",\"line_alpha\":{\"value\":1.0},\"line_color\":{\"value\":\"black\"},\"line_dash\":[4,4],\"line_width\":{\"value\":2},\"render_mode\":\"css\",\"right_units\":\"screen\",\"top_units\":\"screen\"},\"id\":\"1273\",\"type\":\"BoxAnnotation\"},{\"attributes\":{},\"id\":\"1240\",\"type\":\"PanTool\"},{\"attributes\":{},\"id\":\"1236\",\"type\":\"BasicTicker\"},{\"attributes\":{\"callback\":null},\"id\":\"1222\",\"type\":\"DataRange1d\"},{\"attributes\":{\"active_drag\":\"auto\",\"active_inspect\":\"auto\",\"active_multi\":null,\"active_scroll\":\"auto\",\"active_tap\":\"auto\",\"tools\":[{\"id\":\"1240\",\"type\":\"PanTool\"},{\"id\":\"1241\",\"type\":\"WheelZoomTool\"},{\"id\":\"1242\",\"type\":\"BoxZoomTool\"},{\"id\":\"1243\",\"type\":\"SaveTool\"},{\"id\":\"1244\",\"type\":\"ResetTool\"},{\"id\":\"1245\",\"type\":\"HelpTool\"}]},\"id\":\"1246\",\"type\":\"Toolbar\"},{\"attributes\":{\"dimension\":1,\"ticker\":{\"id\":\"1236\",\"type\":\"BasicTicker\"}},\"id\":\"1239\",\"type\":\"Grid\"},{\"attributes\":{\"formatter\":{\"id\":\"1272\",\"type\":\"BasicTickFormatter\"},\"ticker\":{\"id\":\"1236\",\"type\":\"BasicTicker\"}},\"id\":\"1235\",\"type\":\"LinearAxis\"},{\"attributes\":{\"text\":\"\"},\"id\":\"1267\",\"type\":\"Title\"},{\"attributes\":{},\"id\":\"1231\",\"type\":\"BasicTicker\"},{\"attributes\":{},\"id\":\"1275\",\"type\":\"Selection\"},{\"attributes\":{},\"id\":\"1272\",\"type\":\"BasicTickFormatter\"},{\"attributes\":{\"ticker\":{\"id\":\"1231\",\"type\":\"BasicTicker\"}},\"id\":\"1234\",\"type\":\"Grid\"},{\"attributes\":{\"source\":{\"id\":\"1253\",\"type\":\"ColumnDataSource\"}},\"id\":\"1257\",\"type\":\"CDSView\"},{\"attributes\":{},\"id\":\"1228\",\"type\":\"LinearScale\"},{\"attributes\":{},\"id\":\"1226\",\"type\":\"LinearScale\"},{\"attributes\":{},\"id\":\"1270\",\"type\":\"BasicTickFormatter\"},{\"attributes\":{\"data_source\":{\"id\":\"1253\",\"type\":\"ColumnDataSource\"},\"glyph\":{\"id\":\"1254\",\"type\":\"Square\"},\"hover_glyph\":null,\"muted_glyph\":null,\"nonselection_glyph\":{\"id\":\"1255\",\"type\":\"Square\"},\"selection_glyph\":null,\"view\":{\"id\":\"1257\",\"type\":\"CDSView\"}},\"id\":\"1256\",\"type\":\"GlyphRenderer\"},{\"attributes\":{\"formatter\":{\"id\":\"1270\",\"type\":\"BasicTickFormatter\"},\"ticker\":{\"id\":\"1231\",\"type\":\"BasicTicker\"}},\"id\":\"1230\",\"type\":\"LinearAxis\"}],\"root_ids\":[\"1221\"]},\"title\":\"Bokeh Application\",\"version\":\"1.3.4\"}};\n",
       "  var render_items = [{\"docid\":\"8313a986-d2d7-4275-936f-29adc5a11a8d\",\"roots\":{\"1221\":\"554186b0-a169-4c86-94a1-f75875eb7d73\"}}];\n",
       "  root.Bokeh.embed.embed_items_notebook(docs_json, render_items);\n",
       "\n",
       "  }\n",
       "  if (root.Bokeh !== undefined) {\n",
       "    embed_document(root);\n",
       "  } else {\n",
       "    var attempts = 0;\n",
       "    var timer = setInterval(function(root) {\n",
       "      if (root.Bokeh !== undefined) {\n",
       "        embed_document(root);\n",
       "        clearInterval(timer);\n",
       "      }\n",
       "      attempts++;\n",
       "      if (attempts > 100) {\n",
       "        console.log(\"Bokeh: ERROR: Unable to run BokehJS code because BokehJS library is missing\");\n",
       "        clearInterval(timer);\n",
       "      }\n",
       "    }, 10, root)\n",
       "  }\n",
       "})(window);"
      ],
      "application/vnd.bokehjs_exec.v0+json": ""
     },
     "metadata": {
      "application/vnd.bokehjs_exec.v0+json": {
       "id": "1221"
      }
     },
     "output_type": "display_data"
    }
   ],
   "source": [
    "p = figure(plot_width=400, plot_height=400)\n",
    "p.square([1, 2, 3, 4, 5], [6, 7, 2, 4, 5], size=[10, 15, 20, 25, 30], color=\"firebrick\", alpha=0.6)\n",
    "show(p)"
   ]
  },
  {
   "cell_type": "markdown",
   "metadata": {},
   "source": [
    "La siguiente es la lista de glifos disponible\n",
    "\n",
    "* [asterisk()](https://bokeh.pydata.org/en/latest/docs/reference/plotting.html#bokeh.plotting.figure.Figure.asterisk)\n",
    "* [circle()](https://bokeh.pydata.org/en/latest/docs/reference/plotting.html#bokeh.plotting.figure.Figure.circle)\n",
    "* [circle_cross()](https://bokeh.pydata.org/en/latest/docs/reference/plotting.html#bokeh.plotting.figure.Figure.circle_cross)\n",
    "* [circle_x()](https://bokeh.pydata.org/en/latest/docs/reference/plotting.html#bokeh.plotting.figure.Figure.circle_x)\n",
    "* [cross()](https://bokeh.pydata.org/en/latest/docs/reference/plotting.html#bokeh.plotting.figure.Figure.cross)\n",
    "* [diamond()](https://bokeh.pydata.org/en/latest/docs/reference/plotting.html#bokeh.plotting.figure.Figure.diamond)\n",
    "* [diamond_cross()](https://bokeh.pydata.org/en/latest/docs/reference/plotting.html#bokeh.plotting.figure.Figure.diamond_cross)\n",
    "* [hex()](https://bokeh.pydata.org/en/latest/docs/reference/plotting.html#bokeh.plotting.figure.Figure.hex)\n",
    "* [inverted_triangle()](https://bokeh.pydata.org/en/latest/docs/reference/plotting.html#bokeh.plotting.figure.Figure.inverted_triangle)\n",
    "* [square()](https://bokeh.pydata.org/en/latest/docs/reference/plotting.html#bokeh.plotting.figure.Figure.square)\n",
    "* [square_cross()](https://bokeh.pydata.org/en/latest/docs/reference/plotting.html#bokeh.plotting.figure.Figure.square_cross)\n",
    "* [square_x()](https://bokeh.pydata.org/en/latest/docs/reference/plotting.html#bokeh.plotting.figure.Figure.square_x)\n",
    "* [triangle()](https://bokeh.pydata.org/en/latest/docs/reference/plotting.html#bokeh.plotting.figure.Figure.triangle)\n",
    "* [x()](https://bokeh.pydata.org/en/latest/docs/reference/plotting.html#bokeh.plotting.figure.Figure.x)"
   ]
  },
  {
   "cell_type": "markdown",
   "metadata": {
    "Collapsed": "false"
   },
   "source": [
    "# Diagramas de Linea"
   ]
  },
  {
   "cell_type": "code",
   "execution_count": 16,
   "metadata": {
    "Collapsed": "false"
   },
   "outputs": [
    {
     "data": {
      "text/html": [
       "\n",
       "\n",
       "\n",
       "\n",
       "\n",
       "\n",
       "  <div class=\"bk-root\" id=\"bb2966a3-acb9-4018-bf93-9abfe0b05585\" data-root-id=\"1443\"></div>\n"
      ]
     },
     "metadata": {},
     "output_type": "display_data"
    },
    {
     "data": {
      "application/javascript": [
       "(function(root) {\n",
       "  function embed_document(root) {\n",
       "    \n",
       "  var docs_json = {\"72ef9e3b-1159-4a23-bce7-63b0e9636d3c\":{\"roots\":{\"references\":[{\"attributes\":{\"below\":[{\"id\":\"1454\",\"type\":\"LinearAxis\"}],\"center\":[{\"id\":\"1458\",\"type\":\"Grid\"},{\"id\":\"1463\",\"type\":\"Grid\"}],\"left\":[{\"id\":\"1459\",\"type\":\"LinearAxis\"}],\"plot_height\":400,\"plot_width\":400,\"renderers\":[{\"id\":\"1480\",\"type\":\"GlyphRenderer\"}],\"title\":{\"id\":\"1444\",\"type\":\"Title\"},\"toolbar\":{\"id\":\"1470\",\"type\":\"Toolbar\"},\"x_range\":{\"id\":\"1446\",\"type\":\"DataRange1d\"},\"x_scale\":{\"id\":\"1450\",\"type\":\"LinearScale\"},\"y_range\":{\"id\":\"1448\",\"type\":\"DataRange1d\"},\"y_scale\":{\"id\":\"1452\",\"type\":\"LinearScale\"}},\"id\":\"1443\",\"subtype\":\"Figure\",\"type\":\"Plot\"},{\"attributes\":{},\"id\":\"1450\",\"type\":\"LinearScale\"},{\"attributes\":{\"bottom_units\":\"screen\",\"fill_alpha\":{\"value\":0.5},\"fill_color\":{\"value\":\"lightgrey\"},\"left_units\":\"screen\",\"level\":\"overlay\",\"line_alpha\":{\"value\":1.0},\"line_color\":{\"value\":\"black\"},\"line_dash\":[4,4],\"line_width\":{\"value\":2},\"render_mode\":\"css\",\"right_units\":\"screen\",\"top_units\":\"screen\"},\"id\":\"1513\",\"type\":\"BoxAnnotation\"},{\"attributes\":{\"text\":\"\"},\"id\":\"1444\",\"type\":\"Title\"},{\"attributes\":{},\"id\":\"1460\",\"type\":\"BasicTicker\"},{\"attributes\":{},\"id\":\"1469\",\"type\":\"HelpTool\"},{\"attributes\":{\"active_drag\":\"auto\",\"active_inspect\":\"auto\",\"active_multi\":null,\"active_scroll\":\"auto\",\"active_tap\":\"auto\",\"tools\":[{\"id\":\"1464\",\"type\":\"PanTool\"},{\"id\":\"1465\",\"type\":\"WheelZoomTool\"},{\"id\":\"1466\",\"type\":\"BoxZoomTool\"},{\"id\":\"1467\",\"type\":\"SaveTool\"},{\"id\":\"1468\",\"type\":\"ResetTool\"},{\"id\":\"1469\",\"type\":\"HelpTool\"}]},\"id\":\"1470\",\"type\":\"Toolbar\"},{\"attributes\":{},\"id\":\"1464\",\"type\":\"PanTool\"},{\"attributes\":{\"formatter\":{\"id\":\"1510\",\"type\":\"BasicTickFormatter\"},\"ticker\":{\"id\":\"1455\",\"type\":\"BasicTicker\"}},\"id\":\"1454\",\"type\":\"LinearAxis\"},{\"attributes\":{},\"id\":\"1467\",\"type\":\"SaveTool\"},{\"attributes\":{\"ticker\":{\"id\":\"1455\",\"type\":\"BasicTicker\"}},\"id\":\"1458\",\"type\":\"Grid\"},{\"attributes\":{\"formatter\":{\"id\":\"1512\",\"type\":\"BasicTickFormatter\"},\"ticker\":{\"id\":\"1460\",\"type\":\"BasicTicker\"}},\"id\":\"1459\",\"type\":\"LinearAxis\"},{\"attributes\":{\"callback\":null},\"id\":\"1448\",\"type\":\"DataRange1d\"},{\"attributes\":{},\"id\":\"1455\",\"type\":\"BasicTicker\"},{\"attributes\":{\"source\":{\"id\":\"1477\",\"type\":\"ColumnDataSource\"}},\"id\":\"1481\",\"type\":\"CDSView\"},{\"attributes\":{},\"id\":\"1512\",\"type\":\"BasicTickFormatter\"},{\"attributes\":{\"dimension\":1,\"ticker\":{\"id\":\"1460\",\"type\":\"BasicTicker\"}},\"id\":\"1463\",\"type\":\"Grid\"},{\"attributes\":{\"callback\":null,\"data\":{\"x\":[1,2,3,4,5],\"y\":[6,7,2,4,5]},\"selected\":{\"id\":\"1515\",\"type\":\"Selection\"},\"selection_policy\":{\"id\":\"1514\",\"type\":\"UnionRenderers\"}},\"id\":\"1477\",\"type\":\"ColumnDataSource\"},{\"attributes\":{\"line_color\":\"#1f77b4\",\"line_width\":2,\"x\":{\"field\":\"x\"},\"y\":{\"field\":\"y\"}},\"id\":\"1478\",\"type\":\"Line\"},{\"attributes\":{},\"id\":\"1514\",\"type\":\"UnionRenderers\"},{\"attributes\":{\"line_alpha\":0.1,\"line_color\":\"#1f77b4\",\"line_width\":2,\"x\":{\"field\":\"x\"},\"y\":{\"field\":\"y\"}},\"id\":\"1479\",\"type\":\"Line\"},{\"attributes\":{},\"id\":\"1515\",\"type\":\"Selection\"},{\"attributes\":{},\"id\":\"1510\",\"type\":\"BasicTickFormatter\"},{\"attributes\":{},\"id\":\"1452\",\"type\":\"LinearScale\"},{\"attributes\":{},\"id\":\"1468\",\"type\":\"ResetTool\"},{\"attributes\":{\"overlay\":{\"id\":\"1513\",\"type\":\"BoxAnnotation\"}},\"id\":\"1466\",\"type\":\"BoxZoomTool\"},{\"attributes\":{\"data_source\":{\"id\":\"1477\",\"type\":\"ColumnDataSource\"},\"glyph\":{\"id\":\"1478\",\"type\":\"Line\"},\"hover_glyph\":null,\"muted_glyph\":null,\"nonselection_glyph\":{\"id\":\"1479\",\"type\":\"Line\"},\"selection_glyph\":null,\"view\":{\"id\":\"1481\",\"type\":\"CDSView\"}},\"id\":\"1480\",\"type\":\"GlyphRenderer\"},{\"attributes\":{\"callback\":null},\"id\":\"1446\",\"type\":\"DataRange1d\"},{\"attributes\":{},\"id\":\"1465\",\"type\":\"WheelZoomTool\"}],\"root_ids\":[\"1443\"]},\"title\":\"Bokeh Application\",\"version\":\"1.3.4\"}};\n",
       "  var render_items = [{\"docid\":\"72ef9e3b-1159-4a23-bce7-63b0e9636d3c\",\"roots\":{\"1443\":\"bb2966a3-acb9-4018-bf93-9abfe0b05585\"}}];\n",
       "  root.Bokeh.embed.embed_items_notebook(docs_json, render_items);\n",
       "\n",
       "  }\n",
       "  if (root.Bokeh !== undefined) {\n",
       "    embed_document(root);\n",
       "  } else {\n",
       "    var attempts = 0;\n",
       "    var timer = setInterval(function(root) {\n",
       "      if (root.Bokeh !== undefined) {\n",
       "        embed_document(root);\n",
       "        clearInterval(timer);\n",
       "      }\n",
       "      attempts++;\n",
       "      if (attempts > 100) {\n",
       "        console.log(\"Bokeh: ERROR: Unable to run BokehJS code because BokehJS library is missing\");\n",
       "        clearInterval(timer);\n",
       "      }\n",
       "    }, 10, root)\n",
       "  }\n",
       "})(window);"
      ],
      "application/vnd.bokehjs_exec.v0+json": ""
     },
     "metadata": {
      "application/vnd.bokehjs_exec.v0+json": {
       "id": "1443"
      }
     },
     "output_type": "display_data"
    }
   ],
   "source": [
    "p = figure(plot_width=400, plot_height=400, title=\"\")\n",
    "p.line([1, 2, 3, 4, 5], [6, 7, 2, 4, 5], line_width=2)\n",
    "show(p)"
   ]
  },
  {
   "cell_type": "markdown",
   "metadata": {
    "Collapsed": "false"
   },
   "source": [
    "Existen opciones para `line_width`, `line_color` o `line_dash`. Intente cambiar [las propiedades de la linea](https://bokeh.pydata.org/en/latest/docs/reference/plotting.html#bokeh.plotting.figure.Figure.line)"
   ]
  },
  {
   "cell_type": "markdown",
   "metadata": {
    "Collapsed": "false"
   },
   "source": [
    "### Ejes de fecha"
   ]
  },
  {
   "cell_type": "code",
   "execution_count": 18,
   "metadata": {
    "Collapsed": "false"
   },
   "outputs": [
    {
     "data": {
      "text/html": [
       "<div>\n",
       "<style scoped>\n",
       "    .dataframe tbody tr th:only-of-type {\n",
       "        vertical-align: middle;\n",
       "    }\n",
       "\n",
       "    .dataframe tbody tr th {\n",
       "        vertical-align: top;\n",
       "    }\n",
       "\n",
       "    .dataframe thead th {\n",
       "        text-align: right;\n",
       "    }\n",
       "</style>\n",
       "<table border=\"1\" class=\"dataframe\">\n",
       "  <thead>\n",
       "    <tr style=\"text-align: right;\">\n",
       "      <th></th>\n",
       "      <th>isig</th>\n",
       "      <th>glucose</th>\n",
       "    </tr>\n",
       "    <tr>\n",
       "      <th>datetime</th>\n",
       "      <th></th>\n",
       "      <th></th>\n",
       "    </tr>\n",
       "  </thead>\n",
       "  <tbody>\n",
       "    <tr>\n",
       "      <td>2010-03-24 09:51:00</td>\n",
       "      <td>22.59</td>\n",
       "      <td>258</td>\n",
       "    </tr>\n",
       "    <tr>\n",
       "      <td>2010-03-24 09:56:00</td>\n",
       "      <td>22.52</td>\n",
       "      <td>260</td>\n",
       "    </tr>\n",
       "    <tr>\n",
       "      <td>2010-03-24 10:01:00</td>\n",
       "      <td>22.23</td>\n",
       "      <td>258</td>\n",
       "    </tr>\n",
       "    <tr>\n",
       "      <td>2010-03-24 10:06:00</td>\n",
       "      <td>21.56</td>\n",
       "      <td>254</td>\n",
       "    </tr>\n",
       "    <tr>\n",
       "      <td>2010-03-24 10:11:00</td>\n",
       "      <td>20.79</td>\n",
       "      <td>246</td>\n",
       "    </tr>\n",
       "  </tbody>\n",
       "</table>\n",
       "</div>"
      ],
      "text/plain": [
       "                      isig  glucose\n",
       "datetime                           \n",
       "2010-03-24 09:51:00  22.59      258\n",
       "2010-03-24 09:56:00  22.52      260\n",
       "2010-03-24 10:01:00  22.23      258\n",
       "2010-03-24 10:06:00  21.56      254\n",
       "2010-03-24 10:11:00  20.79      246"
      ]
     },
     "execution_count": 18,
     "metadata": {},
     "output_type": "execute_result"
    }
   ],
   "source": [
    "from bokeh.sampledata.glucose import data\n",
    "data.head()"
   ]
  },
  {
   "cell_type": "code",
   "execution_count": 20,
   "metadata": {
    "Collapsed": "false"
   },
   "outputs": [
    {
     "data": {
      "text/html": [
       "\n",
       "\n",
       "\n",
       "\n",
       "\n",
       "\n",
       "  <div class=\"bk-root\" id=\"6923c6e9-4e72-4a20-bb6f-de191707874b\" data-root-id=\"1777\"></div>\n"
      ]
     },
     "metadata": {},
     "output_type": "display_data"
    },
    {
     "data": {
      "application/javascript": [
       "(function(root) {\n",
       "  function embed_document(root) {\n",
       "    \n",
       "  var docs_json = {\"1845d6aa-9ab2-489b-91a8-d0161932feca\":{\"roots\":{\"references\":[{\"attributes\":{\"below\":[{\"id\":\"1788\",\"type\":\"DatetimeAxis\"}],\"center\":[{\"id\":\"1792\",\"type\":\"Grid\"},{\"id\":\"1797\",\"type\":\"Grid\"}],\"left\":[{\"id\":\"1793\",\"type\":\"LinearAxis\"}],\"plot_height\":350,\"plot_width\":800,\"renderers\":[{\"id\":\"1814\",\"type\":\"GlyphRenderer\"}],\"title\":{\"id\":\"1778\",\"type\":\"Title\"},\"toolbar\":{\"id\":\"1804\",\"type\":\"Toolbar\"},\"x_range\":{\"id\":\"1780\",\"type\":\"DataRange1d\"},\"x_scale\":{\"id\":\"1784\",\"type\":\"LinearScale\"},\"y_range\":{\"id\":\"1782\",\"type\":\"DataRange1d\"},\"y_scale\":{\"id\":\"1786\",\"type\":\"LinearScale\"}},\"id\":\"1777\",\"subtype\":\"Figure\",\"type\":\"Plot\"},{\"attributes\":{\"callback\":null,\"data\":{\"x\":{\"__ndarray__\":\"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\",\"dtype\":\"float64\",\"shape\":[2217]},\"y\":[92,100,108,115,120,124,128,133,137,142,147,152,157,162,167,171,175,179,185,192,200,207,212,215,217,219,218,219,217,216,216,216,215,214,212,211,209,207,204,203,203,203,203,204,203,202,201,200,199,199,197,193,189,185,182,182,183,184,184,182,177,174,172,170,168,167,166,164,162,160,158,155,152,150,147,140,131,124,120,116,114,114,116,118,119,120,120,120,119,117,114,112,112,111,111,112,111,111,110,108,106,106,106,106,104,101,101,103,102,100,99,100,100,99,99,99,100,99,98,97,97,96,92,90,89,86,85,85,84,84,81,80,81,86,99,115,125,130,129,128,123,118,113,111,112,111,109,108,105,101,100,102,107,113,119,125,129,131,129,128,127,127,127,125,122,117,113,108,103,98,93,89,86,85,83,82,81,82,84,87,92,99,107,121,133,142,146,149,150,151,151,152,152,150,148,161,160,158,157,157,157,156,153,149,147,145,144,145,149,154,159,163,164,164,164,163,162,158,154,153,154,155,157,159,158,156,152,148,144,139,134,128,123,121,119,117,115,115,112,109,106,105,103,101,97,93,89,86,85,88,93,100,106,113,119,125,131,137,142,149,159,172,186,197,204,207,208,207,205,202,199,197,193,185,176,178,177,177,176,173,171,170,169,167,166,165,163,163,162,160,156,150,150,150,151,150,150,150,149,149,148,149,147,145,143,139,141,145,147,147,146,145,141,138,136,135,134,133,132,129,124,120,118,112,114,119,123,125,126,127,128,135,143,148,151,153,154,155,156,156,157,157,156,155,154,147,137,131,128,129,131,132,133,135,135,133,131,132,135,138,139,138,136,132,128,126,125,120,113,108,106,105,108,111,113,116,120,120,120,119,118,118,118,118,117,116,113,106,98,93,97,107,115,122,120,113,102,94,95,96,90,88,83,83,85,90,97,98,99,94,89,95,105,111,113,106,95,90,91,96,101,104,109,112,120,123,118,115,123,130,128,130,136,131,121,113,110,108,109,111,115,120,115,108,105,105,104,106,110,111,115,115,117,114,111,107,105,109,111,110,111,115,121,126,135,142,145,147,150,153,156,160,162,161,160,160,159,157,154,152,152,150,143,138,132,128,124,119,112,105,98,92,94,98,106,118,126,128,127,123,123,121,118,115,112,112,114,113,105,78,209,204,214,252,282,290,295,292,284,268,263,262,263,263,262,258,249,236,179,165,157,152,150,149,150,154,158,163,166,166,163,159,158,161,170,176,178,174,170,166,160,156,151,148,147,145,142,141,145,144,144,153,155,152,147,143,145,152,156,157,156,155,155,156,158,158,158,156,152,146,139,139,141,143,145,147,148,149,149,149,148,147,144,140,139,139,138,137,136,135,134,133,134,136,137,136,134,135,139,142,143,141,138,141,145,148,151,152,154,156,155,155,159,163,166,166,166,164,162,160,158,157,155,153,150,150,149,149,149,149,150,152,154,155,155,156,156,157,160,163,165,165,164,163,121,119,117,114,113,112,113,113,113,113,112,113,113,113,114,112,110,109,109,109,108,108,90,90,94,99,107,116,125,130,132,130,124,117,110,103,95,88,81,77,75,63,65,70,73,78,80,80,79,80,83,86,89,94,96,98,104,105,106,106,107,107,109,114,118,121,123,124,123,122,122,123,123,123,124,123,123,124,127,132,137,139,140,140,142,147,152,156,160,165,168,169,169,165,162,160,158,156,154,150,146,144,141,138,136,133,129,124,118,112,107,106,107,108,109,110,111,112,112,113,114,115,116,117,118,119,122,125,128,130,130,131,130,128,126,123,120,116,93,89,86,84,82,79,76,74,72,71,69,70,68,67,66,67,68,69,69,69,68,68,67,66,65,64,63,61,61,60,60,61,63,64,64,64,63,64,65,66,67,67,66,66,67,68,69,71,73,72,71,70,71,72,74,75,76,78,79,80,81,82,84,86,88,88,87,86,85,86,86,86,86,87,87,88,88,88,89,87,83,79,78,82,85,87,88,89,89,89,87,86,88,89,90,89,90,92,91,90,89,88,87,87,89,90,91,92,94,108,110,110,111,111,111,112,113,114,116,116,116,117,119,121,124,127,131,138,145,150,155,161,165,169,173,177,182,185,185,184,189,193,195,198,198,197,196,196,199,202,202,201,202,204,205,205,203,202,201,197,197,198,199,200,199,195,190,184,180,178,179,180,179,176,175,174,172,169,168,167,170,180,191,203,214,219,219,222,227,228,226,223,221,219,219,218,218,219,218,216,214,214,211,208,207,206,206,205,202,199,193,190,187,182,179,176,173,170,167,163,158,152,146,141,135,129,122,114,108,102,97,90,85,81,77,73,68,65,62,61,61,61,61,61,60,59,59,60,61,64,69,75,82,92,104,117,128,137,144,149,153,156,160,164,169,175,180,184,188,191,193,195,196,200,203,207,212,218,223,228,231,234,235,236,327,327,330,333,328,321,316,308,298,287,274,263,255,249,243,239,234,230,225,220,215,210,206,204,204,199,195,190,185,181,177,175,173,171,170,169,169,168,167,166,166,166,163,161,159,158,157,156,154,152,150,149,149,150,150,151,151,152,153,153,153,154,154,154,154,153,152,152,150,149,148,146,145,144,144,143,142,142,141,140,139,137,137,138,136,137,137,136,137,136,134,133,132,132,132,132,132,134,136,138,141,142,142,143,145,150,154,156,158,160,162,164,167,169,172,175,176,175,174,172,170,171,173,178,185,191,198,210,223,235,244,254,265,273,283,290,296,302,307,309,313,316,318,320,322,320,319,317,313,311,306,300,297,294,293,290,287,286,285,282,279,274,271,270,270,269,274,271,267,264,262,259,255,250,244,237,232,227,223,220,215,210,205,199,195,193,197,206,221,239,258,276,291,302,311,318,323,324,322,320,319,320,319,317,314,311,307,302,294,286,280,276,272,267,259,251,245,241,241,241,242,244,245,245,242,237,232,228,225,216,215,216,217,217,215,211,206,202,200,201,203,201,196,188,176,163,149,138,129,119,108,98,89,79,71,66,66,67,67,68,69,71,74,77,79,81,85,91,99,109,119,132,145,157,168,175,179,183,185,188,188,187,184,179,172,163,159,157,155,153,151,149,148,148,148,147,146,145,145,144,143,143,143,144,145,146,145,144,143,142,140,140,140,140,140,143,147,150,152,152,152,154,155,142,140,138,134,131,130,128,127,126,126,126,126,127,129,131,132,134,136,136,136,136,135,134,132,130,130,130,129,128,127,125,124,123,123,122,121,120,118,115,112,111,111,110,110,109,108,107,107,107,108,107,105,105,105,105,104,103,102,99,97,96,94,94,93,93,92,91,92,94,95,96,97,99,102,104,112,112,112,111,110,107,104,105,105,103,99,96,94,95,102,114,128,144,160,173,185,196,205,209,214,219,226,234,241,248,255,260,265,268,270,272,271,271,268,265,261,256,253,250,246,244,241,237,233,229,225,222,204,200,197,193,190,186,182,179,175,171,168,164,158,154,151,148,145,141,133,139,152,173,196,217,233,244,249,250,253,256,260,263,265,265,264,260,254,246,234,217,200,188,181,175,169,164,159,154,147,138,132,129,127,123,117,111,106,104,103,100,94,88,83,78,75,73,71,69,68,67,67,68,70,71,71,70,69,68,67,67,67,66,67,69,71,74,76,78,80,80,80,80,80,80,82,84,87,90,92,87,87,86,86,86,86,87,87,87,85,83,82,83,87,95,107,118,130,141,149,172,179,187,201,214,221,225,230,232,230,223,216,208,199,191,185,181,177,176,177,176,173,171,169,163,154,152,153,154,154,153,151,150,150,150,152,149,147,148,150,152,152,152,151,151,150,149,147,146,143,140,138,136,137,138,140,138,135,132,130,129,129,129,130,130,129,128,128,128,129,129,128,127,126,125,125,125,125,124,124,121,120,120,123,124,123,122,120,115,113,114,114,115,116,115,112,111,111,109,108,107,107,110,113,114,115,115,115,114,113,113,116,119,120,121,121,122,123,124,125,126,126,126,126,126,127,127,125,122,118,115,111,112,115,117,120,124,127,131,137,143,148,153,159,166,172,178,184,191,199,206,212,217,223,229,232,233,235,237,240,241,243,246,247,246,243,240,234,229,225,221,217,216,215,215,215,212,208,203,199,196,194,190,185,180,177,163,158,152,149,153,163,174,182,188,192,195,197,201,204,205,203,199,195,189,184,176,169,162,150,138,128,119,110,100,90,80,73,68,64,63,63,66,68,70,71,72,74,80,94,116,141,164,183,198,210,220,228,233,237,241,247,252,256,260,259,258,256,251,245,238,234,227,221,215,208,207,207,203,201,201,199,179,176,171,163,152,137,119,98,77,61,50,45,47,59,71,86,99,109,116,117,115,111,107,102,96,91,90,94,97,97,95,92,87,84,84,83,84,86,86,86,84,82,82,81,81,82,84,87,89,91,92,94,93,93,94,96,100,101,99,97,96,96,97,97,98,99,101,102,106,114,121,127,130,124,105,109,119,127,129,132,129,126,126,126,126,126,125,124,125,130,130,128,126,126,126,126,126,126,126,127,128,129,129,127,128,136,141,143,141,138,131,129,133,134,130,129,134,137,139,138,130,122,118,115,114,113,113,112,112,117,118,117,118,118,117,117,114,112,115,118,124,126,119,121,122,274,285,293,297,298,298,296,293,289,282,275,267,256,249,242,233,225,217,217,215,203,190,185,193,202,202,194,182,170,143,130,120,110,102,93,80,67,57,52,50,49,49,54,72,93,104,114,125,134,140,145,145,141,136,130,124,118,116,114,112,108,105,102,99,95,91,88,85,83,82,80,79,79,83,86,87,88,89,89,88,88,90,92,88,86,86,86,84,82,84,88,90,94,99,104,107,107,105,104,103,95,94,93,93,93,93,93,94,99,109,122,172,169,164,156,147,137,126,115,104,99,99,103,106,111,115,117,118,120,120,120,120,119,119,118,118,117,116,115,115,116,116,115,115,114,112,109,110,111,111,110,109,109,109,108,107,106,105,101,100,99,99,98,97,97]},\"selected\":{\"id\":\"1889\",\"type\":\"Selection\"},\"selection_policy\":{\"id\":\"1888\",\"type\":\"UnionRenderers\"}},\"id\":\"1811\",\"type\":\"ColumnDataSource\"},{\"attributes\":{\"months\":[0,6]},\"id\":\"1885\",\"type\":\"MonthsTicker\"},{\"attributes\":{\"active_drag\":\"auto\",\"active_inspect\":\"auto\",\"active_multi\":null,\"active_scroll\":\"auto\",\"active_tap\":\"auto\",\"tools\":[{\"id\":\"1798\",\"type\":\"PanTool\"},{\"id\":\"1799\",\"type\":\"WheelZoomTool\"},{\"id\":\"1800\",\"type\":\"BoxZoomTool\"},{\"id\":\"1801\",\"type\":\"SaveTool\"},{\"id\":\"1802\",\"type\":\"ResetTool\"},{\"id\":\"1803\",\"type\":\"HelpTool\"}]},\"id\":\"1804\",\"type\":\"Toolbar\"},{\"attributes\":{\"dimension\":1,\"grid_line_alpha\":0.5,\"ticker\":{\"id\":\"1794\",\"type\":\"BasicTicker\"}},\"id\":\"1797\",\"type\":\"Grid\"},{\"attributes\":{},\"id\":\"1784\",\"type\":\"LinearScale\"},{\"attributes\":{\"months\":[0,4,8]},\"id\":\"1884\",\"type\":\"MonthsTicker\"},{\"attributes\":{},\"id\":\"1886\",\"type\":\"YearsTicker\"},{\"attributes\":{\"days\":[1,2,3,4,5,6,7,8,9,10,11,12,13,14,15,16,17,18,19,20,21,22,23,24,25,26,27,28,29,30,31]},\"id\":\"1878\",\"type\":\"DaysTicker\"},{\"attributes\":{\"bottom_units\":\"screen\",\"fill_alpha\":{\"value\":0.5},\"fill_color\":{\"value\":\"lightgrey\"},\"left_units\":\"screen\",\"level\":\"overlay\",\"line_alpha\":{\"value\":1.0},\"line_color\":{\"value\":\"black\"},\"line_dash\":[4,4],\"line_width\":{\"value\":2},\"render_mode\":\"css\",\"right_units\":\"screen\",\"top_units\":\"screen\"},\"id\":\"1887\",\"type\":\"BoxAnnotation\"},{\"attributes\":{\"callback\":null},\"id\":\"1780\",\"type\":\"DataRange1d\"},{\"attributes\":{},\"id\":\"1798\",\"type\":\"PanTool\"},{\"attributes\":{\"base\":24,\"mantissas\":[1,2,4,6,8,12],\"max_interval\":43200000.0,\"min_interval\":3600000.0,\"num_minor_ticks\":0},\"id\":\"1877\",\"type\":\"AdaptiveTicker\"},{\"attributes\":{\"months\":[0,2,4,6,8,10]},\"id\":\"1883\",\"type\":\"MonthsTicker\"},{\"attributes\":{\"axis_label\":\"Glucosa\",\"formatter\":{\"id\":\"1874\",\"type\":\"BasicTickFormatter\"},\"ticker\":{\"id\":\"1794\",\"type\":\"BasicTicker\"}},\"id\":\"1793\",\"type\":\"LinearAxis\"},{\"attributes\":{\"base\":60,\"mantissas\":[1,2,5,10,15,20,30],\"max_interval\":1800000.0,\"min_interval\":1000.0,\"num_minor_ticks\":0},\"id\":\"1876\",\"type\":\"AdaptiveTicker\"},{\"attributes\":{\"days\":[1,15]},\"id\":\"1881\",\"type\":\"DaysTicker\"},{\"attributes\":{},\"id\":\"1888\",\"type\":\"UnionRenderers\"},{\"attributes\":{},\"id\":\"1889\",\"type\":\"Selection\"},{\"attributes\":{},\"id\":\"1799\",\"type\":\"WheelZoomTool\"},{\"attributes\":{\"axis_label\":\"Time\",\"formatter\":{\"id\":\"1872\",\"type\":\"DatetimeTickFormatter\"},\"ticker\":{\"id\":\"1789\",\"type\":\"DatetimeTicker\"}},\"id\":\"1788\",\"type\":\"DatetimeAxis\"},{\"attributes\":{\"data_source\":{\"id\":\"1811\",\"type\":\"ColumnDataSource\"},\"glyph\":{\"id\":\"1812\",\"type\":\"Line\"},\"hover_glyph\":null,\"muted_glyph\":null,\"nonselection_glyph\":{\"id\":\"1813\",\"type\":\"Line\"},\"selection_glyph\":null,\"view\":{\"id\":\"1815\",\"type\":\"CDSView\"}},\"id\":\"1814\",\"type\":\"GlyphRenderer\"},{\"attributes\":{},\"id\":\"1874\",\"type\":\"BasicTickFormatter\"},{\"attributes\":{\"num_minor_ticks\":5,\"tickers\":[{\"id\":\"1875\",\"type\":\"AdaptiveTicker\"},{\"id\":\"1876\",\"type\":\"AdaptiveTicker\"},{\"id\":\"1877\",\"type\":\"AdaptiveTicker\"},{\"id\":\"1878\",\"type\":\"DaysTicker\"},{\"id\":\"1879\",\"type\":\"DaysTicker\"},{\"id\":\"1880\",\"type\":\"DaysTicker\"},{\"id\":\"1881\",\"type\":\"DaysTicker\"},{\"id\":\"1882\",\"type\":\"MonthsTicker\"},{\"id\":\"1883\",\"type\":\"MonthsTicker\"},{\"id\":\"1884\",\"type\":\"MonthsTicker\"},{\"id\":\"1885\",\"type\":\"MonthsTicker\"},{\"id\":\"1886\",\"type\":\"YearsTicker\"}]},\"id\":\"1789\",\"type\":\"DatetimeTicker\"},{\"attributes\":{\"overlay\":{\"id\":\"1887\",\"type\":\"BoxAnnotation\"}},\"id\":\"1800\",\"type\":\"BoxZoomTool\"},{\"attributes\":{\"days\":[1,4,7,10,13,16,19,22,25,28]},\"id\":\"1879\",\"type\":\"DaysTicker\"},{\"attributes\":{},\"id\":\"1803\",\"type\":\"HelpTool\"},{\"attributes\":{\"mantissas\":[1,2,5],\"max_interval\":500.0,\"num_minor_ticks\":0},\"id\":\"1875\",\"type\":\"AdaptiveTicker\"},{\"attributes\":{\"text\":\"Glucosa\"},\"id\":\"1778\",\"type\":\"Title\"},{\"attributes\":{},\"id\":\"1786\",\"type\":\"LinearScale\"},{\"attributes\":{},\"id\":\"1802\",\"type\":\"ResetTool\"},{\"attributes\":{\"line_alpha\":0.1,\"line_color\":\"#1f77b4\",\"x\":{\"field\":\"x\"},\"y\":{\"field\":\"y\"}},\"id\":\"1813\",\"type\":\"Line\"},{\"attributes\":{\"line_color\":\"#1f77b4\",\"x\":{\"field\":\"x\"},\"y\":{\"field\":\"y\"}},\"id\":\"1812\",\"type\":\"Line\"},{\"attributes\":{\"callback\":null},\"id\":\"1782\",\"type\":\"DataRange1d\"},{\"attributes\":{},\"id\":\"1801\",\"type\":\"SaveTool\"},{\"attributes\":{\"source\":{\"id\":\"1811\",\"type\":\"ColumnDataSource\"}},\"id\":\"1815\",\"type\":\"CDSView\"},{\"attributes\":{},\"id\":\"1872\",\"type\":\"DatetimeTickFormatter\"},{\"attributes\":{\"days\":[1,8,15,22]},\"id\":\"1880\",\"type\":\"DaysTicker\"},{\"attributes\":{\"grid_line_color\":null,\"ticker\":{\"id\":\"1789\",\"type\":\"DatetimeTicker\"}},\"id\":\"1792\",\"type\":\"Grid\"},{\"attributes\":{\"months\":[0,1,2,3,4,5,6,7,8,9,10,11]},\"id\":\"1882\",\"type\":\"MonthsTicker\"},{\"attributes\":{},\"id\":\"1794\",\"type\":\"BasicTicker\"}],\"root_ids\":[\"1777\"]},\"title\":\"Bokeh Application\",\"version\":\"1.3.4\"}};\n",
       "  var render_items = [{\"docid\":\"1845d6aa-9ab2-489b-91a8-d0161932feca\",\"roots\":{\"1777\":\"6923c6e9-4e72-4a20-bb6f-de191707874b\"}}];\n",
       "  root.Bokeh.embed.embed_items_notebook(docs_json, render_items);\n",
       "\n",
       "  }\n",
       "  if (root.Bokeh !== undefined) {\n",
       "    embed_document(root);\n",
       "  } else {\n",
       "    var attempts = 0;\n",
       "    var timer = setInterval(function(root) {\n",
       "      if (root.Bokeh !== undefined) {\n",
       "        embed_document(root);\n",
       "        clearInterval(timer);\n",
       "      }\n",
       "      attempts++;\n",
       "      if (attempts > 100) {\n",
       "        console.log(\"Bokeh: ERROR: Unable to run BokehJS code because BokehJS library is missing\");\n",
       "        clearInterval(timer);\n",
       "      }\n",
       "    }, 10, root)\n",
       "  }\n",
       "})(window);"
      ],
      "application/vnd.bokehjs_exec.v0+json": ""
     },
     "metadata": {
      "application/vnd.bokehjs_exec.v0+json": {
       "id": "1777"
      }
     },
     "output_type": "display_data"
    }
   ],
   "source": [
    "# reduce data size to one week\n",
    "week = data.loc['2010-10-01':'2010-10-08']\n",
    "\n",
    "p = figure(x_axis_type=\"datetime\", title=\"Glucosa\", plot_height=350, plot_width=800)\n",
    "p.xgrid.grid_line_color=None\n",
    "p.ygrid.grid_line_alpha=0.5\n",
    "p.xaxis.axis_label = 'Time'\n",
    "p.yaxis.axis_label = 'Glucosa'\n",
    "\n",
    "p.line(week.index, week.glucose)\n",
    "\n",
    "show(p)"
   ]
  },
  {
   "cell_type": "markdown",
   "metadata": {
    "Collapsed": "false"
   },
   "source": [
    "# Matrices hexagonales"
   ]
  },
  {
   "cell_type": "code",
   "execution_count": 21,
   "metadata": {
    "Collapsed": "false"
   },
   "outputs": [
    {
     "data": {
      "text/html": [
       "\n",
       "\n",
       "\n",
       "\n",
       "\n",
       "\n",
       "  <div class=\"bk-root\" id=\"7474edeb-04a7-4955-970c-f58150bf3c6e\" data-root-id=\"2010\"></div>\n"
      ]
     },
     "metadata": {},
     "output_type": "display_data"
    },
    {
     "data": {
      "application/javascript": [
       "(function(root) {\n",
       "  function embed_document(root) {\n",
       "    \n",
       "  var docs_json = {\"cb4471de-53dc-409b-aea7-b4423167652c\":{\"roots\":{\"references\":[{\"attributes\":{\"background_fill_color\":{\"value\":\"#440154\"},\"below\":[{\"id\":\"2019\",\"type\":\"LinearAxis\"}],\"center\":[{\"id\":\"2023\",\"type\":\"Grid\"},{\"id\":\"2028\",\"type\":\"Grid\"}],\"left\":[{\"id\":\"2024\",\"type\":\"LinearAxis\"}],\"match_aspect\":true,\"renderers\":[{\"id\":\"2037\",\"type\":\"GlyphRenderer\"}],\"title\":{\"id\":\"2113\",\"type\":\"Title\"},\"toolbar\":{\"id\":\"2031\",\"type\":\"Toolbar\"},\"x_range\":{\"id\":\"2011\",\"type\":\"DataRange1d\"},\"x_scale\":{\"id\":\"2015\",\"type\":\"LinearScale\"},\"y_range\":{\"id\":\"2013\",\"type\":\"DataRange1d\"},\"y_scale\":{\"id\":\"2017\",\"type\":\"LinearScale\"}},\"id\":\"2010\",\"subtype\":\"Figure\",\"type\":\"Plot\"},{\"attributes\":{},\"id\":\"2015\",\"type\":\"LinearScale\"},{\"attributes\":{\"callback\":null},\"id\":\"2013\",\"type\":\"DataRange1d\"},{\"attributes\":{\"data_source\":{\"id\":\"2034\",\"type\":\"ColumnDataSource\"},\"glyph\":{\"id\":\"2035\",\"type\":\"HexTile\"},\"hover_glyph\":null,\"muted_glyph\":null,\"nonselection_glyph\":{\"id\":\"2036\",\"type\":\"HexTile\"},\"selection_glyph\":null,\"view\":{\"id\":\"2038\",\"type\":\"CDSView\"}},\"id\":\"2037\",\"type\":\"GlyphRenderer\"},{\"attributes\":{\"formatter\":{\"id\":\"2118\",\"type\":\"BasicTickFormatter\"},\"ticker\":{\"id\":\"2025\",\"type\":\"BasicTicker\"}},\"id\":\"2024\",\"type\":\"LinearAxis\"},{\"attributes\":{\"dimension\":1,\"ticker\":{\"id\":\"2025\",\"type\":\"BasicTicker\"},\"visible\":false},\"id\":\"2028\",\"type\":\"Grid\"},{\"attributes\":{\"callback\":null},\"id\":\"2011\",\"type\":\"DataRange1d\"},{\"attributes\":{\"text\":\"\"},\"id\":\"2113\",\"type\":\"Title\"},{\"attributes\":{},\"id\":\"2025\",\"type\":\"BasicTicker\"},{\"attributes\":{\"source\":{\"id\":\"2034\",\"type\":\"ColumnDataSource\"}},\"id\":\"2038\",\"type\":\"CDSView\"},{\"attributes\":{\"fill_color\":{\"field\":\"fill_color\"},\"q\":{\"field\":\"q\"},\"r\":{\"field\":\"r\"},\"size\":0.1},\"id\":\"2035\",\"type\":\"HexTile\"},{\"attributes\":{},\"id\":\"2120\",\"type\":\"Selection\"},{\"attributes\":{\"active_drag\":\"auto\",\"active_inspect\":\"auto\",\"active_multi\":null,\"active_scroll\":\"auto\",\"active_tap\":\"auto\",\"tools\":[{\"id\":\"2029\",\"type\":\"WheelZoomTool\"},{\"id\":\"2030\",\"type\":\"ResetTool\"}]},\"id\":\"2031\",\"type\":\"Toolbar\"},{\"attributes\":{},\"id\":\"2029\",\"type\":\"WheelZoomTool\"},{\"attributes\":{},\"id\":\"2118\",\"type\":\"BasicTickFormatter\"},{\"attributes\":{},\"id\":\"2017\",\"type\":\"LinearScale\"},{\"attributes\":{},\"id\":\"2030\",\"type\":\"ResetTool\"},{\"attributes\":{\"formatter\":{\"id\":\"2116\",\"type\":\"BasicTickFormatter\"},\"ticker\":{\"id\":\"2020\",\"type\":\"BasicTicker\"}},\"id\":\"2019\",\"type\":\"LinearAxis\"},{\"attributes\":{\"callback\":null,\"data\":{\"fill_color\":[\"#440255\",\"#440255\",\"#440255\",\"#440255\",\"#440255\",\"#440255\",\"#440255\",\"#440255\",\"#440255\",\"#440255\",\"#440255\",\"#440255\",\"#440255\",\"#440255\",\"#440255\",\"#440255\",\"#440255\",\"#440357\",\"#450558\",\"#440357\",\"#440255\",\"#440357\",\"#440255\",\"#440255\",\"#440255\",\"#440255\",\"#440255\",\"#440255\",\"#440357\",\"#440255\",\"#45065A\",\"#440255\",\"#440255\",\"#440255\",\"#440255\",\"#440255\",\"#440255\",\"#440255\",\"#440255\",\"#450558\",\"#450558\",\"#440357\",\"#450558\",\"#450558\",\"#45065A\",\"#440255\",\"#440255\",\"#45065A\",\"#440357\",\"#440255\",\"#440255\",\"#440255\",\"#440255\",\"#440255\",\"#440255\",\"#45065A\",\"#450558\",\"#440255\",\"#450558\",\"#440255\",\"#440357\",\"#45085B\",\"#45085B\",\"#440357\",\"#45065A\",\"#440357\",\"#440357\",\"#450558\",\"#45085B\",\"#450558\",\"#440357\",\"#440357\",\"#450558\",\"#440255\",\"#440255\",\"#440255\",\"#440357\",\"#440255\",\"#440255\",\"#46095C\",\"#440357\",\"#440255\",\"#45085B\",\"#46095C\",\"#460B5E\",\"#45065A\",\"#45065A\",\"#45085B\",\"#45065A\",\"#440357\",\"#45065A\",\"#440357\",\"#46095C\",\"#440357\",\"#450558\",\"#440255\",\"#440255\",\"#440357\",\"#440255\",\"#440255\",\"#440255\",\"#440255\",\"#440255\",\"#440255\",\"#450558\",\"#450558\",\"#45085B\",\"#45065A\",\"#450558\",\"#450558\",\"#45085B\",\"#470F62\",\"#470F62\",\"#460C5F\",\"#471669\",\"#460C5F\",\"#45065A\",\"#45065A\",\"#471567\",\"#470F62\",\"#460B5E\",\"#440255\",\"#450558\",\"#450558\",\"#440255\",\"#440255\",\"#440255\",\"#440255\",\"#440357\",\"#440357\",\"#45085B\",\"#440357\",\"#440357\",\"#450558\",\"#45085B\",\"#45085B\",\"#450558\",\"#471265\",\"#45085B\",\"#471466\",\"#470F62\",\"#48196B\",\"#470F62\",\"#471163\",\"#471567\",\"#471265\",\"#45065A\",\"#460C5F\",\"#45085B\",\"#440357\",\"#450558\",\"#440255\",\"#450558\",\"#440357\",\"#440255\",\"#440255\",\"#440255\",\"#440357\",\"#440255\",\"#440255\",\"#440255\",\"#440357\",\"#45065A\",\"#46095C\",\"#45085B\",\"#460B5E\",\"#460B5E\",\"#45085B\",\"#482071\",\"#471466\",\"#48196B\",\"#460C5F\",\"#481C6E\",\"#482374\",\"#471265\",\"#48196B\",\"#481E70\",\"#48196B\",\"#471669\",\"#460C5F\",\"#460B5E\",\"#45065A\",\"#460B5E\",\"#450558\",\"#440255\",\"#440255\",\"#440357\",\"#440357\",\"#440255\",\"#440255\",\"#440255\",\"#450558\",\"#450558\",\"#471163\",\"#46095C\",\"#460C5F\",\"#470F62\",\"#481C6E\",\"#471669\",\"#481D6F\",\"#482374\",\"#47186A\",\"#472878\",\"#472A79\",\"#482374\",\"#471669\",\"#481E70\",\"#48196B\",\"#47186A\",\"#470F62\",\"#471669\",\"#470F62\",\"#460B5E\",\"#46095C\",\"#440255\",\"#45065A\",\"#440255\",\"#440357\",\"#440357\",\"#440255\",\"#440357\",\"#45085B\",\"#45085B\",\"#470F62\",\"#470F62\",\"#471466\",\"#472878\",\"#472575\",\"#472B7A\",\"#472A79\",\"#472575\",\"#433B83\",\"#453580\",\"#453580\",\"#472777\",\"#433A83\",\"#482273\",\"#482172\",\"#472777\",\"#482374\",\"#471466\",\"#460C5F\",\"#471163\",\"#45085B\",\"#450558\",\"#450558\",\"#45065A\",\"#440357\",\"#440255\",\"#440255\",\"#440255\",\"#440255\",\"#450558\",\"#450558\",\"#450558\",\"#440357\",\"#471669\",\"#471163\",\"#471265\",\"#471567\",\"#472575\",\"#482273\",\"#472B7A\",\"#472777\",\"#45347F\",\"#423D84\",\"#433A83\",\"#453681\",\"#423D84\",\"#443982\",\"#423D84\",\"#443781\",\"#45327F\",\"#482374\",\"#482374\",\"#472777\",\"#471567\",\"#471466\",\"#45065A\",\"#450558\",\"#440357\",\"#450558\",\"#440255\",\"#440255\",\"#440255\",\"#440255\",\"#440357\",\"#440357\",\"#45085B\",\"#460B5E\",\"#471466\",\"#460C5F\",\"#482172\",\"#472A79\",\"#45347F\",\"#453681\",\"#433A83\",\"#472C7B\",\"#423D84\",\"#39558B\",\"#3D4B89\",\"#3D4C89\",\"#38578C\",\"#3B508A\",\"#46307D\",\"#462D7C\",\"#472C7B\",\"#46307D\",\"#46307D\",\"#472A79\",\"#471466\",\"#471265\",\"#46095C\",\"#45065A\",\"#450558\",\"#440255\",\"#440255\",\"#440255\",\"#440357\",\"#440357\",\"#440255\",\"#450558\",\"#440357\",\"#471163\",\"#471265\",\"#482172\",\"#462F7C\",\"#472C7B\",\"#424085\",\"#404387\",\"#3D4A89\",\"#3D4C89\",\"#365B8C\",\"#32628D\",\"#345E8D\",\"#32628D\",\"#31668D\",\"#3C4D8A\",\"#3C4E8A\",\"#3C4E8A\",\"#424085\",\"#46307D\",\"#472575\",\"#471669\",\"#47186A\",\"#471466\",\"#450558\",\"#470F62\",\"#45085B\",\"#440255\",\"#440255\",\"#440357\",\"#440255\",\"#440255\",\"#45065A\",\"#470F62\",\"#45065A\",\"#471163\",\"#471466\",\"#472A79\",\"#471567\",\"#46307D\",\"#472B7A\",\"#423D84\",\"#3D4A89\",\"#3D4B89\",\"#31648D\",\"#33618D\",\"#30688D\",\"#2B748E\",\"#2E6C8E\",\"#2C728E\",\"#345E8D\",\"#365B8C\",\"#39558B\",\"#414286\",\"#414286\",\"#443781\",\"#482273\",\"#472575\",\"#471163\",\"#471163\",\"#460B5E\",\"#440357\",\"#440255\",\"#440255\",\"#440255\",\"#440357\",\"#440255\",\"#440357\",\"#440357\",\"#440357\",\"#45085B\",\"#440357\",\"#46095C\",\"#471163\",\"#481E70\",\"#472878\",\"#45347F\",\"#462F7C\",\"#39548B\",\"#3B508A\",\"#2D6E8E\",\"#355D8C\",\"#30678D\",\"#277C8E\",\"#2A778E\",\"#25838D\",\"#25838D\",\"#24858D\",\"#2D6F8E\",\"#345E8D\",\"#355C8C\",\"#3C4E8A\",\"#3D4A89\",\"#462D7C\",\"#462D7C\",\"#472777\",\"#471669\",\"#460C5F\",\"#471466\",\"#460C5F\",\"#440255\",\"#440357\",\"#440357\",\"#440255\",\"#440255\",\"#440255\",\"#440255\",\"#440357\",\"#440357\",\"#45085B\",\"#45065A\",\"#460C5F\",\"#460B5E\",\"#481E70\",\"#482374\",\"#482374\",\"#414286\",\"#37588C\",\"#3D4A89\",\"#31648D\",\"#2B748E\",\"#2E6B8E\",\"#228A8D\",\"#1E998A\",\"#23898D\",\"#23898D\",\"#1E978A\",\"#1F938B\",\"#2A758E\",\"#287A8E\",\"#33618D\",\"#3E4989\",\"#45347F\",\"#404387\",\"#472A79\",\"#482273\",\"#48196B\",\"#460C5F\",\"#470F62\",\"#450558\",\"#45085B\",\"#440357\",\"#440255\",\"#440357\",\"#440357\",\"#440255\",\"#440357\",\"#45065A\",\"#460C5F\",\"#471163\",\"#482374\",\"#472777\",\"#472878\",\"#433A83\",\"#433B83\",\"#31658D\",\"#2C718E\",\"#25828E\",\"#1F928C\",\"#1E998A\",\"#1F948B\",\"#23A982\",\"#1E9C89\",\"#1FA286\",\"#1F928C\",\"#1E9A89\",\"#218D8C\",\"#2C718E\",\"#2C728E\",\"#33618D\",\"#3D4C89\",\"#453681\",\"#45347F\",\"#472575\",\"#470F62\",\"#470F62\",\"#450558\",\"#450558\",\"#46095C\",\"#45065A\",\"#440255\",\"#440255\",\"#440255\",\"#440255\",\"#440255\",\"#440357\",\"#45085B\",\"#460B5E\",\"#46095C\",\"#481E70\",\"#482273\",\"#472878\",\"#443781\",\"#3D4C89\",\"#30678D\",\"#2D6E8E\",\"#29798E\",\"#1E9B89\",\"#4FC369\",\"#57C665\",\"#35B778\",\"#38B976\",\"#53C567\",\"#3BBA75\",\"#1F958B\",\"#24AA82\",\"#20918C\",\"#25838D\",\"#30688D\",\"#30688D\",\"#3F4587\",\"#433A83\",\"#472C7B\",\"#472575\",\"#481E70\",\"#471466\",\"#45085B\",\"#45085B\",\"#440255\",\"#45085B\",\"#440255\",\"#450558\",\"#440255\",\"#45065A\",\"#440357\",\"#471163\",\"#46095C\",\"#47186A\",\"#462D7C\",\"#433A83\",\"#443982\",\"#3C4E8A\",\"#39548B\",\"#2C728E\",\"#2B748E\",\"#1E9F88\",\"#20918C\",\"#3EBC73\",\"#4FC369\",\"#3BBA75\",\"#67CC5C\",\"#64CB5D\",\"#42BE71\",\"#2FB37B\",\"#20A485\",\"#28AE7F\",\"#287A8E\",\"#31648D\",\"#2F698D\",\"#3F4587\",\"#433B83\",\"#46307D\",\"#47186A\",\"#471669\",\"#481C6E\",\"#471265\",\"#45085B\",\"#440255\",\"#440255\",\"#440255\",\"#440255\",\"#440255\",\"#440357\",\"#440255\",\"#440255\",\"#45085B\",\"#470F62\",\"#48196B\",\"#48196B\",\"#472575\",\"#46307D\",\"#423D84\",\"#414286\",\"#2C708E\",\"#287B8E\",\"#23898D\",\"#1E9C89\",\"#1FA187\",\"#67CC5C\",\"#90D643\",\"#A5DA35\",\"#88D547\",\"#45BF6F\",\"#6BCD59\",\"#29AF7F\",\"#21A784\",\"#1F928C\",\"#24848D\",\"#2E6C8E\",\"#39558B\",\"#39548B\",\"#443781\",\"#482374\",\"#48196B\",\"#471265\",\"#47186A\",\"#45085B\",\"#450558\",\"#440357\",\"#440357\",\"#450558\",\"#440357\",\"#450558\",\"#460C5F\",\"#47186A\",\"#48196B\",\"#482172\",\"#482273\",\"#3C4E8A\",\"#3A538B\",\"#2F698D\",\"#267F8E\",\"#1E9D88\",\"#24AA82\",\"#3EBC73\",\"#79D151\",\"#88D547\",\"#97D83E\",\"#8DD644\",\"#B2DD2C\",\"#BFDF24\",\"#3BBA75\",\"#42BE71\",\"#1E9F88\",\"#1F968B\",\"#2A778E\",\"#267F8E\",\"#38568B\",\"#423E85\",\"#423E85\",\"#462F7C\",\"#470F62\",\"#460C5F\",\"#450558\",\"#450558\",\"#440357\",\"#450558\",\"#440357\",\"#440255\",\"#440255\",\"#440357\",\"#440255\",\"#440255\",\"#440255\",\"#46095C\",\"#460B5E\",\"#471466\",\"#47186A\",\"#433B83\",\"#453580\",\"#3C4E8A\",\"#32628D\",\"#22898D\",\"#277C8E\",\"#1E978A\",\"#1E9E88\",\"#51C468\",\"#67CC5C\",\"#90D643\",\"#B7DD29\",\"#92D741\",\"#D2E11B\",\"#7ED24E\",\"#55C666\",\"#55C666\",\"#1E9B89\",\"#24858D\",\"#25828E\",\"#32628D\",\"#37598C\",\"#453681\",\"#462F7C\",\"#481E70\",\"#471265\",\"#45065A\",\"#45065A\",\"#45085B\",\"#440357\",\"#440357\",\"#440357\",\"#440255\",\"#440255\",\"#440357\",\"#440255\",\"#440357\",\"#450558\",\"#450558\",\"#45065A\",\"#470F62\",\"#471466\",\"#482071\",\"#443982\",\"#423D84\",\"#3D4C89\",\"#2D6E8E\",\"#22898D\",\"#218C8D\",\"#32B57A\",\"#59C764\",\"#67CC5C\",\"#ECE41A\",\"#A2DA37\",\"#A5DA35\",\"#BADE27\",\"#D4E11A\",\"#6DCE58\",\"#53C567\",\"#25AB81\",\"#1E9F88\",\"#29798E\",\"#2C718E\",\"#3A528B\",\"#3D4C89\",\"#433A83\",\"#45327F\",\"#47186A\",\"#46095C\",\"#460B5E\",\"#440255\",\"#440255\",\"#440255\",\"#440357\",\"#440357\",\"#440255\",\"#440255\",\"#440357\",\"#440357\",\"#46095C\",\"#471466\",\"#481D6F\",\"#472C7B\",\"#404487\",\"#3F4587\",\"#30688D\",\"#2A758E\",\"#2B738E\",\"#1E998A\",\"#1E9E88\",\"#32B57A\",\"#BADE27\",\"#B7DD29\",\"#ECE41A\",\"#DFE318\",\"#5EC961\",\"#FDE724\",\"#42BE71\",\"#23A982\",\"#29AF7F\",\"#1E998A\",\"#287A8E\",\"#2F698D\",\"#3D4B89\",\"#45347F\",\"#482172\",\"#48196B\",\"#471163\",\"#471163\",\"#45065A\",\"#450558\",\"#440255\",\"#440255\",\"#440255\",\"#440255\",\"#450558\",\"#440255\",\"#440255\",\"#46095C\",\"#460B5E\",\"#481E70\",\"#482273\",\"#46307D\",\"#424085\",\"#3D4C89\",\"#277C8E\",\"#26808E\",\"#26818E\",\"#3BBA75\",\"#3DBB74\",\"#5EC961\",\"#6DCE58\",\"#60C960\",\"#A2DA37\",\"#9FD938\",\"#6DCE58\",\"#4FC369\",\"#45BF6F\",\"#26AC81\",\"#20908C\",\"#2E6C8E\",\"#345E8D\",\"#38568B\",\"#453580\",\"#453580\",\"#472575\",\"#481E70\",\"#460C5F\",\"#46095C\",\"#460B5E\",\"#45065A\",\"#440357\",\"#440255\",\"#440255\",\"#440357\",\"#440255\",\"#45085B\",\"#440255\",\"#440357\",\"#471669\",\"#472575\",\"#462F7C\",\"#45327F\",\"#3D4C89\",\"#33618D\",\"#37598C\",\"#20918C\",\"#22A784\",\"#29AF7F\",\"#24AA82\",\"#6BCD59\",\"#74D054\",\"#8DD644\",\"#72CF55\",\"#A7DB33\",\"#74D054\",\"#28AE7F\",\"#23A982\",\"#1F968B\",\"#2D6E8E\",\"#365B8C\",\"#33608D\",\"#423D84\",\"#462D7C\",\"#48196B\",\"#482273\",\"#471265\",\"#45085B\",\"#460C5F\",\"#440255\",\"#45065A\",\"#440255\",\"#440255\",\"#440255\",\"#440255\",\"#450558\",\"#45065A\",\"#460B5E\",\"#471669\",\"#471265\",\"#472777\",\"#462F7C\",\"#423D84\",\"#433A83\",\"#31648D\",\"#287A8E\",\"#228A8D\",\"#24868D\",\"#1FA286\",\"#3BBA75\",\"#55C666\",\"#67CC5C\",\"#3BBA75\",\"#29AF7F\",\"#26AC81\",\"#42BE71\",\"#24AA82\",\"#1F938B\",\"#267F8E\",\"#32628D\",\"#39548B\",\"#39548B\",\"#433A83\",\"#472A79\",\"#482374\",\"#471466\",\"#460C5F\",\"#45085B\",\"#440255\",\"#440357\",\"#440357\",\"#440255\",\"#440255\",\"#440255\",\"#45065A\",\"#45065A\",\"#46095C\",\"#471669\",\"#471466\",\"#482273\",\"#472878\",\"#3F4587\",\"#39548B\",\"#345F8D\",\"#277C8E\",\"#277D8E\",\"#1F928C\",\"#24AA82\",\"#1FA286\",\"#35B778\",\"#35B778\",\"#21A685\",\"#25AB81\",\"#29AF7F\",\"#1E998A\",\"#24AA82\",\"#24868D\",\"#30688D\",\"#2E6B8E\",\"#345F8D\",\"#3E4989\",\"#472878\",\"#482172\",\"#481E70\",\"#471265\",\"#450558\",\"#45065A\",\"#45065A\",\"#440255\",\"#440255\",\"#440255\",\"#440255\",\"#440255\",\"#440255\",\"#440255\",\"#440357\",\"#45085B\",\"#471265\",\"#471567\",\"#471466\",\"#47186A\",\"#443982\",\"#453580\",\"#3D4C89\",\"#365B8C\",\"#2D6F8E\",\"#287B8E\",\"#23898D\",\"#1E9E88\",\"#1E9C89\",\"#1E9B89\",\"#21A685\",\"#22A784\",\"#3EBC73\",\"#23A982\",\"#1E978A\",\"#24848D\",\"#33608D\",\"#2F698D\",\"#3D4C89\",\"#443982\",\"#453580\",\"#482374\",\"#471567\",\"#460B5E\",\"#471466\",\"#450558\",\"#45085B\",\"#440255\",\"#440255\",\"#440357\",\"#460C5F\",\"#460B5E\",\"#471265\",\"#47186A\",\"#482172\",\"#404487\",\"#423D84\",\"#3B508A\",\"#33608D\",\"#26808E\",\"#287B8E\",\"#26808E\",\"#228A8D\",\"#1F968B\",\"#25838D\",\"#1F958B\",\"#228B8D\",\"#24848D\",\"#24848D\",\"#30688D\",\"#39558B\",\"#39558B\",\"#404487\",\"#45347F\",\"#482374\",\"#481E70\",\"#472575\",\"#48196B\",\"#471466\",\"#460C5F\",\"#45085B\",\"#450558\",\"#440255\",\"#440255\",\"#45065A\",\"#45065A\",\"#46095C\",\"#460B5E\",\"#47186A\",\"#48196B\",\"#482172\",\"#472A79\",\"#423D84\",\"#3E4888\",\"#3D4C89\",\"#345F8D\",\"#2D6F8E\",\"#2B738E\",\"#287B8E\",\"#23888D\",\"#25838D\",\"#32628D\",\"#218C8D\",\"#2C728E\",\"#31658D\",\"#31658D\",\"#3D4C89\",\"#414186\",\"#472C7B\",\"#45347F\",\"#482172\",\"#471669\",\"#471265\",\"#471567\",\"#450558\",\"#45085B\",\"#440357\",\"#440357\",\"#440255\",\"#440255\",\"#440255\",\"#440255\",\"#440357\",\"#45085B\",\"#46095C\",\"#450558\",\"#471567\",\"#47186A\",\"#472C7B\",\"#482273\",\"#443781\",\"#414186\",\"#37598C\",\"#355D8C\",\"#365B8C\",\"#345E8D\",\"#31668D\",\"#2E6C8E\",\"#2D6F8E\",\"#24858D\",\"#31668D\",\"#2E6C8E\",\"#3A538B\",\"#414186\",\"#414286\",\"#443982\",\"#423E85\",\"#482172\",\"#471567\",\"#471567\",\"#471163\",\"#460C5F\",\"#45065A\",\"#45085B\",\"#450558\",\"#440255\",\"#450558\",\"#450558\",\"#45065A\",\"#45065A\",\"#471466\",\"#471669\",\"#481C6E\",\"#471567\",\"#482374\",\"#453681\",\"#46307D\",\"#3F4587\",\"#39548B\",\"#3D4C89\",\"#38568B\",\"#355C8C\",\"#345F8D\",\"#355D8C\",\"#345E8D\",\"#355C8C\",\"#423E85\",\"#453580\",\"#453580\",\"#423E85\",\"#472777\",\"#482273\",\"#471265\",\"#481C6E\",\"#460C5F\",\"#46095C\",\"#440255\",\"#440255\",\"#440357\",\"#440255\",\"#440255\",\"#45065A\",\"#440357\",\"#45065A\",\"#440255\",\"#460C5F\",\"#460B5E\",\"#471567\",\"#471567\",\"#471163\",\"#472C7B\",\"#482071\",\"#472777\",\"#433B83\",\"#443781\",\"#443982\",\"#404487\",\"#38568B\",\"#3E4989\",\"#39548B\",\"#3C4E8A\",\"#3F4587\",\"#423D84\",\"#423E85\",\"#472878\",\"#472575\",\"#481C6E\",\"#471669\",\"#471567\",\"#470F62\",\"#440255\",\"#45065A\",\"#45065A\",\"#450558\",\"#450558\",\"#440255\",\"#440255\",\"#440357\",\"#440255\",\"#440255\",\"#46095C\",\"#460C5F\",\"#470F62\",\"#471265\",\"#471265\",\"#471466\",\"#462D7C\",\"#46307D\",\"#424085\",\"#433A83\",\"#453681\",\"#462D7C\",\"#433B83\",\"#423D84\",\"#443781\",\"#443781\",\"#453580\",\"#472B7A\",\"#482374\",\"#482273\",\"#482172\",\"#482172\",\"#45065A\",\"#471163\",\"#450558\",\"#440255\",\"#450558\",\"#440255\",\"#440357\",\"#45085B\",\"#440255\",\"#450558\",\"#460C5F\",\"#460C5F\",\"#471466\",\"#482172\",\"#481D6F\",\"#472878\",\"#48196B\",\"#482273\",\"#46307D\",\"#482071\",\"#472878\",\"#472878\",\"#472C7B\",\"#472A79\",\"#472878\",\"#472878\",\"#472777\",\"#48196B\",\"#460C5F\",\"#471567\",\"#45085B\",\"#460C5F\",\"#46095C\",\"#45085B\",\"#440357\",\"#45065A\",\"#440255\",\"#440255\",\"#440255\",\"#450558\",\"#440357\",\"#471466\",\"#470F62\",\"#470F62\",\"#481D6F\",\"#47186A\",\"#481E70\",\"#460C5F\",\"#482071\",\"#481E70\",\"#471669\",\"#48196B\",\"#48196B\",\"#481D6F\",\"#472B7A\",\"#471466\",\"#48196B\",\"#481C6E\",\"#460B5E\",\"#471466\",\"#45065A\",\"#46095C\",\"#45085B\",\"#450558\",\"#440357\",\"#440255\",\"#440255\",\"#440357\",\"#440255\",\"#440255\",\"#450558\",\"#440357\",\"#45085B\",\"#440255\",\"#470F62\",\"#45085B\",\"#471466\",\"#48196B\",\"#460B5E\",\"#471163\",\"#481E70\",\"#471466\",\"#482172\",\"#471669\",\"#482273\",\"#471567\",\"#471265\",\"#460C5F\",\"#470F62\",\"#460C5F\",\"#460C5F\",\"#45065A\",\"#440357\",\"#440255\",\"#440357\",\"#440255\",\"#440255\",\"#440255\",\"#440357\",\"#440255\",\"#440255\",\"#440357\",\"#440255\",\"#440357\",\"#460B5E\",\"#45085B\",\"#46095C\",\"#460B5E\",\"#440255\",\"#471163\",\"#471163\",\"#460C5F\",\"#460C5F\",\"#471265\",\"#471567\",\"#471466\",\"#482071\",\"#471265\",\"#471163\",\"#470F62\",\"#45065A\",\"#45065A\",\"#45085B\",\"#450558\",\"#440357\",\"#450558\",\"#440255\",\"#440357\",\"#440357\",\"#440255\",\"#440255\",\"#440255\",\"#440255\",\"#440255\",\"#440255\",\"#440255\",\"#440357\",\"#450558\",\"#471163\",\"#450558\",\"#440357\",\"#45065A\",\"#460C5F\",\"#46095C\",\"#460B5E\",\"#45085B\",\"#471163\",\"#460B5E\",\"#471265\",\"#45085B\",\"#470F62\",\"#46095C\",\"#460C5F\",\"#440255\",\"#440255\",\"#45065A\",\"#440357\",\"#440255\",\"#440255\",\"#440255\",\"#440255\",\"#45065A\",\"#450558\",\"#45085B\",\"#46095C\",\"#45085B\",\"#450558\",\"#46095C\",\"#45085B\",\"#460C5F\",\"#45085B\",\"#460C5F\",\"#46095C\",\"#46095C\",\"#450558\",\"#440357\",\"#450558\",\"#440255\",\"#440255\",\"#440255\",\"#440255\",\"#440255\",\"#440255\",\"#450558\",\"#450558\",\"#440357\",\"#440357\",\"#440357\",\"#460B5E\",\"#450558\",\"#45085B\",\"#440357\",\"#45085B\",\"#440255\",\"#440357\",\"#440255\",\"#440255\",\"#440255\",\"#440255\",\"#440255\",\"#440255\",\"#440255\",\"#440255\",\"#45065A\",\"#45065A\",\"#440255\",\"#440255\",\"#450558\",\"#440255\",\"#440357\",\"#440255\",\"#440255\",\"#440255\",\"#440357\",\"#440255\",\"#440255\",\"#440255\",\"#440255\",\"#45065A\",\"#440357\",\"#440255\",\"#440357\",\"#440255\",\"#440357\",\"#440255\",\"#440255\",\"#450558\",\"#440255\",\"#440357\",\"#440255\",\"#440255\",\"#440357\",\"#440357\",\"#440255\",\"#440255\",\"#440255\",\"#440255\",\"#440255\",\"#440255\",\"#440255\",\"#440255\",\"#440255\",\"#440255\",\"#440255\",\"#440255\"],\"q\":[-28,-28,-26,-25,-24,-24,-24,-24,-23,-23,-23,-23,-23,-22,-22,-22,-22,-22,-22,-22,-22,-22,-21,-21,-21,-21,-21,-21,-21,-21,-21,-21,-21,-21,-21,-20,-20,-20,-20,-20,-20,-20,-20,-20,-20,-20,-20,-20,-20,-20,-20,-19,-19,-19,-19,-19,-19,-19,-19,-19,-19,-19,-19,-19,-19,-19,-19,-19,-19,-19,-19,-19,-19,-18,-18,-18,-18,-18,-18,-18,-18,-18,-18,-18,-18,-18,-18,-18,-18,-18,-18,-18,-18,-18,-18,-18,-18,-18,-18,-17,-17,-17,-17,-17,-17,-17,-17,-17,-17,-17,-17,-17,-17,-17,-17,-17,-17,-17,-17,-17,-17,-17,-17,-17,-17,-17,-17,-17,-16,-16,-16,-16,-16,-16,-16,-16,-16,-16,-16,-16,-16,-16,-16,-16,-16,-16,-16,-16,-16,-16,-16,-16,-16,-16,-16,-16,-16,-16,-15,-15,-15,-15,-15,-15,-15,-15,-15,-15,-15,-15,-15,-15,-15,-15,-15,-15,-15,-15,-15,-15,-15,-15,-15,-15,-15,-15,-15,-15,-15,-14,-14,-14,-14,-14,-14,-14,-14,-14,-14,-14,-14,-14,-14,-14,-14,-14,-14,-14,-14,-14,-14,-14,-14,-14,-14,-14,-14,-14,-13,-13,-13,-13,-13,-13,-13,-13,-13,-13,-13,-13,-13,-13,-13,-13,-13,-13,-13,-13,-13,-13,-13,-13,-13,-13,-13,-13,-13,-13,-13,-13,-12,-12,-12,-12,-12,-12,-12,-12,-12,-12,-12,-12,-12,-12,-12,-12,-12,-12,-12,-12,-12,-12,-12,-12,-12,-12,-12,-12,-12,-12,-12,-12,-12,-12,-11,-11,-11,-11,-11,-11,-11,-11,-11,-11,-11,-11,-11,-11,-11,-11,-11,-11,-11,-11,-11,-11,-11,-11,-11,-11,-11,-11,-11,-11,-11,-11,-11,-11,-10,-10,-10,-10,-10,-10,-10,-10,-10,-10,-10,-10,-10,-10,-10,-10,-10,-10,-10,-10,-10,-10,-10,-10,-10,-10,-10,-10,-10,-10,-10,-10,-10,-10,-9,-9,-9,-9,-9,-9,-9,-9,-9,-9,-9,-9,-9,-9,-9,-9,-9,-9,-9,-9,-9,-9,-9,-9,-9,-9,-9,-9,-9,-9,-9,-9,-9,-9,-9,-9,-8,-8,-8,-8,-8,-8,-8,-8,-8,-8,-8,-8,-8,-8,-8,-8,-8,-8,-8,-8,-8,-8,-8,-8,-8,-8,-8,-8,-8,-8,-8,-8,-8,-8,-8,-8,-8,-8,-7,-7,-7,-7,-7,-7,-7,-7,-7,-7,-7,-7,-7,-7,-7,-7,-7,-7,-7,-7,-7,-7,-7,-7,-7,-7,-7,-7,-7,-7,-7,-7,-7,-7,-7,-7,-7,-7,-7,-7,-6,-6,-6,-6,-6,-6,-6,-6,-6,-6,-6,-6,-6,-6,-6,-6,-6,-6,-6,-6,-6,-6,-6,-6,-6,-6,-6,-6,-6,-6,-6,-6,-6,-6,-6,-6,-6,-6,-6,-5,-5,-5,-5,-5,-5,-5,-5,-5,-5,-5,-5,-5,-5,-5,-5,-5,-5,-5,-5,-5,-5,-5,-5,-5,-5,-5,-5,-5,-5,-5,-5,-5,-5,-5,-5,-5,-5,-4,-4,-4,-4,-4,-4,-4,-4,-4,-4,-4,-4,-4,-4,-4,-4,-4,-4,-4,-4,-4,-4,-4,-4,-4,-4,-4,-4,-4,-4,-4,-4,-4,-4,-4,-4,-4,-4,-3,-3,-3,-3,-3,-3,-3,-3,-3,-3,-3,-3,-3,-3,-3,-3,-3,-3,-3,-3,-3,-3,-3,-3,-3,-3,-3,-3,-3,-3,-3,-3,-3,-3,-3,-3,-3,-3,-3,-3,-3,-2,-2,-2,-2,-2,-2,-2,-2,-2,-2,-2,-2,-2,-2,-2,-2,-2,-2,-2,-2,-2,-2,-2,-2,-2,-2,-2,-2,-2,-2,-2,-2,-2,-2,-2,-2,-2,-2,-2,-2,-1,-1,-1,-1,-1,-1,-1,-1,-1,-1,-1,-1,-1,-1,-1,-1,-1,-1,-1,-1,-1,-1,-1,-1,-1,-1,-1,-1,-1,-1,-1,-1,-1,-1,-1,-1,-1,-1,-1,-1,-1,0,0,0,0,0,0,0,0,0,0,0,0,0,0,0,0,0,0,0,0,0,0,0,0,0,0,0,0,0,0,0,0,0,0,0,0,0,0,0,0,0,0,1,1,1,1,1,1,1,1,1,1,1,1,1,1,1,1,1,1,1,1,1,1,1,1,1,1,1,1,1,1,1,1,1,1,1,1,1,1,1,2,2,2,2,2,2,2,2,2,2,2,2,2,2,2,2,2,2,2,2,2,2,2,2,2,2,2,2,2,2,2,2,2,2,2,2,2,2,2,3,3,3,3,3,3,3,3,3,3,3,3,3,3,3,3,3,3,3,3,3,3,3,3,3,3,3,3,3,3,3,3,3,3,3,3,3,3,3,3,4,4,4,4,4,4,4,4,4,4,4,4,4,4,4,4,4,4,4,4,4,4,4,4,4,4,4,4,4,4,4,4,4,4,4,4,4,4,4,4,5,5,5,5,5,5,5,5,5,5,5,5,5,5,5,5,5,5,5,5,5,5,5,5,5,5,5,5,5,5,5,5,5,5,5,5,5,5,6,6,6,6,6,6,6,6,6,6,6,6,6,6,6,6,6,6,6,6,6,6,6,6,6,6,6,6,6,6,6,6,6,6,6,6,6,6,7,7,7,7,7,7,7,7,7,7,7,7,7,7,7,7,7,7,7,7,7,7,7,7,7,7,7,7,7,7,7,7,7,7,7,7,8,8,8,8,8,8,8,8,8,8,8,8,8,8,8,8,8,8,8,8,8,8,8,8,8,8,8,8,8,8,8,8,8,8,8,8,9,9,9,9,9,9,9,9,9,9,9,9,9,9,9,9,9,9,9,9,9,9,9,9,9,9,9,9,9,9,9,9,9,9,9,10,10,10,10,10,10,10,10,10,10,10,10,10,10,10,10,10,10,10,10,10,10,10,10,10,10,10,10,10,10,10,10,10,10,10,10,11,11,11,11,11,11,11,11,11,11,11,11,11,11,11,11,11,11,11,11,11,11,11,11,11,11,11,11,11,11,11,11,11,11,11,12,12,12,12,12,12,12,12,12,12,12,12,12,12,12,12,12,12,12,12,12,12,12,12,12,12,12,12,12,12,12,12,12,13,13,13,13,13,13,13,13,13,13,13,13,13,13,13,13,13,13,13,13,13,13,13,13,13,13,13,13,13,13,14,14,14,14,14,14,14,14,14,14,14,14,14,14,14,14,14,14,14,14,14,14,14,14,14,14,14,14,14,15,15,15,15,15,15,15,15,15,15,15,15,15,15,15,15,15,15,15,15,15,15,15,15,15,15,15,15,15,15,15,15,16,16,16,16,16,16,16,16,16,16,16,16,16,16,16,16,16,16,16,16,16,16,16,16,16,16,16,16,16,16,16,16,16,17,17,17,17,17,17,17,17,17,17,17,17,17,17,17,17,17,17,17,17,17,17,17,17,17,17,17,17,18,18,18,18,18,18,18,18,18,18,18,18,18,18,18,18,18,18,18,18,19,19,19,19,19,19,19,19,19,19,19,19,19,19,19,19,19,19,19,19,19,20,20,20,20,20,20,20,20,20,20,20,20,20,20,20,20,21,21,21,21,21,21,21,21,21,22,22,22,22,22,22,22,22,23,23,23,23,23,23,23,24,26,26,26,26],\"r\":[10,18,20,9,-1,10,17,21,8,9,11,16,19,3,6,9,10,12,13,17,18,22,-3,2,4,5,6,7,9,10,12,13,14,16,17,-8,1,3,6,7,8,9,10,11,12,13,14,16,17,18,20,-4,-3,-1,0,1,2,3,4,5,6,7,8,9,10,11,12,13,14,15,16,17,19,-5,-4,-3,-1,0,1,2,3,4,5,6,7,8,9,10,11,12,13,14,15,16,17,18,19,21,23,-8,-6,-5,-4,-3,-2,-1,0,1,2,3,4,5,6,7,8,9,10,11,12,13,14,15,16,17,18,20,21,23,-8,-5,-3,-2,-1,0,1,2,3,4,5,6,7,8,9,10,11,12,13,14,15,16,17,18,19,20,21,22,23,24,-9,-7,-6,-5,-4,-3,-2,-1,0,1,2,3,4,5,6,7,8,9,10,11,12,13,14,15,16,17,18,19,20,22,26,-9,-7,-6,-4,-3,-2,-1,0,1,2,3,4,5,6,7,8,9,10,11,12,13,14,15,16,17,18,20,21,23,-8,-7,-6,-5,-4,-3,-2,-1,0,1,2,3,4,5,6,7,8,9,10,11,12,13,14,15,16,17,18,19,20,21,22,23,-13,-11,-9,-8,-7,-6,-5,-4,-3,-2,-1,0,1,2,3,4,5,6,7,8,9,10,11,12,13,14,15,16,17,18,19,21,22,23,-14,-12,-9,-8,-7,-6,-5,-4,-3,-2,-1,0,1,2,3,4,5,6,7,8,9,10,11,12,13,14,15,16,17,18,19,21,22,23,-11,-10,-9,-8,-7,-6,-5,-4,-3,-2,-1,0,1,2,3,4,5,6,7,8,9,10,11,12,13,14,15,16,17,18,19,20,22,23,-14,-13,-11,-10,-9,-8,-7,-6,-5,-4,-3,-2,-1,0,1,2,3,4,5,6,7,8,9,10,11,12,13,14,15,16,17,18,19,20,21,22,-17,-14,-13,-12,-11,-10,-9,-8,-7,-6,-5,-4,-3,-2,-1,0,1,2,3,4,5,6,7,8,9,10,11,12,13,14,15,16,17,18,19,20,22,24,-20,-16,-15,-14,-13,-12,-11,-10,-9,-8,-7,-6,-5,-4,-3,-2,-1,0,1,2,3,4,5,6,7,8,9,10,11,12,13,14,15,16,17,18,19,20,21,22,-16,-15,-14,-12,-11,-10,-9,-8,-7,-6,-5,-4,-3,-2,-1,0,1,2,3,4,5,6,7,8,9,10,11,12,13,14,15,16,17,18,20,21,23,24,25,-17,-16,-14,-13,-12,-11,-10,-9,-8,-7,-6,-5,-4,-3,-2,-1,0,1,2,3,4,5,6,7,8,9,10,11,12,13,14,15,16,17,18,19,20,21,-17,-16,-15,-14,-13,-12,-11,-10,-9,-8,-7,-6,-5,-4,-3,-2,-1,0,1,2,3,4,5,6,7,8,9,10,11,12,13,14,15,16,17,18,19,22,-22,-21,-18,-17,-16,-15,-14,-13,-12,-11,-10,-9,-8,-7,-6,-5,-4,-3,-2,-1,0,1,2,3,4,5,6,7,8,9,10,11,12,13,14,15,16,17,18,20,21,-17,-16,-15,-14,-13,-12,-11,-10,-9,-8,-7,-6,-5,-4,-3,-2,-1,0,1,2,3,4,5,6,7,8,9,10,11,12,13,14,15,16,17,18,19,20,21,22,-20,-18,-17,-16,-15,-14,-13,-12,-11,-10,-9,-8,-7,-6,-5,-4,-3,-2,-1,0,1,2,3,4,5,6,7,8,9,10,11,12,13,14,15,16,17,18,19,21,23,-25,-20,-19,-18,-17,-16,-15,-14,-13,-12,-11,-10,-9,-8,-7,-6,-5,-4,-3,-2,-1,0,1,2,3,4,5,6,7,8,9,10,11,12,13,14,15,16,17,18,19,20,-21,-20,-17,-16,-15,-14,-13,-12,-11,-10,-9,-8,-7,-6,-5,-4,-3,-2,-1,0,1,2,3,4,5,6,7,8,9,10,11,12,13,14,15,16,17,18,20,-20,-19,-18,-17,-16,-15,-14,-13,-12,-11,-10,-9,-8,-7,-6,-5,-4,-3,-2,-1,0,1,2,3,4,5,6,7,8,9,10,11,12,13,14,15,16,17,18,-22,-20,-19,-18,-17,-16,-15,-14,-13,-12,-11,-10,-9,-8,-7,-6,-5,-4,-3,-2,-1,0,1,2,3,4,5,6,7,8,9,10,11,12,13,14,15,16,18,19,-25,-22,-19,-18,-17,-16,-15,-14,-13,-12,-11,-10,-9,-8,-7,-6,-5,-4,-3,-2,-1,0,1,2,3,4,5,6,7,8,9,10,11,12,13,14,15,16,18,19,-23,-19,-18,-17,-16,-15,-14,-13,-12,-11,-10,-9,-8,-7,-6,-5,-4,-3,-2,-1,0,1,2,3,4,5,6,7,8,9,10,11,12,13,14,15,17,22,-25,-24,-23,-22,-19,-18,-17,-16,-15,-14,-13,-12,-11,-10,-9,-8,-7,-6,-5,-4,-3,-2,-1,0,1,2,3,4,5,6,7,8,9,10,11,12,13,18,-21,-19,-18,-17,-16,-15,-14,-13,-12,-11,-10,-9,-8,-7,-6,-5,-4,-3,-2,-1,0,1,2,3,4,5,6,7,8,9,10,11,12,13,14,20,-21,-19,-18,-17,-16,-15,-14,-13,-12,-11,-10,-9,-8,-7,-6,-5,-4,-3,-2,-1,0,1,2,3,4,5,6,7,8,9,10,11,12,13,14,15,-26,-23,-21,-19,-18,-17,-16,-15,-14,-13,-12,-11,-10,-9,-8,-7,-6,-5,-4,-3,-2,-1,0,1,2,3,4,5,6,7,8,9,10,11,12,-23,-22,-21,-19,-18,-17,-16,-15,-14,-13,-12,-11,-10,-9,-8,-7,-6,-5,-4,-3,-2,-1,0,1,2,3,4,5,6,7,8,9,10,11,14,15,-22,-21,-20,-19,-18,-17,-16,-15,-14,-13,-12,-11,-10,-9,-8,-7,-6,-5,-4,-3,-2,-1,0,1,2,3,4,5,6,7,8,9,10,11,12,-26,-21,-20,-19,-18,-17,-16,-15,-14,-13,-12,-11,-10,-9,-8,-7,-6,-5,-4,-3,-2,-1,0,1,2,3,4,5,6,7,8,9,10,-21,-19,-18,-17,-16,-15,-14,-13,-12,-11,-10,-9,-8,-7,-6,-5,-4,-3,-2,-1,0,1,2,3,4,5,6,7,8,9,-24,-21,-20,-18,-17,-16,-15,-14,-13,-12,-11,-10,-9,-8,-7,-6,-5,-4,-3,-2,-1,0,1,2,3,4,5,6,10,-24,-23,-21,-20,-19,-18,-17,-16,-15,-14,-13,-12,-11,-10,-9,-8,-7,-6,-5,-4,-3,-2,-1,0,1,2,3,4,5,8,10,11,-29,-26,-24,-21,-20,-19,-18,-17,-16,-15,-14,-13,-12,-11,-10,-9,-8,-7,-6,-5,-4,-3,-2,-1,0,1,2,3,4,5,6,7,8,-24,-23,-21,-20,-19,-18,-17,-16,-15,-14,-13,-12,-11,-10,-9,-8,-7,-6,-5,-4,-3,-2,-1,0,1,2,4,11,-28,-25,-17,-16,-15,-14,-13,-12,-11,-10,-9,-8,-7,-6,-5,-4,-3,0,2,3,-25,-22,-17,-16,-15,-14,-13,-12,-11,-10,-9,-8,-7,-6,-5,-4,-3,-2,1,2,7,-19,-18,-17,-12,-11,-10,-9,-8,-7,-6,-5,-4,-3,0,1,3,-18,-16,-15,-14,-13,-12,-10,-7,-5,-22,-17,-15,-12,-11,-8,-7,-6,-17,-14,-13,-8,-7,-6,-5,-3,-24,-22,-17,-12]},\"selected\":{\"id\":\"2120\",\"type\":\"Selection\"},\"selection_policy\":{\"id\":\"2119\",\"type\":\"UnionRenderers\"}},\"id\":\"2034\",\"type\":\"ColumnDataSource\"},{\"attributes\":{},\"id\":\"2020\",\"type\":\"BasicTicker\"},{\"attributes\":{},\"id\":\"2116\",\"type\":\"BasicTickFormatter\"},{\"attributes\":{},\"id\":\"2119\",\"type\":\"UnionRenderers\"},{\"attributes\":{\"fill_alpha\":{\"value\":0.1},\"fill_color\":{\"value\":\"#1f77b4\"},\"line_alpha\":{\"value\":0.1},\"line_color\":{\"value\":\"#1f77b4\"},\"q\":{\"field\":\"q\"},\"r\":{\"field\":\"r\"},\"size\":0.1},\"id\":\"2036\",\"type\":\"HexTile\"},{\"attributes\":{\"ticker\":{\"id\":\"2020\",\"type\":\"BasicTicker\"},\"visible\":false},\"id\":\"2023\",\"type\":\"Grid\"}],\"root_ids\":[\"2010\"]},\"title\":\"Bokeh Application\",\"version\":\"1.3.4\"}};\n",
       "  var render_items = [{\"docid\":\"cb4471de-53dc-409b-aea7-b4423167652c\",\"roots\":{\"2010\":\"7474edeb-04a7-4955-970c-f58150bf3c6e\"}}];\n",
       "  root.Bokeh.embed.embed_items_notebook(docs_json, render_items);\n",
       "\n",
       "  }\n",
       "  if (root.Bokeh !== undefined) {\n",
       "    embed_document(root);\n",
       "  } else {\n",
       "    var attempts = 0;\n",
       "    var timer = setInterval(function(root) {\n",
       "      if (root.Bokeh !== undefined) {\n",
       "        embed_document(root);\n",
       "        clearInterval(timer);\n",
       "      }\n",
       "      attempts++;\n",
       "      if (attempts > 100) {\n",
       "        console.log(\"Bokeh: ERROR: Unable to run BokehJS code because BokehJS library is missing\");\n",
       "        clearInterval(timer);\n",
       "      }\n",
       "    }, 10, root)\n",
       "  }\n",
       "})(window);"
      ],
      "application/vnd.bokehjs_exec.v0+json": ""
     },
     "metadata": {
      "application/vnd.bokehjs_exec.v0+json": {
       "id": "2010"
      }
     },
     "output_type": "display_data"
    }
   ],
   "source": [
    "from bokeh.palettes import Viridis256\n",
    "from bokeh.util.hex import hexbin\n",
    "\n",
    "n = 50000\n",
    "x = np.random.standard_normal(n)\n",
    "y = np.random.standard_normal(n)\n",
    "\n",
    "bins = hexbin(x, y, 0.1)\n",
    "\n",
    "# color map the bins by hand, will see how to use linear_cmap later\n",
    "color = [Viridis256[int(i)] for i in bins.counts/max(bins.counts)*255]\n",
    "\n",
    "# match_aspect ensures neither dimension is squished, regardless of the plot size\n",
    "p = figure(tools=\"wheel_zoom,reset\", match_aspect=True, background_fill_color='#440154')\n",
    "p.grid.visible = False\n",
    "\n",
    "p.hex_tile(bins.q, bins.r, size=0.1, line_color=None, fill_color=color)\n",
    "\n",
    "show(p)"
   ]
  },
  {
   "cell_type": "markdown",
   "metadata": {},
   "source": [
    "## Diagramas de Barras"
   ]
  },
  {
   "cell_type": "code",
   "execution_count": 24,
   "metadata": {},
   "outputs": [
    {
     "data": {
      "text/html": [
       "\n",
       "\n",
       "\n",
       "\n",
       "\n",
       "\n",
       "  <div class=\"bk-root\" id=\"b9d6012d-6f0e-4f4e-8216-571400a8c715\" data-root-id=\"2354\"></div>\n"
      ]
     },
     "metadata": {},
     "output_type": "display_data"
    },
    {
     "data": {
      "application/javascript": [
       "(function(root) {\n",
       "  function embed_document(root) {\n",
       "    \n",
       "  var docs_json = {\"3664e57e-e70b-406b-9638-85c20f44550f\":{\"roots\":{\"references\":[{\"attributes\":{\"below\":[{\"id\":\"2365\",\"type\":\"CategoricalAxis\"}],\"center\":[{\"id\":\"2368\",\"type\":\"Grid\"},{\"id\":\"2373\",\"type\":\"Grid\"}],\"left\":[{\"id\":\"2369\",\"type\":\"LinearAxis\"}],\"plot_height\":250,\"renderers\":[{\"id\":\"2390\",\"type\":\"GlyphRenderer\"}],\"title\":{\"id\":\"2355\",\"type\":\"Title\"},\"toolbar\":{\"id\":\"2380\",\"type\":\"Toolbar\"},\"x_range\":{\"id\":\"2357\",\"type\":\"FactorRange\"},\"x_scale\":{\"id\":\"2361\",\"type\":\"CategoricalScale\"},\"y_range\":{\"id\":\"2359\",\"type\":\"DataRange1d\"},\"y_scale\":{\"id\":\"2363\",\"type\":\"LinearScale\"}},\"id\":\"2354\",\"subtype\":\"Figure\",\"type\":\"Plot\"},{\"attributes\":{\"callback\":null,\"data\":{\"top\":[5,3,4,2,4,6],\"x\":[\"Apples\",\"Pears\",\"Nectarines\",\"Plums\",\"Grapes\",\"Strawberries\"]},\"selected\":{\"id\":\"2490\",\"type\":\"Selection\"},\"selection_policy\":{\"id\":\"2489\",\"type\":\"UnionRenderers\"}},\"id\":\"2387\",\"type\":\"ColumnDataSource\"},{\"attributes\":{},\"id\":\"2375\",\"type\":\"WheelZoomTool\"},{\"attributes\":{\"grid_line_color\":null,\"ticker\":{\"id\":\"2366\",\"type\":\"CategoricalTicker\"}},\"id\":\"2368\",\"type\":\"Grid\"},{\"attributes\":{\"overlay\":{\"id\":\"2488\",\"type\":\"BoxAnnotation\"}},\"id\":\"2376\",\"type\":\"BoxZoomTool\"},{\"attributes\":{\"formatter\":{\"id\":\"2487\",\"type\":\"BasicTickFormatter\"},\"ticker\":{\"id\":\"2370\",\"type\":\"BasicTicker\"}},\"id\":\"2369\",\"type\":\"LinearAxis\"},{\"attributes\":{},\"id\":\"2377\",\"type\":\"SaveTool\"},{\"attributes\":{},\"id\":\"2378\",\"type\":\"ResetTool\"},{\"attributes\":{},\"id\":\"2490\",\"type\":\"Selection\"},{\"attributes\":{},\"id\":\"2361\",\"type\":\"CategoricalScale\"},{\"attributes\":{},\"id\":\"2489\",\"type\":\"UnionRenderers\"},{\"attributes\":{},\"id\":\"2379\",\"type\":\"HelpTool\"},{\"attributes\":{\"dimension\":1,\"ticker\":{\"id\":\"2370\",\"type\":\"BasicTicker\"}},\"id\":\"2373\",\"type\":\"Grid\"},{\"attributes\":{},\"id\":\"2366\",\"type\":\"CategoricalTicker\"},{\"attributes\":{},\"id\":\"2485\",\"type\":\"CategoricalTickFormatter\"},{\"attributes\":{},\"id\":\"2370\",\"type\":\"BasicTicker\"},{\"attributes\":{\"text\":\"Fruit Counts\"},\"id\":\"2355\",\"type\":\"Title\"},{\"attributes\":{},\"id\":\"2487\",\"type\":\"BasicTickFormatter\"},{\"attributes\":{\"active_drag\":\"auto\",\"active_inspect\":\"auto\",\"active_multi\":null,\"active_scroll\":\"auto\",\"active_tap\":\"auto\",\"tools\":[{\"id\":\"2374\",\"type\":\"PanTool\"},{\"id\":\"2375\",\"type\":\"WheelZoomTool\"},{\"id\":\"2376\",\"type\":\"BoxZoomTool\"},{\"id\":\"2377\",\"type\":\"SaveTool\"},{\"id\":\"2378\",\"type\":\"ResetTool\"},{\"id\":\"2379\",\"type\":\"HelpTool\"}]},\"id\":\"2380\",\"type\":\"Toolbar\"},{\"attributes\":{\"fill_color\":{\"value\":\"#1f77b4\"},\"line_color\":{\"value\":\"#1f77b4\"},\"top\":{\"field\":\"top\"},\"width\":{\"value\":0.9},\"x\":{\"field\":\"x\"}},\"id\":\"2388\",\"type\":\"VBar\"},{\"attributes\":{\"callback\":null,\"start\":0},\"id\":\"2359\",\"type\":\"DataRange1d\"},{\"attributes\":{\"callback\":null,\"factors\":[\"Apples\",\"Pears\",\"Nectarines\",\"Plums\",\"Grapes\",\"Strawberries\"]},\"id\":\"2357\",\"type\":\"FactorRange\"},{\"attributes\":{},\"id\":\"2363\",\"type\":\"LinearScale\"},{\"attributes\":{\"source\":{\"id\":\"2387\",\"type\":\"ColumnDataSource\"}},\"id\":\"2391\",\"type\":\"CDSView\"},{\"attributes\":{\"fill_alpha\":{\"value\":0.1},\"fill_color\":{\"value\":\"#1f77b4\"},\"line_alpha\":{\"value\":0.1},\"line_color\":{\"value\":\"#1f77b4\"},\"top\":{\"field\":\"top\"},\"width\":{\"value\":0.9},\"x\":{\"field\":\"x\"}},\"id\":\"2389\",\"type\":\"VBar\"},{\"attributes\":{\"bottom_units\":\"screen\",\"fill_alpha\":{\"value\":0.5},\"fill_color\":{\"value\":\"lightgrey\"},\"left_units\":\"screen\",\"level\":\"overlay\",\"line_alpha\":{\"value\":1.0},\"line_color\":{\"value\":\"black\"},\"line_dash\":[4,4],\"line_width\":{\"value\":2},\"render_mode\":\"css\",\"right_units\":\"screen\",\"top_units\":\"screen\"},\"id\":\"2488\",\"type\":\"BoxAnnotation\"},{\"attributes\":{\"data_source\":{\"id\":\"2387\",\"type\":\"ColumnDataSource\"},\"glyph\":{\"id\":\"2388\",\"type\":\"VBar\"},\"hover_glyph\":null,\"muted_glyph\":null,\"nonselection_glyph\":{\"id\":\"2389\",\"type\":\"VBar\"},\"selection_glyph\":null,\"view\":{\"id\":\"2391\",\"type\":\"CDSView\"}},\"id\":\"2390\",\"type\":\"GlyphRenderer\"},{\"attributes\":{\"formatter\":{\"id\":\"2485\",\"type\":\"CategoricalTickFormatter\"},\"ticker\":{\"id\":\"2366\",\"type\":\"CategoricalTicker\"}},\"id\":\"2365\",\"type\":\"CategoricalAxis\"},{\"attributes\":{},\"id\":\"2374\",\"type\":\"PanTool\"}],\"root_ids\":[\"2354\"]},\"title\":\"Bokeh Application\",\"version\":\"1.3.4\"}};\n",
       "  var render_items = [{\"docid\":\"3664e57e-e70b-406b-9638-85c20f44550f\",\"roots\":{\"2354\":\"b9d6012d-6f0e-4f4e-8216-571400a8c715\"}}];\n",
       "  root.Bokeh.embed.embed_items_notebook(docs_json, render_items);\n",
       "\n",
       "  }\n",
       "  if (root.Bokeh !== undefined) {\n",
       "    embed_document(root);\n",
       "  } else {\n",
       "    var attempts = 0;\n",
       "    var timer = setInterval(function(root) {\n",
       "      if (root.Bokeh !== undefined) {\n",
       "        embed_document(root);\n",
       "        clearInterval(timer);\n",
       "      }\n",
       "      attempts++;\n",
       "      if (attempts > 100) {\n",
       "        console.log(\"Bokeh: ERROR: Unable to run BokehJS code because BokehJS library is missing\");\n",
       "        clearInterval(timer);\n",
       "      }\n",
       "    }, 10, root)\n",
       "  }\n",
       "})(window);"
      ],
      "application/vnd.bokehjs_exec.v0+json": ""
     },
     "metadata": {
      "application/vnd.bokehjs_exec.v0+json": {
       "id": "2354"
      }
     },
     "output_type": "display_data"
    }
   ],
   "source": [
    "fruits = ['Apples', 'Pears', 'Nectarines', 'Plums', 'Grapes', 'Strawberries']\n",
    "\n",
    "p = figure(x_range=fruits, plot_height=250, title=\"Fruit Counts\")\n",
    "\n",
    "p.vbar(x=fruits, top=[5, 3, 4, 2, 4, 6], width=0.9)\n",
    "\n",
    "p.xgrid.grid_line_color = None\n",
    "p.y_range.start = 0\n",
    "\n",
    "show(p)"
   ]
  },
  {
   "cell_type": "markdown",
   "metadata": {},
   "source": [
    "## Barras Apiladas"
   ]
  },
  {
   "cell_type": "code",
   "execution_count": 30,
   "metadata": {},
   "outputs": [
    {
     "data": {
      "text/html": [
       "\n",
       "\n",
       "\n",
       "\n",
       "\n",
       "\n",
       "  <div class=\"bk-root\" id=\"7bbdb531-6bfd-4586-a896-2537e3aaf3d4\" data-root-id=\"3049\"></div>\n"
      ]
     },
     "metadata": {},
     "output_type": "display_data"
    },
    {
     "data": {
      "application/javascript": [
       "(function(root) {\n",
       "  function embed_document(root) {\n",
       "    \n",
       "  var docs_json = {\"d65778fc-d2cb-481a-b4d4-26013269b51b\":{\"roots\":{\"references\":[{\"attributes\":{\"below\":[{\"id\":\"3060\",\"type\":\"LinearAxis\"}],\"center\":[{\"id\":\"3064\",\"type\":\"Grid\"},{\"id\":\"3068\",\"type\":\"Grid\"}],\"left\":[{\"id\":\"3065\",\"type\":\"CategoricalAxis\"}],\"plot_height\":250,\"renderers\":[{\"id\":\"3092\",\"type\":\"GlyphRenderer\"},{\"id\":\"3097\",\"type\":\"GlyphRenderer\"},{\"id\":\"3102\",\"type\":\"GlyphRenderer\"},{\"id\":\"3114\",\"type\":\"GlyphRenderer\"},{\"id\":\"3119\",\"type\":\"GlyphRenderer\"},{\"id\":\"3124\",\"type\":\"GlyphRenderer\"}],\"title\":{\"id\":\"3050\",\"type\":\"Title\"},\"toolbar\":{\"id\":\"3075\",\"type\":\"Toolbar\"},\"x_range\":{\"id\":\"3052\",\"type\":\"Range1d\"},\"x_scale\":{\"id\":\"3056\",\"type\":\"LinearScale\"},\"y_range\":{\"id\":\"3054\",\"type\":\"FactorRange\"},\"y_scale\":{\"id\":\"3058\",\"type\":\"CategoricalScale\"}},\"id\":\"3049\",\"subtype\":\"Figure\",\"type\":\"Plot\"},{\"attributes\":{},\"id\":\"3073\",\"type\":\"ResetTool\"},{\"attributes\":{\"fields\":[]},\"id\":\"3105\",\"type\":\"Stack\"},{\"attributes\":{\"formatter\":{\"id\":\"3245\",\"type\":\"CategoricalTickFormatter\"},\"ticker\":{\"id\":\"3066\",\"type\":\"CategoricalTicker\"}},\"id\":\"3065\",\"type\":\"CategoricalAxis\"},{\"attributes\":{\"fields\":[\"2015\"]},\"id\":\"3106\",\"type\":\"Stack\"},{\"attributes\":{\"fill_color\":{\"value\":\"#a8ddb5\"},\"height\":{\"value\":0.9},\"left\":{\"expr\":{\"id\":\"3085\",\"type\":\"Stack\"}},\"line_color\":{\"value\":\"#a8ddb5\"},\"right\":{\"expr\":{\"id\":\"3086\",\"type\":\"Stack\"}},\"y\":{\"field\":\"fruits\"}},\"id\":\"3095\",\"type\":\"HBar\"},{\"attributes\":{\"source\":{\"id\":\"3104\",\"type\":\"ColumnDataSource\"}},\"id\":\"3120\",\"type\":\"CDSView\"},{\"attributes\":{},\"id\":\"3072\",\"type\":\"SaveTool\"},{\"attributes\":{\"fields\":[\"2015\"]},\"id\":\"3085\",\"type\":\"Stack\"},{\"attributes\":{},\"id\":\"3248\",\"type\":\"Selection\"},{\"attributes\":{},\"id\":\"3250\",\"type\":\"Selection\"},{\"attributes\":{\"formatter\":{\"id\":\"3243\",\"type\":\"BasicTickFormatter\"},\"ticker\":{\"id\":\"3061\",\"type\":\"BasicTicker\"}},\"id\":\"3060\",\"type\":\"LinearAxis\"},{\"attributes\":{},\"id\":\"3069\",\"type\":\"PanTool\"},{\"attributes\":{\"fill_color\":{\"value\":\"#fee8c8\"},\"height\":{\"value\":0.9},\"left\":{\"expr\":{\"id\":\"3109\",\"type\":\"Stack\"}},\"line_color\":{\"value\":\"#fee8c8\"},\"right\":{\"expr\":{\"id\":\"3110\",\"type\":\"Stack\"}},\"y\":{\"field\":\"fruits\"}},\"id\":\"3122\",\"type\":\"HBar\"},{\"attributes\":{\"callback\":null,\"data\":{\"2015\":[2,1,4,3,2,4],\"2016\":[5,3,4,2,4,6],\"2017\":[3,2,4,4,5,3],\"fruits\":[\"Apples\",\"Pears\",\"Nectarines\",\"Plums\",\"Grapes\",\"Strawberries\"]},\"selected\":{\"id\":\"3248\",\"type\":\"Selection\"},\"selection_policy\":{\"id\":\"3247\",\"type\":\"UnionRenderers\"}},\"id\":\"3082\",\"type\":\"ColumnDataSource\"},{\"attributes\":{\"fill_color\":{\"value\":\"#e34a33\"},\"height\":{\"value\":0.9},\"left\":{\"expr\":{\"id\":\"3105\",\"type\":\"Stack\"}},\"line_color\":{\"value\":\"#e34a33\"},\"right\":{\"expr\":{\"id\":\"3106\",\"type\":\"Stack\"}},\"y\":{\"field\":\"fruits\"}},\"id\":\"3112\",\"type\":\"HBar\"},{\"attributes\":{\"data_source\":{\"id\":\"3104\",\"type\":\"ColumnDataSource\"},\"glyph\":{\"id\":\"3117\",\"type\":\"HBar\"},\"hover_glyph\":null,\"muted_glyph\":null,\"name\":\"2016\",\"nonselection_glyph\":{\"id\":\"3118\",\"type\":\"HBar\"},\"selection_glyph\":null,\"view\":{\"id\":\"3120\",\"type\":\"CDSView\"}},\"id\":\"3119\",\"type\":\"GlyphRenderer\"},{\"attributes\":{},\"id\":\"3074\",\"type\":\"HelpTool\"},{\"attributes\":{},\"id\":\"3061\",\"type\":\"BasicTicker\"},{\"attributes\":{\"overlay\":{\"id\":\"3246\",\"type\":\"BoxAnnotation\"}},\"id\":\"3071\",\"type\":\"BoxZoomTool\"},{\"attributes\":{\"fields\":[]},\"id\":\"3083\",\"type\":\"Stack\"},{\"attributes\":{\"data_source\":{\"id\":\"3104\",\"type\":\"ColumnDataSource\"},\"glyph\":{\"id\":\"3112\",\"type\":\"HBar\"},\"hover_glyph\":null,\"muted_glyph\":null,\"name\":\"2015\",\"nonselection_glyph\":{\"id\":\"3113\",\"type\":\"HBar\"},\"selection_glyph\":null,\"view\":{\"id\":\"3115\",\"type\":\"CDSView\"}},\"id\":\"3114\",\"type\":\"GlyphRenderer\"},{\"attributes\":{\"fields\":[\"2015\"]},\"id\":\"3107\",\"type\":\"Stack\"},{\"attributes\":{\"fill_alpha\":{\"value\":0.1},\"fill_color\":{\"value\":\"#1f77b4\"},\"height\":{\"value\":0.9},\"left\":{\"expr\":{\"id\":\"3107\",\"type\":\"Stack\"}},\"line_alpha\":{\"value\":0.1},\"line_color\":{\"value\":\"#1f77b4\"},\"right\":{\"expr\":{\"id\":\"3108\",\"type\":\"Stack\"}},\"y\":{\"field\":\"fruits\"}},\"id\":\"3118\",\"type\":\"HBar\"},{\"attributes\":{},\"id\":\"3249\",\"type\":\"UnionRenderers\"},{\"attributes\":{\"fields\":[\"2015\",\"2016\"]},\"id\":\"3109\",\"type\":\"Stack\"},{\"attributes\":{\"ticker\":{\"id\":\"3061\",\"type\":\"BasicTicker\"}},\"id\":\"3064\",\"type\":\"Grid\"},{\"attributes\":{\"source\":{\"id\":\"3082\",\"type\":\"ColumnDataSource\"}},\"id\":\"3093\",\"type\":\"CDSView\"},{\"attributes\":{\"fill_alpha\":{\"value\":0.1},\"fill_color\":{\"value\":\"#1f77b4\"},\"height\":{\"value\":0.9},\"left\":{\"expr\":{\"id\":\"3085\",\"type\":\"Stack\"}},\"line_alpha\":{\"value\":0.1},\"line_color\":{\"value\":\"#1f77b4\"},\"right\":{\"expr\":{\"id\":\"3086\",\"type\":\"Stack\"}},\"y\":{\"field\":\"fruits\"}},\"id\":\"3096\",\"type\":\"HBar\"},{\"attributes\":{\"callback\":null,\"end\":16,\"start\":-16},\"id\":\"3052\",\"type\":\"Range1d\"},{\"attributes\":{\"fill_alpha\":{\"value\":0.1},\"fill_color\":{\"value\":\"#1f77b4\"},\"height\":{\"value\":0.9},\"left\":{\"expr\":{\"id\":\"3083\",\"type\":\"Stack\"}},\"line_alpha\":{\"value\":0.1},\"line_color\":{\"value\":\"#1f77b4\"},\"right\":{\"expr\":{\"id\":\"3084\",\"type\":\"Stack\"}},\"y\":{\"field\":\"fruits\"}},\"id\":\"3091\",\"type\":\"HBar\"},{\"attributes\":{},\"id\":\"3247\",\"type\":\"UnionRenderers\"},{\"attributes\":{},\"id\":\"3245\",\"type\":\"CategoricalTickFormatter\"},{\"attributes\":{\"fill_alpha\":{\"value\":0.1},\"fill_color\":{\"value\":\"#1f77b4\"},\"height\":{\"value\":0.9},\"left\":{\"expr\":{\"id\":\"3087\",\"type\":\"Stack\"}},\"line_alpha\":{\"value\":0.1},\"line_color\":{\"value\":\"#1f77b4\"},\"right\":{\"expr\":{\"id\":\"3088\",\"type\":\"Stack\"}},\"y\":{\"field\":\"fruits\"}},\"id\":\"3101\",\"type\":\"HBar\"},{\"attributes\":{\"source\":{\"id\":\"3104\",\"type\":\"ColumnDataSource\"}},\"id\":\"3115\",\"type\":\"CDSView\"},{\"attributes\":{\"text\":\"Importacion Anual\"},\"id\":\"3050\",\"type\":\"Title\"},{\"attributes\":{\"source\":{\"id\":\"3082\",\"type\":\"ColumnDataSource\"}},\"id\":\"3098\",\"type\":\"CDSView\"},{\"attributes\":{\"source\":{\"id\":\"3082\",\"type\":\"ColumnDataSource\"}},\"id\":\"3103\",\"type\":\"CDSView\"},{\"attributes\":{\"fields\":[\"2015\"]},\"id\":\"3084\",\"type\":\"Stack\"},{\"attributes\":{\"fill_alpha\":{\"value\":0.1},\"fill_color\":{\"value\":\"#1f77b4\"},\"height\":{\"value\":0.9},\"left\":{\"expr\":{\"id\":\"3105\",\"type\":\"Stack\"}},\"line_alpha\":{\"value\":0.1},\"line_color\":{\"value\":\"#1f77b4\"},\"right\":{\"expr\":{\"id\":\"3106\",\"type\":\"Stack\"}},\"y\":{\"field\":\"fruits\"}},\"id\":\"3113\",\"type\":\"HBar\"},{\"attributes\":{},\"id\":\"3070\",\"type\":\"WheelZoomTool\"},{\"attributes\":{\"data_source\":{\"id\":\"3082\",\"type\":\"ColumnDataSource\"},\"glyph\":{\"id\":\"3090\",\"type\":\"HBar\"},\"hover_glyph\":null,\"muted_glyph\":null,\"name\":\"2015\",\"nonselection_glyph\":{\"id\":\"3091\",\"type\":\"HBar\"},\"selection_glyph\":null,\"view\":{\"id\":\"3093\",\"type\":\"CDSView\"}},\"id\":\"3092\",\"type\":\"GlyphRenderer\"},{\"attributes\":{\"callback\":null,\"factors\":[\"Apples\",\"Pears\",\"Nectarines\",\"Plums\",\"Grapes\",\"Strawberries\"],\"range_padding\":0.1},\"id\":\"3054\",\"type\":\"FactorRange\"},{\"attributes\":{},\"id\":\"3066\",\"type\":\"CategoricalTicker\"},{\"attributes\":{\"fill_color\":{\"value\":\"#e0f3db\"},\"height\":{\"value\":0.9},\"left\":{\"expr\":{\"id\":\"3087\",\"type\":\"Stack\"}},\"line_color\":{\"value\":\"#e0f3db\"},\"right\":{\"expr\":{\"id\":\"3088\",\"type\":\"Stack\"}},\"y\":{\"field\":\"fruits\"}},\"id\":\"3100\",\"type\":\"HBar\"},{\"attributes\":{\"dimension\":1,\"grid_line_color\":null,\"ticker\":{\"id\":\"3066\",\"type\":\"CategoricalTicker\"}},\"id\":\"3068\",\"type\":\"Grid\"},{\"attributes\":{\"fill_alpha\":{\"value\":0.1},\"fill_color\":{\"value\":\"#1f77b4\"},\"height\":{\"value\":0.9},\"left\":{\"expr\":{\"id\":\"3109\",\"type\":\"Stack\"}},\"line_alpha\":{\"value\":0.1},\"line_color\":{\"value\":\"#1f77b4\"},\"right\":{\"expr\":{\"id\":\"3110\",\"type\":\"Stack\"}},\"y\":{\"field\":\"fruits\"}},\"id\":\"3123\",\"type\":\"HBar\"},{\"attributes\":{\"fields\":[\"2015\",\"2016\"]},\"id\":\"3086\",\"type\":\"Stack\"},{\"attributes\":{\"source\":{\"id\":\"3104\",\"type\":\"ColumnDataSource\"}},\"id\":\"3125\",\"type\":\"CDSView\"},{\"attributes\":{\"data_source\":{\"id\":\"3082\",\"type\":\"ColumnDataSource\"},\"glyph\":{\"id\":\"3100\",\"type\":\"HBar\"},\"hover_glyph\":null,\"muted_glyph\":null,\"name\":\"2017\",\"nonselection_glyph\":{\"id\":\"3101\",\"type\":\"HBar\"},\"selection_glyph\":null,\"view\":{\"id\":\"3103\",\"type\":\"CDSView\"}},\"id\":\"3102\",\"type\":\"GlyphRenderer\"},{\"attributes\":{},\"id\":\"3243\",\"type\":\"BasicTickFormatter\"},{\"attributes\":{\"bottom_units\":\"screen\",\"fill_alpha\":{\"value\":0.5},\"fill_color\":{\"value\":\"lightgrey\"},\"left_units\":\"screen\",\"level\":\"overlay\",\"line_alpha\":{\"value\":1.0},\"line_color\":{\"value\":\"black\"},\"line_dash\":[4,4],\"line_width\":{\"value\":2},\"render_mode\":\"css\",\"right_units\":\"screen\",\"top_units\":\"screen\"},\"id\":\"3246\",\"type\":\"BoxAnnotation\"},{\"attributes\":{\"fields\":[\"2015\",\"2016\"]},\"id\":\"3087\",\"type\":\"Stack\"},{\"attributes\":{},\"id\":\"3058\",\"type\":\"CategoricalScale\"},{\"attributes\":{\"fields\":[\"2015\",\"2016\"]},\"id\":\"3108\",\"type\":\"Stack\"},{\"attributes\":{\"data_source\":{\"id\":\"3082\",\"type\":\"ColumnDataSource\"},\"glyph\":{\"id\":\"3095\",\"type\":\"HBar\"},\"hover_glyph\":null,\"muted_glyph\":null,\"name\":\"2016\",\"nonselection_glyph\":{\"id\":\"3096\",\"type\":\"HBar\"},\"selection_glyph\":null,\"view\":{\"id\":\"3098\",\"type\":\"CDSView\"}},\"id\":\"3097\",\"type\":\"GlyphRenderer\"},{\"attributes\":{\"fill_color\":{\"value\":\"#fdbb84\"},\"height\":{\"value\":0.9},\"left\":{\"expr\":{\"id\":\"3107\",\"type\":\"Stack\"}},\"line_color\":{\"value\":\"#fdbb84\"},\"right\":{\"expr\":{\"id\":\"3108\",\"type\":\"Stack\"}},\"y\":{\"field\":\"fruits\"}},\"id\":\"3117\",\"type\":\"HBar\"},{\"attributes\":{\"fields\":[\"2015\",\"2016\",\"2017\"]},\"id\":\"3088\",\"type\":\"Stack\"},{\"attributes\":{\"fields\":[\"2015\",\"2016\",\"2017\"]},\"id\":\"3110\",\"type\":\"Stack\"},{\"attributes\":{\"active_drag\":\"auto\",\"active_inspect\":\"auto\",\"active_multi\":null,\"active_scroll\":\"auto\",\"active_tap\":\"auto\",\"tools\":[{\"id\":\"3069\",\"type\":\"PanTool\"},{\"id\":\"3070\",\"type\":\"WheelZoomTool\"},{\"id\":\"3071\",\"type\":\"BoxZoomTool\"},{\"id\":\"3072\",\"type\":\"SaveTool\"},{\"id\":\"3073\",\"type\":\"ResetTool\"},{\"id\":\"3074\",\"type\":\"HelpTool\"}]},\"id\":\"3075\",\"type\":\"Toolbar\"},{\"attributes\":{\"fill_color\":{\"value\":\"#43a2ca\"},\"height\":{\"value\":0.9},\"left\":{\"expr\":{\"id\":\"3083\",\"type\":\"Stack\"}},\"line_color\":{\"value\":\"#43a2ca\"},\"right\":{\"expr\":{\"id\":\"3084\",\"type\":\"Stack\"}},\"y\":{\"field\":\"fruits\"}},\"id\":\"3090\",\"type\":\"HBar\"},{\"attributes\":{\"callback\":null,\"data\":{\"2015\":[-1,0,-1,-3,-2,-1],\"2016\":[-2,-1,-3,-1,-2,-2],\"2017\":[-1,-2,-1,0,-2,-2],\"fruits\":[\"Apples\",\"Pears\",\"Nectarines\",\"Plums\",\"Grapes\",\"Strawberries\"]},\"selected\":{\"id\":\"3250\",\"type\":\"Selection\"},\"selection_policy\":{\"id\":\"3249\",\"type\":\"UnionRenderers\"}},\"id\":\"3104\",\"type\":\"ColumnDataSource\"},{\"attributes\":{\"data_source\":{\"id\":\"3104\",\"type\":\"ColumnDataSource\"},\"glyph\":{\"id\":\"3122\",\"type\":\"HBar\"},\"hover_glyph\":null,\"muted_glyph\":null,\"name\":\"2017\",\"nonselection_glyph\":{\"id\":\"3123\",\"type\":\"HBar\"},\"selection_glyph\":null,\"view\":{\"id\":\"3125\",\"type\":\"CDSView\"}},\"id\":\"3124\",\"type\":\"GlyphRenderer\"},{\"attributes\":{},\"id\":\"3056\",\"type\":\"LinearScale\"}],\"root_ids\":[\"3049\"]},\"title\":\"Bokeh Application\",\"version\":\"1.3.4\"}};\n",
       "  var render_items = [{\"docid\":\"d65778fc-d2cb-481a-b4d4-26013269b51b\",\"roots\":{\"3049\":\"7bbdb531-6bfd-4586-a896-2537e3aaf3d4\"}}];\n",
       "  root.Bokeh.embed.embed_items_notebook(docs_json, render_items);\n",
       "\n",
       "  }\n",
       "  if (root.Bokeh !== undefined) {\n",
       "    embed_document(root);\n",
       "  } else {\n",
       "    var attempts = 0;\n",
       "    var timer = setInterval(function(root) {\n",
       "      if (root.Bokeh !== undefined) {\n",
       "        embed_document(root);\n",
       "        clearInterval(timer);\n",
       "      }\n",
       "      attempts++;\n",
       "      if (attempts > 100) {\n",
       "        console.log(\"Bokeh: ERROR: Unable to run BokehJS code because BokehJS library is missing\");\n",
       "        clearInterval(timer);\n",
       "      }\n",
       "    }, 10, root)\n",
       "  }\n",
       "})(window);"
      ],
      "application/vnd.bokehjs_exec.v0+json": ""
     },
     "metadata": {
      "application/vnd.bokehjs_exec.v0+json": {
       "id": "3049"
      }
     },
     "output_type": "display_data"
    }
   ],
   "source": [
    "from bokeh.palettes import GnBu3, OrRd3\n",
    "\n",
    "years = ['2015', '2016', '2017']\n",
    "\n",
    "exports = {'fruits' : fruits,\n",
    "           '2015'   : [2, 1, 4, 3, 2, 4],\n",
    "           '2016'   : [5, 3, 4, 2, 4, 6],\n",
    "           '2017'   : [3, 2, 4, 4, 5, 3]}\n",
    "imports = {'fruits' : fruits,\n",
    "           '2015'   : [-1, 0, -1, -3, -2, -1],\n",
    "           '2016'   : [-2, -1, -3, -1, -2, -2],\n",
    "           '2017'   : [-1, -2, -1, 0, -2, -2]}\n",
    "\n",
    "p = figure(y_range=fruits, plot_height=250, x_range=(-16, 16), title=\"Importacion Anual\")\n",
    "\n",
    "p.hbar_stack(years, y='fruits', height=0.9, color=GnBu3, source=ColumnDataSource(exports))\n",
    "\n",
    "p.hbar_stack(years, y='fruits', height=0.9, color=OrRd3, source=ColumnDataSource(imports))\n",
    "\n",
    "p.y_range.range_padding = 0.1\n",
    "p.ygrid.grid_line_color = None\n",
    "p.legend.location = \"center_left\"\n",
    "\n",
    "show(p)"
   ]
  },
  {
   "cell_type": "markdown",
   "metadata": {},
   "source": [
    "## Barras Agrupadas"
   ]
  },
  {
   "cell_type": "code",
   "execution_count": 32,
   "metadata": {},
   "outputs": [
    {
     "data": {
      "text/html": [
       "\n",
       "\n",
       "\n",
       "\n",
       "\n",
       "\n",
       "  <div class=\"bk-root\" id=\"04e68340-0485-40db-ba77-c39e14b98997\" data-root-id=\"3533\"></div>\n"
      ]
     },
     "metadata": {},
     "output_type": "display_data"
    },
    {
     "data": {
      "application/javascript": [
       "(function(root) {\n",
       "  function embed_document(root) {\n",
       "    \n",
       "  var docs_json = {\"ce59309f-6448-437d-b5a6-7b01106edf11\":{\"roots\":{\"references\":[{\"attributes\":{\"below\":[{\"id\":\"3543\",\"type\":\"CategoricalAxis\"}],\"center\":[{\"id\":\"3546\",\"type\":\"Grid\"},{\"id\":\"3551\",\"type\":\"Grid\"}],\"left\":[{\"id\":\"3547\",\"type\":\"LinearAxis\"}],\"plot_height\":250,\"renderers\":[{\"id\":\"3568\",\"type\":\"GlyphRenderer\"}],\"title\":{\"id\":\"3534\",\"type\":\"Title\"},\"toolbar\":{\"id\":\"3558\",\"type\":\"Toolbar\"},\"x_range\":{\"id\":\"3532\",\"type\":\"FactorRange\"},\"x_scale\":{\"id\":\"3539\",\"type\":\"CategoricalScale\"},\"y_range\":{\"id\":\"3537\",\"type\":\"DataRange1d\"},\"y_scale\":{\"id\":\"3541\",\"type\":\"LinearScale\"}},\"id\":\"3533\",\"subtype\":\"Figure\",\"type\":\"Plot\"},{\"attributes\":{\"callback\":null,\"start\":0},\"id\":\"3537\",\"type\":\"DataRange1d\"},{\"attributes\":{\"data_source\":{\"id\":\"3531\",\"type\":\"ColumnDataSource\"},\"glyph\":{\"id\":\"3566\",\"type\":\"VBar\"},\"hover_glyph\":null,\"muted_glyph\":null,\"nonselection_glyph\":{\"id\":\"3567\",\"type\":\"VBar\"},\"selection_glyph\":null,\"view\":{\"id\":\"3569\",\"type\":\"CDSView\"}},\"id\":\"3568\",\"type\":\"GlyphRenderer\"},{\"attributes\":{},\"id\":\"3555\",\"type\":\"SaveTool\"},{\"attributes\":{\"fill_alpha\":{\"value\":0.1},\"fill_color\":{\"value\":\"#1f77b4\"},\"line_alpha\":{\"value\":0.1},\"line_color\":{\"value\":\"#1f77b4\"},\"top\":{\"field\":\"counts\"},\"width\":{\"value\":0.9},\"x\":{\"field\":\"x\"}},\"id\":\"3567\",\"type\":\"VBar\"},{\"attributes\":{},\"id\":\"3710\",\"type\":\"Selection\"},{\"attributes\":{},\"id\":\"3548\",\"type\":\"BasicTicker\"},{\"attributes\":{\"source\":{\"id\":\"3531\",\"type\":\"ColumnDataSource\"}},\"id\":\"3569\",\"type\":\"CDSView\"},{\"attributes\":{\"dimension\":1,\"ticker\":{\"id\":\"3548\",\"type\":\"BasicTicker\"}},\"id\":\"3551\",\"type\":\"Grid\"},{\"attributes\":{\"formatter\":{\"id\":\"3707\",\"type\":\"BasicTickFormatter\"},\"ticker\":{\"id\":\"3548\",\"type\":\"BasicTicker\"}},\"id\":\"3547\",\"type\":\"LinearAxis\"},{\"attributes\":{\"callback\":null,\"data\":{\"counts\":[2,5,3,1,3,2,4,3,4,3,2,4,2,4,5,4,6,3],\"x\":[[\"Apples\",\"2015\"],[\"Apples\",\"2016\"],[\"Apples\",\"2017\"],[\"Pears\",\"2015\"],[\"Pears\",\"2016\"],[\"Pears\",\"2017\"],[\"Nectarines\",\"2015\"],[\"Nectarines\",\"2016\"],[\"Nectarines\",\"2017\"],[\"Plums\",\"2015\"],[\"Plums\",\"2016\"],[\"Plums\",\"2017\"],[\"Grapes\",\"2015\"],[\"Grapes\",\"2016\"],[\"Grapes\",\"2017\"],[\"Strawberries\",\"2015\"],[\"Strawberries\",\"2016\"],[\"Strawberries\",\"2017\"]]},\"selected\":{\"id\":\"3710\",\"type\":\"Selection\"},\"selection_policy\":{\"id\":\"3709\",\"type\":\"UnionRenderers\"}},\"id\":\"3531\",\"type\":\"ColumnDataSource\"},{\"attributes\":{\"active_drag\":\"auto\",\"active_inspect\":\"auto\",\"active_multi\":null,\"active_scroll\":\"auto\",\"active_tap\":\"auto\",\"tools\":[{\"id\":\"3552\",\"type\":\"PanTool\"},{\"id\":\"3553\",\"type\":\"WheelZoomTool\"},{\"id\":\"3554\",\"type\":\"BoxZoomTool\"},{\"id\":\"3555\",\"type\":\"SaveTool\"},{\"id\":\"3556\",\"type\":\"ResetTool\"},{\"id\":\"3557\",\"type\":\"HelpTool\"}]},\"id\":\"3558\",\"type\":\"Toolbar\"},{\"attributes\":{},\"id\":\"3541\",\"type\":\"LinearScale\"},{\"attributes\":{},\"id\":\"3557\",\"type\":\"HelpTool\"},{\"attributes\":{},\"id\":\"3709\",\"type\":\"UnionRenderers\"},{\"attributes\":{\"text\":\"Conteo Anual\"},\"id\":\"3534\",\"type\":\"Title\"},{\"attributes\":{\"bottom_units\":\"screen\",\"fill_alpha\":{\"value\":0.5},\"fill_color\":{\"value\":\"lightgrey\"},\"left_units\":\"screen\",\"level\":\"overlay\",\"line_alpha\":{\"value\":1.0},\"line_color\":{\"value\":\"black\"},\"line_dash\":[4,4],\"line_width\":{\"value\":2},\"render_mode\":\"css\",\"right_units\":\"screen\",\"top_units\":\"screen\"},\"id\":\"3708\",\"type\":\"BoxAnnotation\"},{\"attributes\":{},\"id\":\"3707\",\"type\":\"BasicTickFormatter\"},{\"attributes\":{},\"id\":\"3556\",\"type\":\"ResetTool\"},{\"attributes\":{},\"id\":\"3539\",\"type\":\"CategoricalScale\"},{\"attributes\":{\"formatter\":{\"id\":\"3705\",\"type\":\"CategoricalTickFormatter\"},\"major_label_orientation\":1,\"ticker\":{\"id\":\"3544\",\"type\":\"CategoricalTicker\"}},\"id\":\"3543\",\"type\":\"CategoricalAxis\"},{\"attributes\":{\"callback\":null,\"factors\":[[\"Apples\",\"2015\"],[\"Apples\",\"2016\"],[\"Apples\",\"2017\"],[\"Pears\",\"2015\"],[\"Pears\",\"2016\"],[\"Pears\",\"2017\"],[\"Nectarines\",\"2015\"],[\"Nectarines\",\"2016\"],[\"Nectarines\",\"2017\"],[\"Plums\",\"2015\"],[\"Plums\",\"2016\"],[\"Plums\",\"2017\"],[\"Grapes\",\"2015\"],[\"Grapes\",\"2016\"],[\"Grapes\",\"2017\"],[\"Strawberries\",\"2015\"],[\"Strawberries\",\"2016\"],[\"Strawberries\",\"2017\"]],\"range_padding\":0.1},\"id\":\"3532\",\"type\":\"FactorRange\"},{\"attributes\":{},\"id\":\"3544\",\"type\":\"CategoricalTicker\"},{\"attributes\":{},\"id\":\"3705\",\"type\":\"CategoricalTickFormatter\"},{\"attributes\":{\"overlay\":{\"id\":\"3708\",\"type\":\"BoxAnnotation\"}},\"id\":\"3554\",\"type\":\"BoxZoomTool\"},{\"attributes\":{\"fill_color\":{\"value\":\"#1f77b4\"},\"line_color\":{\"value\":\"#1f77b4\"},\"top\":{\"field\":\"counts\"},\"width\":{\"value\":0.9},\"x\":{\"field\":\"x\"}},\"id\":\"3566\",\"type\":\"VBar\"},{\"attributes\":{},\"id\":\"3552\",\"type\":\"PanTool\"},{\"attributes\":{\"grid_line_color\":null,\"ticker\":{\"id\":\"3544\",\"type\":\"CategoricalTicker\"}},\"id\":\"3546\",\"type\":\"Grid\"},{\"attributes\":{},\"id\":\"3553\",\"type\":\"WheelZoomTool\"}],\"root_ids\":[\"3533\"]},\"title\":\"Bokeh Application\",\"version\":\"1.3.4\"}};\n",
       "  var render_items = [{\"docid\":\"ce59309f-6448-437d-b5a6-7b01106edf11\",\"roots\":{\"3533\":\"04e68340-0485-40db-ba77-c39e14b98997\"}}];\n",
       "  root.Bokeh.embed.embed_items_notebook(docs_json, render_items);\n",
       "\n",
       "  }\n",
       "  if (root.Bokeh !== undefined) {\n",
       "    embed_document(root);\n",
       "  } else {\n",
       "    var attempts = 0;\n",
       "    var timer = setInterval(function(root) {\n",
       "      if (root.Bokeh !== undefined) {\n",
       "        embed_document(root);\n",
       "        clearInterval(timer);\n",
       "      }\n",
       "      attempts++;\n",
       "      if (attempts > 100) {\n",
       "        console.log(\"Bokeh: ERROR: Unable to run BokehJS code because BokehJS library is missing\");\n",
       "        clearInterval(timer);\n",
       "      }\n",
       "    }, 10, root)\n",
       "  }\n",
       "})(window);"
      ],
      "application/vnd.bokehjs_exec.v0+json": ""
     },
     "metadata": {
      "application/vnd.bokehjs_exec.v0+json": {
       "id": "3533"
      }
     },
     "output_type": "display_data"
    }
   ],
   "source": [
    "from bokeh.models import FactorRange\n",
    "\n",
    "fruits = ['Apples', 'Pears', 'Nectarines', 'Plums', 'Grapes', 'Strawberries']\n",
    "years = ['2015', '2016', '2017']\n",
    "\n",
    "data = {'fruits' : fruits,\n",
    "        '2015'   : [2, 1, 4, 3, 2, 4],\n",
    "        '2016'   : [5, 3, 3, 2, 4, 6],\n",
    "        '2017'   : [3, 2, 4, 4, 5, 3]}\n",
    "\n",
    "# this creates [ (\"Apples\", \"2015\"), (\"Apples\", \"2016\"), (\"Apples\", \"2017\"), (\"Pears\", \"2015), ... ]\n",
    "x = [ (fruit, year) for fruit in fruits for year in years ]\n",
    "counts = sum(zip(data['2015'], data['2016'], data['2017']), ()) # like an hstack\n",
    "\n",
    "source = ColumnDataSource(data=dict(x=x, counts=counts))\n",
    "\n",
    "p = figure(x_range=FactorRange(*x), plot_height=250, title=\"Conteo Anual\")\n",
    "\n",
    "p.vbar(x='x', top='counts', width=0.9, source=source)\n",
    "\n",
    "p.y_range.start = 0\n",
    "p.x_range.range_padding = 0.1\n",
    "p.xaxis.major_label_orientation = 1\n",
    "p.xgrid.grid_line_color = None\n",
    "\n",
    "show(p)"
   ]
  },
  {
   "cell_type": "code",
   "execution_count": null,
   "metadata": {},
   "outputs": [],
   "source": []
  }
 ],
 "metadata": {
  "kernelspec": {
   "display_name": "Python 3",
   "language": "python",
   "name": "python3"
  },
  "language_info": {
   "codemirror_mode": {
    "name": "ipython",
    "version": 3
   },
   "file_extension": ".py",
   "mimetype": "text/x-python",
   "name": "python",
   "nbconvert_exporter": "python",
   "pygments_lexer": "ipython3",
   "version": "3.7.4"
  }
 },
 "nbformat": 4,
 "nbformat_minor": 4
}
