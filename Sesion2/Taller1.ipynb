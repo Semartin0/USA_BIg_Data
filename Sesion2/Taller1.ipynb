{
 "cells": [
  {
   "cell_type": "markdown",
   "metadata": {},
   "source": [
    "<img src=\"https://www.usergioarboleda.edu.co/wp-content/uploads/ultimatum/imagens/logo-mobile-UniversidadSergioArboleda.png\" alt=\"USA\" width=700>"
   ]
  },
  {
   "cell_type": "markdown",
   "metadata": {},
   "source": [
    "# 1. Resulelva las siguientes operaciones"
   ]
  },
  {
   "cell_type": "markdown",
   "metadata": {},
   "source": [
    "Sean las matrices:\n",
    "\n",
    "\n",
    "$$ B = \n",
    "\\left(\\begin{array}{ccc} \n",
    "1 & 2 & -3\\\\\n",
    "3 & 4 & -1\\\\\n",
    "\\end{array}\\right)\n",
    ", A= \n",
    "\\left(\\begin{array}{ccc} \n",
    "2 & -5 & 1\\\\\n",
    "1 & 4 & 5\\\\\n",
    "2 & -1 & 6\\\\\n",
    "\\end{array}\\right)\n",
    "$$\n",
    "\n",
    "Calcule e imprima cada una de las siguientes operaciones:\n",
    "\n",
    "* $BA$ \n",
    "\n",
    "\n",
    "* $AB^T$\n",
    "\n",
    "\n",
    "* $Ay$"
   ]
  },
  {
   "cell_type": "markdown",
   "metadata": {},
   "source": [
    "# 2. Defina la siguiente funcion"
   ]
  },
  {
   "cell_type": "markdown",
   "metadata": {
    "colab_type": "text",
    "id": "ShNSfeOK4TQl"
   },
   "source": [
    "Se plantea escribir una funcion de python que permita definir el tipo de multa para un agente de transito. Escriba una función para devolver uno de los 3 resultados posibles: \"Sin multa\", \"Multa pequeña\" o \"Multa grande\". Si su velocidad es de 60 o menos, el resultado es \"Sin multa\". Si la velocidad está entre 61 y 80 inclusive, el resultado es \"Multa pequeña\". Si la velocidad es 81 o más, el resultado es \"Multa grande\" **"
   ]
  },
  {
   "cell_type": "markdown",
   "metadata": {},
   "source": [
    "# 2. Explique y corrija los siguientes errores"
   ]
  },
  {
   "cell_type": "code",
   "execution_count": null,
   "metadata": {},
   "outputs": [],
   "source": [
    "seasons = ['Spring', 'Summer', 'Fall', 'Winter']\n",
    "print('My favorite season is ', seasons[4])"
   ]
  },
  {
   "cell_type": "code",
   "execution_count": null,
   "metadata": {},
   "outputs": [],
   "source": [
    "def favorite_ice_cream():\n",
    "    ice_creams = [\n",
    "        \"chocolate\",\n",
    "        \"vanilla\",\n",
    "        \"strawberry\"\n",
    "    ]\n",
    "    print(ice_creams[3])\n",
    "\n",
    "favorite_ice_cream()"
   ]
  },
  {
   "cell_type": "code",
   "execution_count": null,
   "metadata": {},
   "outputs": [],
   "source": [
    "def some_function()\n",
    "    msg = \"hello, world!\"\n",
    "    print(msg)\n",
    "     return msg"
   ]
  },
  {
   "cell_type": "code",
   "execution_count": null,
   "metadata": {},
   "outputs": [],
   "source": [
    "def some_function():\n",
    "    msg = \"hello, world!\"\n",
    "    print(msg)\n",
    "     return msg"
   ]
  },
  {
   "cell_type": "code",
   "execution_count": null,
   "metadata": {},
   "outputs": [],
   "source": [
    "def some_function():\n",
    "    msg = \"hello, world!\"\n",
    "    print(msg)\n",
    "\treturn msg"
   ]
  },
  {
   "cell_type": "code",
   "execution_count": null,
   "metadata": {},
   "outputs": [],
   "source": [
    "for number in range(10):\n",
    "    count = count + number\n",
    "print(\"The count is:\", count)"
   ]
  },
  {
   "cell_type": "code",
   "execution_count": null,
   "metadata": {},
   "outputs": [],
   "source": []
  }
 ],
 "metadata": {
  "kernelspec": {
   "display_name": "Python 3",
   "language": "python",
   "name": "python3"
  },
  "language_info": {
   "codemirror_mode": {
    "name": "ipython",
    "version": 3
   },
   "file_extension": ".py",
   "mimetype": "text/x-python",
   "name": "python",
   "nbconvert_exporter": "python",
   "pygments_lexer": "ipython3",
   "version": "3.7.4"
  }
 },
 "nbformat": 4,
 "nbformat_minor": 4
}
